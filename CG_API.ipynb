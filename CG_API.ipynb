{
 "cells": [
  {
   "cell_type": "code",
   "execution_count": 1,
   "id": "0871212b-0d47-445a-b951-86a962b27b58",
   "metadata": {
    "tags": []
   },
   "outputs": [],
   "source": [
    "import requests as rq\n",
    "import json\n",
    "import pandas as pd\n",
    "pd.options.plotting.backend = \"plotly\""
   ]
  },
  {
   "cell_type": "code",
   "execution_count": 2,
   "id": "81d1c986-8175-45da-8681-869baf8277c7",
   "metadata": {
    "tags": []
   },
   "outputs": [],
   "source": [
    "# Get API key\n",
    "def get_key():\n",
    "    f = open(\"/home/vikas/Documents/CG_key.json\")\n",
    "    key_dict = json.load(f)\n",
    "    return key_dict[\"key\"] "
   ]
  },
  {
   "cell_type": "markdown",
   "id": "92e5d0a0-aa9f-4b43-a9eb-5977535b3e91",
   "metadata": {
    "tags": []
   },
   "source": [
    "## Check API status"
   ]
  },
  {
   "cell_type": "code",
   "execution_count": 3,
   "id": "4cd65389-6186-4121-88f5-134969e5b976",
   "metadata": {
    "tags": []
   },
   "outputs": [],
   "source": [
    "PUB_URL = \"https://api.coingecko.com/api/v3\"\n",
    "PRO_URL = \"https://pro-api.coingecko.com/api/v3\""
   ]
  },
  {
   "cell_type": "code",
   "execution_count": 4,
   "id": "b7141e7a-66cc-45dc-a8eb-5e51fb470cc6",
   "metadata": {
    "tags": []
   },
   "outputs": [],
   "source": [
    "def get_response(endpoint, headers, params, URL):\n",
    "    url = \"\".join((URL, endpoint))\n",
    "    response = rq.get(url, headers = headers, params = params)\n",
    "    if response.status_code == 200:\n",
    "        data = response.json()\n",
    "        return data\n",
    "    else:\n",
    "        print(f\"Failed to fetch data, check status code {response.status_code}\")    "
   ]
  },
  {
   "cell_type": "code",
   "execution_count": 5,
   "id": "05327da0-99ad-48d7-a6cf-386d86a0c836",
   "metadata": {
    "tags": []
   },
   "outputs": [],
   "source": [
    "use_demo = {\"accept\": \"application/json\"}"
   ]
  },
  {
   "cell_type": "code",
   "execution_count": 6,
   "id": "5967b053-2ddb-4820-9eb7-4d39b5207c68",
   "metadata": {
    "tags": []
   },
   "outputs": [
    {
     "data": {
      "text/plain": [
       "{'gecko_says': '(V3) To the Moon!'}"
      ]
     },
     "execution_count": 6,
     "metadata": {},
     "output_type": "execute_result"
    }
   ],
   "source": [
    "get_response(\"/ping\", use_demo, \"\", PUB_URL)"
   ]
  },
  {
   "cell_type": "code",
   "execution_count": 7,
   "id": "0b881d20-f6c5-4168-b84d-23dbd7b42a20",
   "metadata": {
    "tags": []
   },
   "outputs": [],
   "source": [
    "use_pro = {\n",
    "         \"accept\": \"application/json\",\n",
    "         \"x-cg-pro-api-key\" : get_key()          \n",
    "}"
   ]
  },
  {
   "cell_type": "markdown",
   "id": "45c32170-836c-4100-aae5-b93f0118c3e4",
   "metadata": {
    "tags": []
   },
   "source": [
    "## NFTs"
   ]
  },
  {
   "cell_type": "markdown",
   "id": "ebf98bdd-b73f-4d9c-929f-8e92a19c7346",
   "metadata": {
    "tags": []
   },
   "source": [
    "#### Demo API"
   ]
  },
  {
   "cell_type": "code",
   "execution_count": 8,
   "id": "f265615e-e4de-4517-84cb-ab0c09b34d05",
   "metadata": {
    "tags": []
   },
   "outputs": [],
   "source": [
    "nft_params = {\n",
    "            \"order\": \"market_cap_usd_desc\",\n",
    "            \"per_page\": 20,\n",
    "            \"page\": 1\n",
    "}"
   ]
  },
  {
   "cell_type": "code",
   "execution_count": 9,
   "id": "01173966-6a54-44d5-b57f-f7d7de7947a0",
   "metadata": {
    "tags": []
   },
   "outputs": [],
   "source": [
    "nft_list_response = get_response(\"/nfts/list\", use_demo, nft_params, PUB_URL)"
   ]
  },
  {
   "cell_type": "code",
   "execution_count": 10,
   "id": "d2fab61b-3120-4ba9-826b-654f5a4d1311",
   "metadata": {
    "tags": []
   },
   "outputs": [],
   "source": [
    "df_nft = pd.DataFrame(nft_list_response)"
   ]
  },
  {
   "cell_type": "code",
   "execution_count": 11,
   "id": "adeb3db7-eceb-4357-a709-d601e9ee9a7c",
   "metadata": {
    "tags": []
   },
   "outputs": [
    {
     "data": {
      "text/html": [
       "<div>\n",
       "<style scoped>\n",
       "    .dataframe tbody tr th:only-of-type {\n",
       "        vertical-align: middle;\n",
       "    }\n",
       "\n",
       "    .dataframe tbody tr th {\n",
       "        vertical-align: top;\n",
       "    }\n",
       "\n",
       "    .dataframe thead th {\n",
       "        text-align: right;\n",
       "    }\n",
       "</style>\n",
       "<table border=\"1\" class=\"dataframe\">\n",
       "  <thead>\n",
       "    <tr style=\"text-align: right;\">\n",
       "      <th></th>\n",
       "      <th>id</th>\n",
       "      <th>contract_address</th>\n",
       "      <th>name</th>\n",
       "      <th>asset_platform_id</th>\n",
       "      <th>symbol</th>\n",
       "    </tr>\n",
       "  </thead>\n",
       "  <tbody>\n",
       "    <tr>\n",
       "      <th>0</th>\n",
       "      <td>cryptopunks</td>\n",
       "      <td>0xb47e3cd837dDF8e4c57F05d70Ab865de6e193BBB</td>\n",
       "      <td>CryptoPunks</td>\n",
       "      <td>ethereum</td>\n",
       "      <td>PUNK</td>\n",
       "    </tr>\n",
       "    <tr>\n",
       "      <th>1</th>\n",
       "      <td>bored-ape-yacht-club</td>\n",
       "      <td>0xbc4ca0eda7647a8ab7c2061c2e118a18a936f13d</td>\n",
       "      <td>Bored Ape Yacht Club</td>\n",
       "      <td>ethereum</td>\n",
       "      <td>BAYC</td>\n",
       "    </tr>\n",
       "    <tr>\n",
       "      <th>2</th>\n",
       "      <td>the-crop-collective</td>\n",
       "      <td>0xe5863d4a57b1e2d7031f7969fee4f56bb04c0f17</td>\n",
       "      <td>The Crop Collective</td>\n",
       "      <td>ethereum</td>\n",
       "      <td>$TCC</td>\n",
       "    </tr>\n",
       "    <tr>\n",
       "      <th>3</th>\n",
       "      <td>mutant-ape-yacht-club</td>\n",
       "      <td>0x60e4d786628fea6478f785a6d7e704777c86a7c6</td>\n",
       "      <td>Mutant Ape Yacht Club</td>\n",
       "      <td>ethereum</td>\n",
       "      <td>MAYC</td>\n",
       "    </tr>\n",
       "    <tr>\n",
       "      <th>4</th>\n",
       "      <td>chromie-squiggle-by-snowfro</td>\n",
       "      <td>0x059edd72cd353df5106d2b9cc5ab83a52287ac3a</td>\n",
       "      <td>Chromie Squiggle by Snowfro</td>\n",
       "      <td>ethereum</td>\n",
       "      <td>BLOCKS</td>\n",
       "    </tr>\n",
       "    <tr>\n",
       "      <th>5</th>\n",
       "      <td>autoglyphs</td>\n",
       "      <td>0xd4e4078ca3495de5b1d4db434bebc5a986197782</td>\n",
       "      <td>Autoglyphs</td>\n",
       "      <td>ethereum</td>\n",
       "      <td>☵</td>\n",
       "    </tr>\n",
       "    <tr>\n",
       "      <th>6</th>\n",
       "      <td>fidenza-by-tyler-hobbs</td>\n",
       "      <td>0xa7d8d9ef8d8ce8992df33d8b8cf4aebabd5bd270</td>\n",
       "      <td>Fidenza by Tyler Hobbs</td>\n",
       "      <td>ethereum</td>\n",
       "      <td>BLOCKS</td>\n",
       "    </tr>\n",
       "    <tr>\n",
       "      <th>7</th>\n",
       "      <td>azuki</td>\n",
       "      <td>0xed5af388653567af2f388e6224dc7c4b3241c544</td>\n",
       "      <td>Azuki</td>\n",
       "      <td>ethereum</td>\n",
       "      <td>AZUKI</td>\n",
       "    </tr>\n",
       "    <tr>\n",
       "      <th>8</th>\n",
       "      <td>the-almighty-sparrows</td>\n",
       "      <td>0xcaa1c15fe6c71033172133c65c2e6ca327c13ac2</td>\n",
       "      <td>The Almighty Sparrows</td>\n",
       "      <td>ethereum</td>\n",
       "      <td>Sparrows</td>\n",
       "    </tr>\n",
       "    <tr>\n",
       "      <th>9</th>\n",
       "      <td>wrapped-cryptopunks</td>\n",
       "      <td>0xb7f7f6c52f2e2fdb1963eab30438024864c313f6</td>\n",
       "      <td>Wrapped Cryptopunks</td>\n",
       "      <td>ethereum</td>\n",
       "      <td>WPUNKS</td>\n",
       "    </tr>\n",
       "    <tr>\n",
       "      <th>10</th>\n",
       "      <td>pudgy-penguins</td>\n",
       "      <td>0xBd3531dA5CF5857e7CfAA92426877b022e612cf8</td>\n",
       "      <td>Pudgy Penguins</td>\n",
       "      <td>ethereum</td>\n",
       "      <td>PPG</td>\n",
       "    </tr>\n",
       "    <tr>\n",
       "      <th>11</th>\n",
       "      <td>ringers-by-dmitri-cherniak</td>\n",
       "      <td>0xa7d8d9ef8d8ce8992df33d8b8cf4aebabd5bd270</td>\n",
       "      <td>Ringers by Dmitri Cherniak</td>\n",
       "      <td>ethereum</td>\n",
       "      <td>BLOCKS</td>\n",
       "    </tr>\n",
       "    <tr>\n",
       "      <th>12</th>\n",
       "      <td>space-doodles</td>\n",
       "      <td>0x620b70123fb810f6c653da7644b5dd0b6312e4d8</td>\n",
       "      <td>Space Doodles</td>\n",
       "      <td>ethereum</td>\n",
       "      <td>SDOODLE</td>\n",
       "    </tr>\n",
       "    <tr>\n",
       "      <th>13</th>\n",
       "      <td>the-captainz</td>\n",
       "      <td>0x769272677fab02575e84945f03eca517acc544cc</td>\n",
       "      <td>Captainz</td>\n",
       "      <td>ethereum</td>\n",
       "      <td>Captainz</td>\n",
       "    </tr>\n",
       "    <tr>\n",
       "      <th>14</th>\n",
       "      <td>era7-nft</td>\n",
       "      <td>0x07d971c03553011a48e951a53f48632d37652ba1</td>\n",
       "      <td>Era7 NFT</td>\n",
       "      <td>binance-smart-chain</td>\n",
       "      <td>ERANFT</td>\n",
       "    </tr>\n",
       "    <tr>\n",
       "      <th>15</th>\n",
       "      <td>sandbox</td>\n",
       "      <td>0x5CC5B05a8A13E3fBDB0BB9FcCd98D38e50F90c38</td>\n",
       "      <td>LAND</td>\n",
       "      <td>ethereum</td>\n",
       "      <td>Sandbox's LANDs</td>\n",
       "    </tr>\n",
       "    <tr>\n",
       "      <th>16</th>\n",
       "      <td>decentraland</td>\n",
       "      <td>0xF87E31492Faf9A91B02Ee0dEAAd50d51d56D5d4d</td>\n",
       "      <td>Decentraland</td>\n",
       "      <td>ethereum</td>\n",
       "      <td>LAND</td>\n",
       "    </tr>\n",
       "    <tr>\n",
       "      <th>17</th>\n",
       "      <td>meebits</td>\n",
       "      <td>0x7Bd29408f11D2bFC23c34f18275bBf23bB716Bc7</td>\n",
       "      <td>Meebits</td>\n",
       "      <td>ethereum</td>\n",
       "      <td>⚇</td>\n",
       "    </tr>\n",
       "    <tr>\n",
       "      <th>18</th>\n",
       "      <td>clonex</td>\n",
       "      <td>0x49cf6f5d44e70224e2e23fdcdd2c053f30ada28b</td>\n",
       "      <td>Clone X</td>\n",
       "      <td>ethereum</td>\n",
       "      <td>CloneX</td>\n",
       "    </tr>\n",
       "    <tr>\n",
       "      <th>19</th>\n",
       "      <td>otherdeed-for-otherside</td>\n",
       "      <td>0x34d85c9cdeb23fa97cb08333b511ac86e1c4e258</td>\n",
       "      <td>Otherdeed for Otherside</td>\n",
       "      <td>ethereum</td>\n",
       "      <td>OTHR</td>\n",
       "    </tr>\n",
       "  </tbody>\n",
       "</table>\n",
       "</div>"
      ],
      "text/plain": [
       "                             id                            contract_address  \\\n",
       "0                   cryptopunks  0xb47e3cd837dDF8e4c57F05d70Ab865de6e193BBB   \n",
       "1          bored-ape-yacht-club  0xbc4ca0eda7647a8ab7c2061c2e118a18a936f13d   \n",
       "2           the-crop-collective  0xe5863d4a57b1e2d7031f7969fee4f56bb04c0f17   \n",
       "3         mutant-ape-yacht-club  0x60e4d786628fea6478f785a6d7e704777c86a7c6   \n",
       "4   chromie-squiggle-by-snowfro  0x059edd72cd353df5106d2b9cc5ab83a52287ac3a   \n",
       "5                    autoglyphs  0xd4e4078ca3495de5b1d4db434bebc5a986197782   \n",
       "6        fidenza-by-tyler-hobbs  0xa7d8d9ef8d8ce8992df33d8b8cf4aebabd5bd270   \n",
       "7                         azuki  0xed5af388653567af2f388e6224dc7c4b3241c544   \n",
       "8         the-almighty-sparrows  0xcaa1c15fe6c71033172133c65c2e6ca327c13ac2   \n",
       "9           wrapped-cryptopunks  0xb7f7f6c52f2e2fdb1963eab30438024864c313f6   \n",
       "10               pudgy-penguins  0xBd3531dA5CF5857e7CfAA92426877b022e612cf8   \n",
       "11   ringers-by-dmitri-cherniak  0xa7d8d9ef8d8ce8992df33d8b8cf4aebabd5bd270   \n",
       "12                space-doodles  0x620b70123fb810f6c653da7644b5dd0b6312e4d8   \n",
       "13                 the-captainz  0x769272677fab02575e84945f03eca517acc544cc   \n",
       "14                     era7-nft  0x07d971c03553011a48e951a53f48632d37652ba1   \n",
       "15                      sandbox  0x5CC5B05a8A13E3fBDB0BB9FcCd98D38e50F90c38   \n",
       "16                 decentraland  0xF87E31492Faf9A91B02Ee0dEAAd50d51d56D5d4d   \n",
       "17                      meebits  0x7Bd29408f11D2bFC23c34f18275bBf23bB716Bc7   \n",
       "18                       clonex  0x49cf6f5d44e70224e2e23fdcdd2c053f30ada28b   \n",
       "19      otherdeed-for-otherside  0x34d85c9cdeb23fa97cb08333b511ac86e1c4e258   \n",
       "\n",
       "                           name    asset_platform_id           symbol  \n",
       "0                   CryptoPunks             ethereum             PUNK  \n",
       "1          Bored Ape Yacht Club             ethereum             BAYC  \n",
       "2           The Crop Collective             ethereum             $TCC  \n",
       "3         Mutant Ape Yacht Club             ethereum             MAYC  \n",
       "4   Chromie Squiggle by Snowfro             ethereum           BLOCKS  \n",
       "5                    Autoglyphs             ethereum                ☵  \n",
       "6        Fidenza by Tyler Hobbs             ethereum           BLOCKS  \n",
       "7                         Azuki             ethereum            AZUKI  \n",
       "8         The Almighty Sparrows             ethereum         Sparrows  \n",
       "9           Wrapped Cryptopunks             ethereum           WPUNKS  \n",
       "10               Pudgy Penguins             ethereum              PPG  \n",
       "11   Ringers by Dmitri Cherniak             ethereum           BLOCKS  \n",
       "12                Space Doodles             ethereum          SDOODLE  \n",
       "13                     Captainz             ethereum         Captainz  \n",
       "14                     Era7 NFT  binance-smart-chain           ERANFT  \n",
       "15                         LAND             ethereum  Sandbox's LANDs  \n",
       "16                 Decentraland             ethereum             LAND  \n",
       "17                      Meebits             ethereum                ⚇  \n",
       "18                      Clone X             ethereum           CloneX  \n",
       "19      Otherdeed for Otherside             ethereum             OTHR  "
      ]
     },
     "execution_count": 11,
     "metadata": {},
     "output_type": "execute_result"
    }
   ],
   "source": [
    "df_nft"
   ]
  },
  {
   "cell_type": "code",
   "execution_count": 12,
   "id": "161e2c53-b2af-4d0d-af41-1b74541e830a",
   "metadata": {
    "tags": []
   },
   "outputs": [
    {
     "data": {
      "text/plain": [
       "'chromie-squiggle-by-snowfro'"
      ]
     },
     "execution_count": 12,
     "metadata": {},
     "output_type": "execute_result"
    }
   ],
   "source": [
    "df_nft.id[4]"
   ]
  },
  {
   "cell_type": "code",
   "execution_count": 13,
   "id": "d7ffbbfa-5797-4e22-911a-c328ca0a4c59",
   "metadata": {
    "tags": []
   },
   "outputs": [],
   "source": [
    "def get_nft_current_data(index, df_nft, use_demo = use_demo, PUB_URL = PUB_URL):\n",
    "    nft_url = f\"/nfts/{df_nft.id[index]}\"\n",
    "    nft_current_response = get_response(nft_url, use_demo, nft_params, PUB_URL)\n",
    "    \n",
    "    new_data = dict(id = nft_current_response[\"id\"], \n",
    "                    name = nft_current_response[\"name\"],\n",
    "                    symbol = nft_current_response[\"symbol\"],\n",
    "                    floor_price_usd = nft_current_response[\"floor_price\"][\"usd\"])\n",
    "    \n",
    "    return new_data"
   ]
  },
  {
   "cell_type": "code",
   "execution_count": 14,
   "id": "154a236a-bf99-47e4-bb61-f0c8e74b8263",
   "metadata": {
    "tags": []
   },
   "outputs": [],
   "source": [
    "def get_nft_floor_prices(order_by, per_page):\n",
    "\n",
    "    assert per_page <= 250, \"Number of entries per page should be less than 250\"\n",
    "\n",
    "    nft_params = {\n",
    "                 \"order\": order_by,\n",
    "                 \"per_page\": per_page,\n",
    "                 \"page\": 1\n",
    "                 }\n",
    "\n",
    "    nft_list_response = get_response(\"/nfts/list\", use_demo, nft_params, PUB_URL)\n",
    "    df_nft = pd.DataFrame(nft_list_response)\n",
    "\n",
    "    nft_list_all = []\n",
    "\n",
    "    for i in range(len(df_nft.id)):\n",
    "        new_data = get_nft_current_data(i, df_nft)\n",
    "        nft_list_all.append(new_data)\n",
    "\n",
    "    df_floor_price = pd.DataFrame(nft_list_all)\n",
    "\n",
    "    return df_floor_price   "
   ]
  },
  {
   "cell_type": "code",
   "execution_count": 15,
   "id": "4964bccf-3ffd-4dc2-98f4-13fa1815da1d",
   "metadata": {
    "tags": []
   },
   "outputs": [],
   "source": [
    "df_floor_price = get_nft_floor_prices(\"market_cap_usd_desc\", 10)"
   ]
  },
  {
   "cell_type": "code",
   "execution_count": 17,
   "id": "1012abbe-9d53-45a1-9540-c35e01fc2a70",
   "metadata": {
    "tags": []
   },
   "outputs": [
    {
     "data": {
      "text/html": [
       "<div>\n",
       "<style scoped>\n",
       "    .dataframe tbody tr th:only-of-type {\n",
       "        vertical-align: middle;\n",
       "    }\n",
       "\n",
       "    .dataframe tbody tr th {\n",
       "        vertical-align: top;\n",
       "    }\n",
       "\n",
       "    .dataframe thead th {\n",
       "        text-align: right;\n",
       "    }\n",
       "</style>\n",
       "<table border=\"1\" class=\"dataframe\">\n",
       "  <thead>\n",
       "    <tr style=\"text-align: right;\">\n",
       "      <th></th>\n",
       "      <th>id</th>\n",
       "      <th>name</th>\n",
       "      <th>symbol</th>\n",
       "      <th>floor_price_usd</th>\n",
       "    </tr>\n",
       "  </thead>\n",
       "  <tbody>\n",
       "    <tr>\n",
       "      <th>0</th>\n",
       "      <td>cryptopunks</td>\n",
       "      <td>CryptoPunks</td>\n",
       "      <td>PUNK</td>\n",
       "      <td>121483.00</td>\n",
       "    </tr>\n",
       "    <tr>\n",
       "      <th>1</th>\n",
       "      <td>bored-ape-yacht-club</td>\n",
       "      <td>Bored Ape Yacht Club</td>\n",
       "      <td>BAYC</td>\n",
       "      <td>62608.00</td>\n",
       "    </tr>\n",
       "    <tr>\n",
       "      <th>2</th>\n",
       "      <td>the-crop-collective</td>\n",
       "      <td>The Crop Collective</td>\n",
       "      <td>$TCC</td>\n",
       "      <td>836153.00</td>\n",
       "    </tr>\n",
       "    <tr>\n",
       "      <th>3</th>\n",
       "      <td>mutant-ape-yacht-club</td>\n",
       "      <td>Mutant Ape Yacht Club</td>\n",
       "      <td>MAYC</td>\n",
       "      <td>11884.06</td>\n",
       "    </tr>\n",
       "    <tr>\n",
       "      <th>4</th>\n",
       "      <td>chromie-squiggle-by-snowfro</td>\n",
       "      <td>Chromie Squiggle by Snowfro</td>\n",
       "      <td>BLOCKS</td>\n",
       "      <td>20227.00</td>\n",
       "    </tr>\n",
       "    <tr>\n",
       "      <th>5</th>\n",
       "      <td>autoglyphs</td>\n",
       "      <td>Autoglyphs</td>\n",
       "      <td>☵</td>\n",
       "      <td>346988.00</td>\n",
       "    </tr>\n",
       "    <tr>\n",
       "      <th>6</th>\n",
       "      <td>fidenza-by-tyler-hobbs</td>\n",
       "      <td>Fidenza by Tyler Hobbs</td>\n",
       "      <td>BLOCKS</td>\n",
       "      <td>139041.00</td>\n",
       "    </tr>\n",
       "    <tr>\n",
       "      <th>7</th>\n",
       "      <td>azuki</td>\n",
       "      <td>Azuki</td>\n",
       "      <td>AZUKI</td>\n",
       "      <td>12530.87</td>\n",
       "    </tr>\n",
       "    <tr>\n",
       "      <th>8</th>\n",
       "      <td>the-almighty-sparrows</td>\n",
       "      <td>The Almighty Sparrows</td>\n",
       "      <td>Sparrows</td>\n",
       "      <td>157860.00</td>\n",
       "    </tr>\n",
       "    <tr>\n",
       "      <th>9</th>\n",
       "      <td>wrapped-cryptopunks</td>\n",
       "      <td>Wrapped Cryptopunks</td>\n",
       "      <td>WPUNKS</td>\n",
       "      <td>122701.00</td>\n",
       "    </tr>\n",
       "  </tbody>\n",
       "</table>\n",
       "</div>"
      ],
      "text/plain": [
       "                            id                         name    symbol  \\\n",
       "0                  cryptopunks                  CryptoPunks      PUNK   \n",
       "1         bored-ape-yacht-club         Bored Ape Yacht Club      BAYC   \n",
       "2          the-crop-collective          The Crop Collective      $TCC   \n",
       "3        mutant-ape-yacht-club        Mutant Ape Yacht Club      MAYC   \n",
       "4  chromie-squiggle-by-snowfro  Chromie Squiggle by Snowfro    BLOCKS   \n",
       "5                   autoglyphs                   Autoglyphs         ☵   \n",
       "6       fidenza-by-tyler-hobbs       Fidenza by Tyler Hobbs    BLOCKS   \n",
       "7                        azuki                        Azuki     AZUKI   \n",
       "8        the-almighty-sparrows        The Almighty Sparrows  Sparrows   \n",
       "9          wrapped-cryptopunks          Wrapped Cryptopunks    WPUNKS   \n",
       "\n",
       "   floor_price_usd  \n",
       "0        121483.00  \n",
       "1         62608.00  \n",
       "2        836153.00  \n",
       "3         11884.06  \n",
       "4         20227.00  \n",
       "5        346988.00  \n",
       "6        139041.00  \n",
       "7         12530.87  \n",
       "8        157860.00  \n",
       "9        122701.00  "
      ]
     },
     "execution_count": 17,
     "metadata": {},
     "output_type": "execute_result"
    }
   ],
   "source": [
    "df_floor_price"
   ]
  },
  {
   "cell_type": "markdown",
   "id": "fa00be52-c330-4273-8e89-f7a6838e48cf",
   "metadata": {
    "tags": []
   },
   "source": [
    "#### Pro API"
   ]
  },
  {
   "cell_type": "code",
   "execution_count": 48,
   "id": "3c127b50-8671-4747-992a-407d93c2fb98",
   "metadata": {
    "tags": []
   },
   "outputs": [],
   "source": [
    "page_params = {\n",
    "            \"per_page\": 100,\n",
    "            \"page\": 1,\n",
    "            \"order\": \"h24_volume_usd_desc\"    \n",
    "}"
   ]
  },
  {
   "cell_type": "code",
   "execution_count": 49,
   "id": "f02356e5-9e92-4bbe-8d02-ed1ab5da64a8",
   "metadata": {
    "tags": []
   },
   "outputs": [],
   "source": [
    "nft_markets = get_response(\"/nfts/markets\", use_pro, page_params, PRO_URL)"
   ]
  },
  {
   "cell_type": "code",
   "execution_count": 50,
   "id": "6a5e194f-d014-444c-b7f5-8a4251d6e7b8",
   "metadata": {
    "tags": []
   },
   "outputs": [],
   "source": [
    "nft_markets[10];"
   ]
  },
  {
   "cell_type": "code",
   "execution_count": 51,
   "id": "9edd70f5-fde1-4a40-b465-a1494ce10e4a",
   "metadata": {
    "tags": []
   },
   "outputs": [],
   "source": [
    "def get_nft_markets(num_entries, order_by):\n",
    "    \n",
    "    page_params = {\n",
    "                    \"per_page\": num_entries,\n",
    "                    \"page\": 1,\n",
    "                    \"order\": order_by    \n",
    "                  }\n",
    "    \n",
    "    nft_markets = get_response(\"/nfts/markets\", use_pro, page_params, PRO_URL) \n",
    "    nft_all = []\n",
    "\n",
    "    for i in range(len(nft_markets)):\n",
    "        nft_select = nft_markets[i]\n",
    "        temp_dict = dict(\n",
    "                         id = nft_select[\"id\"],\n",
    "                         asset_platform_id  = nft_select[\"asset_platform_id\"],\n",
    "                         floor_price_native = nft_select[\"floor_price\"][\"native_currency\"],\n",
    "                         floor_price_usd    = nft_select[\"floor_price\"][\"usd\"],\n",
    "                         market_cap_usd     = nft_select[\"market_cap\"][\"usd\"],\n",
    "                         volume_24h_usd     = nft_select[\"volume_24h\"][\"usd\"]\n",
    "                        )\n",
    "        nft_all.append(temp_dict)\n",
    "            \n",
    "    return pd.DataFrame(nft_all)                     \n"
   ]
  },
  {
   "cell_type": "code",
   "execution_count": 52,
   "id": "fcc0a55f-bac2-4da7-ba87-0a8a708c58e2",
   "metadata": {
    "tags": []
   },
   "outputs": [],
   "source": [
    "df_nft_markets = get_nft_markets(10, \"h24_volume_usd_desc\")"
   ]
  },
  {
   "cell_type": "code",
   "execution_count": 55,
   "id": "4ca7a64e-a149-473a-bf79-a5f50165d6d5",
   "metadata": {
    "tags": []
   },
   "outputs": [],
   "source": [
    "df_nft_markets;"
   ]
  },
  {
   "cell_type": "code",
   "execution_count": 24,
   "id": "0c31f660-d186-4a99-ba97-ac7f84da380c",
   "metadata": {
    "tags": []
   },
   "outputs": [],
   "source": [
    "def get_nft_hist(nft_id, num_days):\n",
    "    hist_params = {\"days\": num_days}\n",
    "    hist_url = f\"/nfts/{nft_id}/market_chart\"\n",
    "    \n",
    "    nft_hist = get_response(hist_url, use_pro, hist_params, PRO_URL)\n",
    "    all_time, all_floor_price_usd = [], []    \n",
    "\n",
    "    floor_price_usd = nft_hist[\"floor_price_usd\"]\n",
    "\n",
    "    for i in range(len(floor_price_usd)):\n",
    "        time = floor_price_usd[i][0]\n",
    "        all_time.append(time)\n",
    "        \n",
    "        price = floor_price_usd[i][1]\n",
    "        all_floor_price_usd.append(price)\n",
    "\n",
    "    df_hist = pd.DataFrame(list(zip(all_time, all_floor_price_usd)),\n",
    "                           columns =['Time', 'Price_usd'])\n",
    "\n",
    "    df_hist[\"Time\"] = pd.to_datetime(df_hist[\"Time\"], unit = \"ms\")\n",
    "    df_hist.set_index(\"Time\", inplace = True)\n",
    "\n",
    "    return df_hist    \n",
    "    "
   ]
  },
  {
   "cell_type": "code",
   "execution_count": 27,
   "id": "c364c8a3-5db0-4951-90cf-cd3f62f19f7a",
   "metadata": {
    "tags": []
   },
   "outputs": [],
   "source": [
    "df_hist = get_nft_hist(df_nft_markets.id[7], 365)"
   ]
  },
  {
   "cell_type": "code",
   "execution_count": 28,
   "id": "7a6695ae-db68-4445-9dc8-7c500ebf7cd7",
   "metadata": {
    "tags": []
   },
   "outputs": [
    {
     "data": {
      "text/html": [
       "<div>\n",
       "<style scoped>\n",
       "    .dataframe tbody tr th:only-of-type {\n",
       "        vertical-align: middle;\n",
       "    }\n",
       "\n",
       "    .dataframe tbody tr th {\n",
       "        vertical-align: top;\n",
       "    }\n",
       "\n",
       "    .dataframe thead th {\n",
       "        text-align: right;\n",
       "    }\n",
       "</style>\n",
       "<table border=\"1\" class=\"dataframe\">\n",
       "  <thead>\n",
       "    <tr style=\"text-align: right;\">\n",
       "      <th></th>\n",
       "      <th>Price_usd</th>\n",
       "    </tr>\n",
       "    <tr>\n",
       "      <th>Time</th>\n",
       "      <th></th>\n",
       "    </tr>\n",
       "  </thead>\n",
       "  <tbody>\n",
       "    <tr>\n",
       "      <th>2022-11-13 00:05:01</th>\n",
       "      <td>12140.845703</td>\n",
       "    </tr>\n",
       "    <tr>\n",
       "      <th>2022-11-14 00:05:07</th>\n",
       "      <td>11848.909565</td>\n",
       "    </tr>\n",
       "    <tr>\n",
       "      <th>2022-11-15 00:05:05</th>\n",
       "      <td>11859.733292</td>\n",
       "    </tr>\n",
       "    <tr>\n",
       "      <th>2022-11-16 00:05:03</th>\n",
       "      <td>11898.323881</td>\n",
       "    </tr>\n",
       "    <tr>\n",
       "      <th>2022-11-17 00:05:07</th>\n",
       "      <td>12083.824583</td>\n",
       "    </tr>\n",
       "    <tr>\n",
       "      <th>...</th>\n",
       "      <td>...</td>\n",
       "    </tr>\n",
       "    <tr>\n",
       "      <th>2023-11-08 00:05:35</th>\n",
       "      <td>10497.904031</td>\n",
       "    </tr>\n",
       "    <tr>\n",
       "      <th>2023-11-09 00:05:20</th>\n",
       "      <td>11158.557789</td>\n",
       "    </tr>\n",
       "    <tr>\n",
       "      <th>2023-11-10 00:05:44</th>\n",
       "      <td>13158.775100</td>\n",
       "    </tr>\n",
       "    <tr>\n",
       "      <th>2023-11-11 00:05:22</th>\n",
       "      <td>12664.671746</td>\n",
       "    </tr>\n",
       "    <tr>\n",
       "      <th>2023-11-12 00:05:41</th>\n",
       "      <td>12583.827952</td>\n",
       "    </tr>\n",
       "  </tbody>\n",
       "</table>\n",
       "<p>365 rows × 1 columns</p>\n",
       "</div>"
      ],
      "text/plain": [
       "                        Price_usd\n",
       "Time                             \n",
       "2022-11-13 00:05:01  12140.845703\n",
       "2022-11-14 00:05:07  11848.909565\n",
       "2022-11-15 00:05:05  11859.733292\n",
       "2022-11-16 00:05:03  11898.323881\n",
       "2022-11-17 00:05:07  12083.824583\n",
       "...                           ...\n",
       "2023-11-08 00:05:35  10497.904031\n",
       "2023-11-09 00:05:20  11158.557789\n",
       "2023-11-10 00:05:44  13158.775100\n",
       "2023-11-11 00:05:22  12664.671746\n",
       "2023-11-12 00:05:41  12583.827952\n",
       "\n",
       "[365 rows x 1 columns]"
      ]
     },
     "execution_count": 28,
     "metadata": {},
     "output_type": "execute_result"
    }
   ],
   "source": [
    "df_hist"
   ]
  },
  {
   "cell_type": "markdown",
   "id": "1e12470c-9558-4c07-8568-3ae3fd9497f5",
   "metadata": {},
   "source": [
    "## Plot data"
   ]
  },
  {
   "cell_type": "code",
   "execution_count": 35,
   "id": "6917eaea-b42e-4d43-b637-26dd2bd675a0",
   "metadata": {
    "tags": []
   },
   "outputs": [],
   "source": [
    "fig1 = df_hist.plot(title = f\"Historical floor price for {df_nft_markets.id[7]}\",\n",
    "                    template = \"seaborn\",\n",
    "                    labels = dict(index = \"Time\", value = \"Price [USD]\"))"
   ]
  },
  {
   "cell_type": "code",
   "execution_count": 41,
   "id": "483896f8-8408-4fed-80f7-f475c3bda614",
   "metadata": {
    "tags": []
   },
   "outputs": [],
   "source": [
    "def plot_nft_hist(nft_id, num_days):\n",
    "    df_hist = get_nft_hist(nft_id, num_days)\n",
    "    fig = df_hist.plot(title = f\"Historical floor price for {nft_id}\",\n",
    "                       template = \"seaborn\",\n",
    "                       labels = dict(index = \"Time\", value = \"Price [USD]\"))\n",
    "    fig = go.Figure(fig)\n",
    "    return fig   \n",
    "    "
   ]
  },
  {
   "cell_type": "markdown",
   "id": "32b87708-23a6-487c-bdb6-4a2a47f7a654",
   "metadata": {},
   "source": [
    "## Dash app"
   ]
  },
  {
   "cell_type": "code",
   "execution_count": 61,
   "id": "c72b7459-4640-430c-9a97-fc447cc61a39",
   "metadata": {
    "tags": []
   },
   "outputs": [],
   "source": [
    "import dash\n",
    "import dash_html_components as html\n",
    "from dash import dcc\n",
    "import plotly.graph_objects as go\n",
    "import plotly.express as px\n",
    "from dash.dependencies import Input, Output  "
   ]
  },
  {
   "cell_type": "markdown",
   "id": "07386df1-8868-423f-8321-90b0dd58b611",
   "metadata": {},
   "source": [
    "#### Layout with dropdown"
   ]
  },
  {
   "cell_type": "code",
   "execution_count": 67,
   "id": "ea356168-f0bb-4c02-8f4c-d486fe44c33e",
   "metadata": {
    "tags": []
   },
   "outputs": [],
   "source": [
    "app = dash.Dash()\n",
    "\n",
    "app.layout = html.Div(id = 'parent', children = [\n",
    "    html.H1(id = 'H1', children = 'NFT Floor Price Tracker', \n",
    "                       style = {'textAlign':'center', 'marginTop':40, 'marginBottom':40}),\n",
    "    \n",
    "    dcc.Dropdown( id = 'NFT ID',\n",
    "    options = [\n",
    "    {'label': 'bitcoin-frogs', 'value':'bitcoin-frogs' },\n",
    "    {'label': 'mutant-ape-yacht-club', 'value':'mutant-ape-yacht-club'},\n",
    "    {'label': 'mad-lads', 'value':'mad-lads'},\n",
    "    ],\n",
    "    value = 'pudgy-penguins'),\n",
    "    \n",
    "    dcc.Graph(id = 'line_plot')\n",
    "   ])"
   ]
  },
  {
   "cell_type": "code",
   "execution_count": null,
   "id": "a7a4a4bc-34f2-4460-b6e6-a2253aac5c5e",
   "metadata": {
    "tags": []
   },
   "outputs": [],
   "source": []
  },
  {
   "cell_type": "markdown",
   "id": "1424397f-626b-4ea3-850d-bce815bb268f",
   "metadata": {
    "tags": []
   },
   "source": [
    "#### Callback"
   ]
  },
  {
   "cell_type": "code",
   "execution_count": 70,
   "id": "561595d4-7165-448b-a9b0-5b1b2cd1141b",
   "metadata": {
    "tags": []
   },
   "outputs": [],
   "source": [
    "@app.callback(Output(component_id = 'line_plot', component_property = 'figure'),\n",
    "              [Input(component_id = 'NFT ID', component_property= 'value')])\n",
    "def graph_update(dropdown_value):\n",
    "    return plot_nft_hist(dropdown_value, 180)"
   ]
  },
  {
   "cell_type": "code",
   "execution_count": 69,
   "id": "938b50b3-9315-48ea-bc3a-a9e915877a5a",
   "metadata": {
    "tags": []
   },
   "outputs": [
    {
     "data": {
      "text/html": [
       "\n",
       "        <iframe\n",
       "            width=\"100%\"\n",
       "            height=\"650\"\n",
       "            src=\"http://127.0.0.1:8050/\"\n",
       "            frameborder=\"0\"\n",
       "            allowfullscreen\n",
       "            \n",
       "        ></iframe>\n",
       "        "
      ],
      "text/plain": [
       "<IPython.lib.display.IFrame at 0x7f85ff390dc0>"
      ]
     },
     "metadata": {},
     "output_type": "display_data"
    }
   ],
   "source": [
    "if __name__ == '__main__': \n",
    "    app.run_server()"
   ]
  },
  {
   "cell_type": "code",
   "execution_count": null,
   "id": "432ac24f-a074-44d5-b9cb-57dcebdca06c",
   "metadata": {},
   "outputs": [],
   "source": []
  }
 ],
 "metadata": {
  "kernelspec": {
   "display_name": "Python 3 (ipykernel)",
   "language": "python",
   "name": "python3"
  },
  "language_info": {
   "codemirror_mode": {
    "name": "ipython",
    "version": 3
   },
   "file_extension": ".py",
   "mimetype": "text/x-python",
   "name": "python",
   "nbconvert_exporter": "python",
   "pygments_lexer": "ipython3",
   "version": "3.10.6"
  }
 },
 "nbformat": 4,
 "nbformat_minor": 5
}
