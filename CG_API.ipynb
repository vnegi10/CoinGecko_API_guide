{
 "cells": [
  {
   "cell_type": "code",
   "execution_count": 1,
   "id": "0871212b-0d47-445a-b951-86a962b27b58",
   "metadata": {
    "tags": []
   },
   "outputs": [],
   "source": [
    "import requests as rq\n",
    "import json\n",
    "import pandas as pd\n",
    "pd.options.plotting.backend = \"plotly\""
   ]
  },
  {
   "cell_type": "code",
   "execution_count": 2,
   "id": "81d1c986-8175-45da-8681-869baf8277c7",
   "metadata": {
    "tags": []
   },
   "outputs": [],
   "source": [
    "# Get API key\n",
    "def get_key():\n",
    "    f = open(\"/home/vikas/Documents/CG_key.json\")\n",
    "    key_dict = json.load(f)\n",
    "    return key_dict[\"key\"] "
   ]
  },
  {
   "cell_type": "markdown",
   "id": "92e5d0a0-aa9f-4b43-a9eb-5977535b3e91",
   "metadata": {
    "tags": []
   },
   "source": [
    "## Check API status"
   ]
  },
  {
   "cell_type": "code",
   "execution_count": 3,
   "id": "4cd65389-6186-4121-88f5-134969e5b976",
   "metadata": {
    "tags": []
   },
   "outputs": [],
   "source": [
    "PUB_URL = \"https://api.coingecko.com/api/v3\"\n",
    "PRO_URL = \"https://pro-api.coingecko.com/api/v3\""
   ]
  },
  {
   "cell_type": "code",
   "execution_count": 4,
   "id": "b7141e7a-66cc-45dc-a8eb-5e51fb470cc6",
   "metadata": {
    "tags": []
   },
   "outputs": [],
   "source": [
    "def get_response(endpoint, headers, params, URL):\n",
    "    url = \"\".join((URL, endpoint))\n",
    "    response = rq.get(url, headers = headers, params = params)\n",
    "    if response.status_code == 200:\n",
    "        data = response.json()\n",
    "        return data\n",
    "    else:\n",
    "        print(f\"Failed to fetch data, check status code {response.status_code}\")    "
   ]
  },
  {
   "cell_type": "code",
   "execution_count": 5,
   "id": "05327da0-99ad-48d7-a6cf-386d86a0c836",
   "metadata": {
    "tags": []
   },
   "outputs": [],
   "source": [
    "use_demo = {\"accept\": \"application/json\"}"
   ]
  },
  {
   "cell_type": "code",
   "execution_count": 7,
   "id": "5967b053-2ddb-4820-9eb7-4d39b5207c68",
   "metadata": {
    "tags": []
   },
   "outputs": [
    {
     "data": {
      "text/plain": [
       "{'gecko_says': '(V3) To the Moon!'}"
      ]
     },
     "execution_count": 7,
     "metadata": {},
     "output_type": "execute_result"
    }
   ],
   "source": [
    "get_response(\"/ping\", use_demo, \"\", PUB_URL)"
   ]
  },
  {
   "cell_type": "code",
   "execution_count": 6,
   "id": "0b881d20-f6c5-4168-b84d-23dbd7b42a20",
   "metadata": {
    "tags": []
   },
   "outputs": [],
   "source": [
    "use_pro = {\n",
    "         \"accept\": \"application/json\",\n",
    "         \"x-cg-pro-api-key\" : get_key()          \n",
    "}"
   ]
  },
  {
   "cell_type": "markdown",
   "id": "45c32170-836c-4100-aae5-b93f0118c3e4",
   "metadata": {
    "tags": []
   },
   "source": [
    "## NFTs"
   ]
  },
  {
   "cell_type": "markdown",
   "id": "ebf98bdd-b73f-4d9c-929f-8e92a19c7346",
   "metadata": {
    "tags": []
   },
   "source": [
    "#### Demo API"
   ]
  },
  {
   "cell_type": "code",
   "execution_count": 51,
   "id": "f265615e-e4de-4517-84cb-ab0c09b34d05",
   "metadata": {
    "tags": []
   },
   "outputs": [],
   "source": [
    "nft_params = {\n",
    "            \"order\": \"market_cap_usd_desc\",\n",
    "            \"per_page\": 10,\n",
    "            \"page\": 1\n",
    "}"
   ]
  },
  {
   "cell_type": "code",
   "execution_count": 52,
   "id": "01173966-6a54-44d5-b57f-f7d7de7947a0",
   "metadata": {
    "tags": []
   },
   "outputs": [],
   "source": [
    "nft_list_response = get_response(\"/nfts/list\", use_demo, nft_params, PUB_URL)"
   ]
  },
  {
   "cell_type": "code",
   "execution_count": 53,
   "id": "d2fab61b-3120-4ba9-826b-654f5a4d1311",
   "metadata": {
    "tags": []
   },
   "outputs": [],
   "source": [
    "df_nft = pd.DataFrame(nft_list_response)"
   ]
  },
  {
   "cell_type": "code",
   "execution_count": 54,
   "id": "adeb3db7-eceb-4357-a709-d601e9ee9a7c",
   "metadata": {
    "tags": []
   },
   "outputs": [
    {
     "data": {
      "text/html": [
       "<div>\n",
       "<style scoped>\n",
       "    .dataframe tbody tr th:only-of-type {\n",
       "        vertical-align: middle;\n",
       "    }\n",
       "\n",
       "    .dataframe tbody tr th {\n",
       "        vertical-align: top;\n",
       "    }\n",
       "\n",
       "    .dataframe thead th {\n",
       "        text-align: right;\n",
       "    }\n",
       "</style>\n",
       "<table border=\"1\" class=\"dataframe\">\n",
       "  <thead>\n",
       "    <tr style=\"text-align: right;\">\n",
       "      <th></th>\n",
       "      <th>id</th>\n",
       "      <th>contract_address</th>\n",
       "      <th>name</th>\n",
       "      <th>asset_platform_id</th>\n",
       "      <th>symbol</th>\n",
       "    </tr>\n",
       "  </thead>\n",
       "  <tbody>\n",
       "    <tr>\n",
       "      <th>0</th>\n",
       "      <td>cryptopunks</td>\n",
       "      <td>0xb47e3cd837dDF8e4c57F05d70Ab865de6e193BBB</td>\n",
       "      <td>CryptoPunks</td>\n",
       "      <td>ethereum</td>\n",
       "      <td>PUNK</td>\n",
       "    </tr>\n",
       "    <tr>\n",
       "      <th>1</th>\n",
       "      <td>bored-ape-yacht-club</td>\n",
       "      <td>0xbc4ca0eda7647a8ab7c2061c2e118a18a936f13d</td>\n",
       "      <td>Bored Ape Yacht Club</td>\n",
       "      <td>ethereum</td>\n",
       "      <td>BAYC</td>\n",
       "    </tr>\n",
       "    <tr>\n",
       "      <th>2</th>\n",
       "      <td>the-crop-collective</td>\n",
       "      <td>0xe5863d4a57b1e2d7031f7969fee4f56bb04c0f17</td>\n",
       "      <td>The Crop Collective</td>\n",
       "      <td>ethereum</td>\n",
       "      <td>$TCC</td>\n",
       "    </tr>\n",
       "    <tr>\n",
       "      <th>3</th>\n",
       "      <td>more-loot</td>\n",
       "      <td>0x1dfe7ca09e99d10835bf73044a23b73fc20623df</td>\n",
       "      <td>More Loot</td>\n",
       "      <td>ethereum</td>\n",
       "      <td>mloot</td>\n",
       "    </tr>\n",
       "    <tr>\n",
       "      <th>4</th>\n",
       "      <td>mutant-ape-yacht-club</td>\n",
       "      <td>0x60e4d786628fea6478f785a6d7e704777c86a7c6</td>\n",
       "      <td>Mutant Ape Yacht Club</td>\n",
       "      <td>ethereum</td>\n",
       "      <td>MAYC</td>\n",
       "    </tr>\n",
       "    <tr>\n",
       "      <th>5</th>\n",
       "      <td>autoglyphs</td>\n",
       "      <td>0xd4e4078ca3495de5b1d4db434bebc5a986197782</td>\n",
       "      <td>Autoglyphs</td>\n",
       "      <td>ethereum</td>\n",
       "      <td>☵</td>\n",
       "    </tr>\n",
       "    <tr>\n",
       "      <th>6</th>\n",
       "      <td>chromie-squiggle-by-snowfro</td>\n",
       "      <td>0x059edd72cd353df5106d2b9cc5ab83a52287ac3a</td>\n",
       "      <td>Chromie Squiggle by Snowfro</td>\n",
       "      <td>ethereum</td>\n",
       "      <td>BLOCKS</td>\n",
       "    </tr>\n",
       "    <tr>\n",
       "      <th>7</th>\n",
       "      <td>the-almighty-sparrows</td>\n",
       "      <td>0xcaa1c15fe6c71033172133c65c2e6ca327c13ac2</td>\n",
       "      <td>The Almighty Sparrows</td>\n",
       "      <td>ethereum</td>\n",
       "      <td>Sparrows</td>\n",
       "    </tr>\n",
       "    <tr>\n",
       "      <th>8</th>\n",
       "      <td>fidenza-by-tyler-hobbs</td>\n",
       "      <td>0xa7d8d9ef8d8ce8992df33d8b8cf4aebabd5bd270</td>\n",
       "      <td>Fidenza by Tyler Hobbs</td>\n",
       "      <td>ethereum</td>\n",
       "      <td>BLOCKS</td>\n",
       "    </tr>\n",
       "    <tr>\n",
       "      <th>9</th>\n",
       "      <td>sandbox</td>\n",
       "      <td>0x5CC5B05a8A13E3fBDB0BB9FcCd98D38e50F90c38</td>\n",
       "      <td>LAND</td>\n",
       "      <td>ethereum</td>\n",
       "      <td>Sandbox's LANDs</td>\n",
       "    </tr>\n",
       "  </tbody>\n",
       "</table>\n",
       "</div>"
      ],
      "text/plain": [
       "                            id                            contract_address  \\\n",
       "0                  cryptopunks  0xb47e3cd837dDF8e4c57F05d70Ab865de6e193BBB   \n",
       "1         bored-ape-yacht-club  0xbc4ca0eda7647a8ab7c2061c2e118a18a936f13d   \n",
       "2          the-crop-collective  0xe5863d4a57b1e2d7031f7969fee4f56bb04c0f17   \n",
       "3                    more-loot  0x1dfe7ca09e99d10835bf73044a23b73fc20623df   \n",
       "4        mutant-ape-yacht-club  0x60e4d786628fea6478f785a6d7e704777c86a7c6   \n",
       "5                   autoglyphs  0xd4e4078ca3495de5b1d4db434bebc5a986197782   \n",
       "6  chromie-squiggle-by-snowfro  0x059edd72cd353df5106d2b9cc5ab83a52287ac3a   \n",
       "7        the-almighty-sparrows  0xcaa1c15fe6c71033172133c65c2e6ca327c13ac2   \n",
       "8       fidenza-by-tyler-hobbs  0xa7d8d9ef8d8ce8992df33d8b8cf4aebabd5bd270   \n",
       "9                      sandbox  0x5CC5B05a8A13E3fBDB0BB9FcCd98D38e50F90c38   \n",
       "\n",
       "                          name asset_platform_id           symbol  \n",
       "0                  CryptoPunks          ethereum             PUNK  \n",
       "1         Bored Ape Yacht Club          ethereum             BAYC  \n",
       "2          The Crop Collective          ethereum             $TCC  \n",
       "3                    More Loot          ethereum            mloot  \n",
       "4        Mutant Ape Yacht Club          ethereum             MAYC  \n",
       "5                   Autoglyphs          ethereum                ☵  \n",
       "6  Chromie Squiggle by Snowfro          ethereum           BLOCKS  \n",
       "7        The Almighty Sparrows          ethereum         Sparrows  \n",
       "8       Fidenza by Tyler Hobbs          ethereum           BLOCKS  \n",
       "9                         LAND          ethereum  Sandbox's LANDs  "
      ]
     },
     "execution_count": 54,
     "metadata": {},
     "output_type": "execute_result"
    }
   ],
   "source": [
    "df_nft"
   ]
  },
  {
   "cell_type": "code",
   "execution_count": 13,
   "id": "161e2c53-b2af-4d0d-af41-1b74541e830a",
   "metadata": {
    "tags": []
   },
   "outputs": [
    {
     "data": {
      "text/plain": [
       "'syltare-dawn-of-east-klaytn'"
      ]
     },
     "execution_count": 13,
     "metadata": {},
     "output_type": "execute_result"
    }
   ],
   "source": [
    "df_nft.id[4]"
   ]
  },
  {
   "cell_type": "code",
   "execution_count": 55,
   "id": "d7ffbbfa-5797-4e22-911a-c328ca0a4c59",
   "metadata": {
    "tags": []
   },
   "outputs": [],
   "source": [
    "def get_nft_current_data(index, df_nft, use_demo = use_demo, PUB_URL = PUB_URL):\n",
    "    nft_url = f\"/nfts/{df_nft.id[index]}\"\n",
    "    nft_current_response = get_response(nft_url, use_demo, nft_params, PUB_URL)\n",
    "    \n",
    "    new_data = dict(id = nft_current_response[\"id\"], \n",
    "                    name = nft_current_response[\"name\"],\n",
    "                    symbol = nft_current_response[\"symbol\"],\n",
    "                    floor_price_usd = nft_current_response[\"floor_price\"][\"usd\"])\n",
    "    \n",
    "    return new_data"
   ]
  },
  {
   "cell_type": "code",
   "execution_count": 60,
   "id": "154a236a-bf99-47e4-bb61-f0c8e74b8263",
   "metadata": {
    "tags": []
   },
   "outputs": [],
   "source": [
    "def get_nft_floor_prices(order_by, per_page):\n",
    "\n",
    "    assert per_page <= 250, \"Number of entries per page should be less than 250\"\n",
    "\n",
    "    nft_params = {\n",
    "                 \"order\": order_by,\n",
    "                 \"per_page\": per_page,\n",
    "                 \"page\": 1\n",
    "                 }\n",
    "\n",
    "    nft_list_response = get_response(\"/nfts/list\", use_demo, nft_params, PUB_URL)\n",
    "    df_nft = pd.DataFrame(nft_list_response)\n",
    "\n",
    "    nft_list_all = []\n",
    "\n",
    "    for i in range(len(df_nft.id)):\n",
    "        new_data = get_nft_current_data(i, df_nft)\n",
    "        nft_list_all.append(new_data)\n",
    "\n",
    "    df_floor_price = pd.DataFrame(nft_list_all)\n",
    "\n",
    "    return df_floor_price   "
   ]
  },
  {
   "cell_type": "code",
   "execution_count": 61,
   "id": "4964bccf-3ffd-4dc2-98f4-13fa1815da1d",
   "metadata": {},
   "outputs": [],
   "source": [
    "df_floor_price = get_nft_floor_prices(\"market_cap_usd_desc\", 10)"
   ]
  },
  {
   "cell_type": "code",
   "execution_count": 62,
   "id": "1012abbe-9d53-45a1-9540-c35e01fc2a70",
   "metadata": {},
   "outputs": [
    {
     "data": {
      "text/html": [
       "<div>\n",
       "<style scoped>\n",
       "    .dataframe tbody tr th:only-of-type {\n",
       "        vertical-align: middle;\n",
       "    }\n",
       "\n",
       "    .dataframe tbody tr th {\n",
       "        vertical-align: top;\n",
       "    }\n",
       "\n",
       "    .dataframe thead th {\n",
       "        text-align: right;\n",
       "    }\n",
       "</style>\n",
       "<table border=\"1\" class=\"dataframe\">\n",
       "  <thead>\n",
       "    <tr style=\"text-align: right;\">\n",
       "      <th></th>\n",
       "      <th>id</th>\n",
       "      <th>name</th>\n",
       "      <th>symbol</th>\n",
       "      <th>floor_price_usd</th>\n",
       "    </tr>\n",
       "  </thead>\n",
       "  <tbody>\n",
       "    <tr>\n",
       "      <th>0</th>\n",
       "      <td>cryptopunks</td>\n",
       "      <td>CryptoPunks</td>\n",
       "      <td>PUNK</td>\n",
       "      <td>88125.00</td>\n",
       "    </tr>\n",
       "    <tr>\n",
       "      <th>1</th>\n",
       "      <td>bored-ape-yacht-club</td>\n",
       "      <td>Bored Ape Yacht Club</td>\n",
       "      <td>BAYC</td>\n",
       "      <td>52875.00</td>\n",
       "    </tr>\n",
       "    <tr>\n",
       "      <th>2</th>\n",
       "      <td>the-crop-collective</td>\n",
       "      <td>The Crop Collective</td>\n",
       "      <td>$TCC</td>\n",
       "      <td>766855.00</td>\n",
       "    </tr>\n",
       "    <tr>\n",
       "      <th>3</th>\n",
       "      <td>more-loot</td>\n",
       "      <td>More Loot</td>\n",
       "      <td>mloot</td>\n",
       "      <td>1654.58</td>\n",
       "    </tr>\n",
       "    <tr>\n",
       "      <th>4</th>\n",
       "      <td>mutant-ape-yacht-club</td>\n",
       "      <td>Mutant Ape Yacht Club</td>\n",
       "      <td>MAYC</td>\n",
       "      <td>9981.89</td>\n",
       "    </tr>\n",
       "    <tr>\n",
       "      <th>5</th>\n",
       "      <td>autoglyphs</td>\n",
       "      <td>Autoglyphs</td>\n",
       "      <td>☵</td>\n",
       "      <td>319591.00</td>\n",
       "    </tr>\n",
       "    <tr>\n",
       "      <th>6</th>\n",
       "      <td>chromie-squiggle-by-snowfro</td>\n",
       "      <td>Chromie Squiggle by Snowfro</td>\n",
       "      <td>BLOCKS</td>\n",
       "      <td>16262.42</td>\n",
       "    </tr>\n",
       "    <tr>\n",
       "      <th>7</th>\n",
       "      <td>the-almighty-sparrows</td>\n",
       "      <td>The Almighty Sparrows</td>\n",
       "      <td>Sparrows</td>\n",
       "      <td>144933.00</td>\n",
       "    </tr>\n",
       "    <tr>\n",
       "      <th>8</th>\n",
       "      <td>fidenza-by-tyler-hobbs</td>\n",
       "      <td>Fidenza by Tyler Hobbs</td>\n",
       "      <td>BLOCKS</td>\n",
       "      <td>110292.00</td>\n",
       "    </tr>\n",
       "    <tr>\n",
       "      <th>9</th>\n",
       "      <td>sandbox</td>\n",
       "      <td>LAND</td>\n",
       "      <td>Sandbox's LANDs</td>\n",
       "      <td>601.68</td>\n",
       "    </tr>\n",
       "  </tbody>\n",
       "</table>\n",
       "</div>"
      ],
      "text/plain": [
       "                            id                         name           symbol  \\\n",
       "0                  cryptopunks                  CryptoPunks             PUNK   \n",
       "1         bored-ape-yacht-club         Bored Ape Yacht Club             BAYC   \n",
       "2          the-crop-collective          The Crop Collective             $TCC   \n",
       "3                    more-loot                    More Loot            mloot   \n",
       "4        mutant-ape-yacht-club        Mutant Ape Yacht Club             MAYC   \n",
       "5                   autoglyphs                   Autoglyphs                ☵   \n",
       "6  chromie-squiggle-by-snowfro  Chromie Squiggle by Snowfro           BLOCKS   \n",
       "7        the-almighty-sparrows        The Almighty Sparrows         Sparrows   \n",
       "8       fidenza-by-tyler-hobbs       Fidenza by Tyler Hobbs           BLOCKS   \n",
       "9                      sandbox                         LAND  Sandbox's LANDs   \n",
       "\n",
       "   floor_price_usd  \n",
       "0         88125.00  \n",
       "1         52875.00  \n",
       "2        766855.00  \n",
       "3          1654.58  \n",
       "4          9981.89  \n",
       "5        319591.00  \n",
       "6         16262.42  \n",
       "7        144933.00  \n",
       "8        110292.00  \n",
       "9           601.68  "
      ]
     },
     "execution_count": 62,
     "metadata": {},
     "output_type": "execute_result"
    }
   ],
   "source": [
    "df_floor_price"
   ]
  },
  {
   "cell_type": "markdown",
   "id": "fa00be52-c330-4273-8e89-f7a6838e48cf",
   "metadata": {
    "tags": []
   },
   "source": [
    "#### Pro API"
   ]
  },
  {
   "cell_type": "code",
   "execution_count": 17,
   "id": "3c127b50-8671-4747-992a-407d93c2fb98",
   "metadata": {
    "tags": []
   },
   "outputs": [],
   "source": [
    "page_params = {\n",
    "            \"per_page\": 100,\n",
    "            \"page\": 1,\n",
    "            \"order\": \"h24_volume_usd_desc\"    \n",
    "}"
   ]
  },
  {
   "cell_type": "code",
   "execution_count": 18,
   "id": "f02356e5-9e92-4bbe-8d02-ed1ab5da64a8",
   "metadata": {
    "tags": []
   },
   "outputs": [],
   "source": [
    "nft_markets = get_response(\"/nfts/markets\", use_pro, page_params, PRO_URL)"
   ]
  },
  {
   "cell_type": "code",
   "execution_count": 19,
   "id": "6a5e194f-d014-444c-b7f5-8a4251d6e7b8",
   "metadata": {},
   "outputs": [],
   "source": [
    "nft_markets[10];"
   ]
  },
  {
   "cell_type": "code",
   "execution_count": 20,
   "id": "9edd70f5-fde1-4a40-b465-a1494ce10e4a",
   "metadata": {
    "tags": []
   },
   "outputs": [],
   "source": [
    "def get_nft_markets(num_entries, order_by):\n",
    "    \n",
    "    page_params = {\n",
    "                    \"per_page\": num_entries,\n",
    "                    \"page\": 1,\n",
    "                    \"order\": order_by    \n",
    "                  }\n",
    "    \n",
    "    nft_markets = get_response(\"/nfts/markets\", use_pro, page_params, PRO_URL) \n",
    "    nft_all = []\n",
    "\n",
    "    for i in range(len(nft_markets)):\n",
    "        nft_select = nft_markets[i]\n",
    "        temp_dict = dict(\n",
    "                         id = nft_select[\"id\"],\n",
    "                         asset_platform_id  = nft_select[\"asset_platform_id\"],\n",
    "                         floor_price_native = nft_select[\"floor_price\"][\"native_currency\"],\n",
    "                         floor_price_usd    = nft_select[\"floor_price\"][\"usd\"],\n",
    "                         market_cap_usd     = nft_select[\"market_cap\"][\"usd\"],\n",
    "                         volume_24h_usd     = nft_select[\"volume_24h\"][\"usd\"]\n",
    "                        )\n",
    "        nft_all.append(temp_dict)\n",
    "            \n",
    "    return pd.DataFrame(nft_all)                     \n"
   ]
  },
  {
   "cell_type": "code",
   "execution_count": 21,
   "id": "fcc0a55f-bac2-4da7-ba87-0a8a708c58e2",
   "metadata": {
    "tags": []
   },
   "outputs": [],
   "source": [
    "df_nft_markets = get_nft_markets(10, \"h24_volume_usd_desc\")"
   ]
  },
  {
   "cell_type": "code",
   "execution_count": 22,
   "id": "4ca7a64e-a149-473a-bf79-a5f50165d6d5",
   "metadata": {},
   "outputs": [
    {
     "data": {
      "text/plain": [
       "'azuki'"
      ]
     },
     "execution_count": 22,
     "metadata": {},
     "output_type": "execute_result"
    }
   ],
   "source": [
    "df_nft_markets.id[7]"
   ]
  },
  {
   "cell_type": "code",
   "execution_count": 26,
   "id": "0c31f660-d186-4a99-ba97-ac7f84da380c",
   "metadata": {},
   "outputs": [],
   "source": [
    "def get_nft_hist(nft_id, num_days):\n",
    "    hist_params = {\"days\": num_days}\n",
    "    hist_url = f\"/nfts/{nft_id}/market_chart\"\n",
    "    \n",
    "    nft_hist = get_response(hist_url, use_pro, hist_params, PRO_URL)\n",
    "    all_time, all_floor_price_usd = [], []    \n",
    "\n",
    "    floor_price_usd = nft_hist[\"floor_price_usd\"]\n",
    "\n",
    "    for i in range(len(floor_price_usd)):\n",
    "        time = floor_price_usd[i][0]\n",
    "        all_time.append(time)\n",
    "        \n",
    "        price = floor_price_usd[i][1]\n",
    "        all_floor_price_usd.append(price)\n",
    "\n",
    "    df_hist = pd.DataFrame(list(zip(all_time, all_floor_price_usd)),\n",
    "                           columns =['Time', 'Price_usd'])\n",
    "\n",
    "    df_hist[\"Time\"] = pd.to_datetime(df_hist[\"Time\"], unit = \"ms\")\n",
    "    df_hist.set_index(\"Time\", inplace = True)\n",
    "\n",
    "    return df_hist    \n",
    "    "
   ]
  },
  {
   "cell_type": "code",
   "execution_count": 45,
   "id": "c364c8a3-5db0-4951-90cf-cd3f62f19f7a",
   "metadata": {},
   "outputs": [],
   "source": [
    "df_hist = get_nft_hist(df_nft_markets.id[7], 180)"
   ]
  },
  {
   "cell_type": "code",
   "execution_count": 46,
   "id": "7a6695ae-db68-4445-9dc8-7c500ebf7cd7",
   "metadata": {},
   "outputs": [
    {
     "data": {
      "text/html": [
       "<div>\n",
       "<style scoped>\n",
       "    .dataframe tbody tr th:only-of-type {\n",
       "        vertical-align: middle;\n",
       "    }\n",
       "\n",
       "    .dataframe tbody tr th {\n",
       "        vertical-align: top;\n",
       "    }\n",
       "\n",
       "    .dataframe thead th {\n",
       "        text-align: right;\n",
       "    }\n",
       "</style>\n",
       "<table border=\"1\" class=\"dataframe\">\n",
       "  <thead>\n",
       "    <tr style=\"text-align: right;\">\n",
       "      <th></th>\n",
       "      <th>Price_usd</th>\n",
       "    </tr>\n",
       "    <tr>\n",
       "      <th>Time</th>\n",
       "      <th></th>\n",
       "    </tr>\n",
       "  </thead>\n",
       "  <tbody>\n",
       "    <tr>\n",
       "      <th>2023-05-10 00:05:18</th>\n",
       "      <td>28412.879393</td>\n",
       "    </tr>\n",
       "    <tr>\n",
       "      <th>2023-05-11 00:05:03</th>\n",
       "      <td>26798.381846</td>\n",
       "    </tr>\n",
       "    <tr>\n",
       "      <th>2023-05-12 00:05:02</th>\n",
       "      <td>26066.879501</td>\n",
       "    </tr>\n",
       "    <tr>\n",
       "      <th>2023-05-13 00:05:17</th>\n",
       "      <td>26064.795700</td>\n",
       "    </tr>\n",
       "    <tr>\n",
       "      <th>2023-05-14 00:05:19</th>\n",
       "      <td>24866.024982</td>\n",
       "    </tr>\n",
       "    <tr>\n",
       "      <th>...</th>\n",
       "      <td>...</td>\n",
       "    </tr>\n",
       "    <tr>\n",
       "      <th>2023-11-01 00:05:36</th>\n",
       "      <td>9501.750219</td>\n",
       "    </tr>\n",
       "    <tr>\n",
       "      <th>2023-11-02 00:05:42</th>\n",
       "      <td>9513.457400</td>\n",
       "    </tr>\n",
       "    <tr>\n",
       "      <th>2023-11-03 00:05:36</th>\n",
       "      <td>9277.535628</td>\n",
       "    </tr>\n",
       "    <tr>\n",
       "      <th>2023-11-04 00:05:35</th>\n",
       "      <td>9344.416912</td>\n",
       "    </tr>\n",
       "    <tr>\n",
       "      <th>2023-11-05 00:05:33</th>\n",
       "      <td>9368.743810</td>\n",
       "    </tr>\n",
       "  </tbody>\n",
       "</table>\n",
       "<p>180 rows × 1 columns</p>\n",
       "</div>"
      ],
      "text/plain": [
       "                        Price_usd\n",
       "Time                             \n",
       "2023-05-10 00:05:18  28412.879393\n",
       "2023-05-11 00:05:03  26798.381846\n",
       "2023-05-12 00:05:02  26066.879501\n",
       "2023-05-13 00:05:17  26064.795700\n",
       "2023-05-14 00:05:19  24866.024982\n",
       "...                           ...\n",
       "2023-11-01 00:05:36   9501.750219\n",
       "2023-11-02 00:05:42   9513.457400\n",
       "2023-11-03 00:05:36   9277.535628\n",
       "2023-11-04 00:05:35   9344.416912\n",
       "2023-11-05 00:05:33   9368.743810\n",
       "\n",
       "[180 rows x 1 columns]"
      ]
     },
     "execution_count": 46,
     "metadata": {},
     "output_type": "execute_result"
    }
   ],
   "source": [
    "df_hist"
   ]
  },
  {
   "cell_type": "markdown",
   "id": "1e12470c-9558-4c07-8568-3ae3fd9497f5",
   "metadata": {},
   "source": [
    "## Plot data"
   ]
  },
  {
   "cell_type": "code",
   "execution_count": 47,
   "id": "6917eaea-b42e-4d43-b637-26dd2bd675a0",
   "metadata": {},
   "outputs": [],
   "source": [
    "fig1 = df_hist.plot(title = f\"Historical floor price for {df_nft_markets.id[7]}\",\n",
    "                    template = \"seaborn\",\n",
    "                    labels = dict(index = \"Time\", value = \"Price [USD]\"))"
   ]
  },
  {
   "cell_type": "code",
   "execution_count": 48,
   "id": "483896f8-8408-4fed-80f7-f475c3bda614",
   "metadata": {},
   "outputs": [
    {
     "data": {
      "application/vnd.plotly.v1+json": {
       "config": {
        "plotlyServerURL": "https://plot.ly"
       },
       "data": [
        {
         "hovertemplate": "variable=Price_usd<br>Time=%{x}<br>Price [USD]=%{y}<extra></extra>",
         "legendgroup": "Price_usd",
         "line": {
          "color": "rgb(76,114,176)",
          "dash": "solid"
         },
         "marker": {
          "symbol": "circle"
         },
         "mode": "lines",
         "name": "Price_usd",
         "orientation": "v",
         "showlegend": true,
         "type": "scatter",
         "x": [
          "2023-05-10T00:05:18",
          "2023-05-11T00:05:03",
          "2023-05-12T00:05:02",
          "2023-05-13T00:05:17",
          "2023-05-14T00:05:19",
          "2023-05-15T00:05:11",
          "2023-05-16T00:05:38",
          "2023-05-17T00:05:19",
          "2023-05-18T00:05:17",
          "2023-05-19T00:05:32",
          "2023-05-20T00:05:01",
          "2023-05-21T00:05:13",
          "2023-05-22T00:05:20",
          "2023-05-23T00:05:35",
          "2023-05-24T00:05:21",
          "2023-05-25T00:05:20",
          "2023-05-26T00:05:26",
          "2023-05-27T00:05:39",
          "2023-05-28T00:05:21",
          "2023-05-29T00:05:42",
          "2023-05-30T00:05:24",
          "2023-05-31T00:05:28",
          "2023-06-01T00:05:18",
          "2023-06-02T00:05:25",
          "2023-06-03T00:05:35",
          "2023-06-04T00:05:38",
          "2023-06-05T00:05:32",
          "2023-06-06T00:05:42",
          "2023-06-07T00:05:31",
          "2023-06-08T00:05:26",
          "2023-06-09T00:05:26",
          "2023-06-10T00:05:34",
          "2023-06-11T00:05:05",
          "2023-06-12T00:05:55",
          "2023-06-13T00:05:32",
          "2023-06-14T00:05:33",
          "2023-06-15T00:05:15",
          "2023-06-16T00:05:27",
          "2023-06-17T00:05:24",
          "2023-06-18T00:05:12",
          "2023-06-19T00:05:24",
          "2023-06-20T00:05:27",
          "2023-06-21T00:05:04",
          "2023-06-22T00:05:26",
          "2023-06-23T00:05:09",
          "2023-06-24T00:05:01",
          "2023-06-25T00:05:13",
          "2023-06-26T00:05:40",
          "2023-06-27T00:05:25",
          "2023-06-28T00:05:19",
          "2023-06-29T00:05:27",
          "2023-06-30T00:05:33",
          "2023-07-01T00:05:13",
          "2023-07-02T00:05:17",
          "2023-07-03T00:05:20",
          "2023-07-04T00:05:24",
          "2023-07-05T00:05:24",
          "2023-07-06T00:05:34",
          "2023-07-07T00:05:30",
          "2023-07-08T00:05:32",
          "2023-07-09T00:05:25",
          "2023-07-10T00:05:14",
          "2023-07-11T00:05:34",
          "2023-07-12T00:05:02",
          "2023-07-13T00:05:27",
          "2023-07-14T00:05:43",
          "2023-07-15T00:05:21",
          "2023-07-16T00:05:10",
          "2023-07-17T00:05:14",
          "2023-07-18T00:05:36",
          "2023-07-19T00:05:25",
          "2023-07-20T00:05:15",
          "2023-07-21T00:05:31",
          "2023-07-22T00:05:32",
          "2023-07-23T00:05:15",
          "2023-07-24T00:05:23",
          "2023-07-25T00:05:29",
          "2023-07-26T00:05:24",
          "2023-07-27T00:05:23",
          "2023-07-28T00:05:28",
          "2023-07-29T00:05:17",
          "2023-07-30T00:05:54",
          "2023-07-31T00:05:13",
          "2023-08-01T00:05:07",
          "2023-08-02T00:05:17",
          "2023-08-03T00:05:22",
          "2023-08-04T00:05:03",
          "2023-08-05T00:05:01",
          "2023-08-06T00:05:35",
          "2023-08-07T00:05:29",
          "2023-08-08T00:05:17",
          "2023-08-09T00:05:36",
          "2023-08-10T00:05:35",
          "2023-08-11T00:05:16",
          "2023-08-12T00:05:27",
          "2023-08-13T00:05:13",
          "2023-08-14T00:05:06",
          "2023-08-15T00:05:14",
          "2023-08-16T00:05:14",
          "2023-08-17T00:05:28",
          "2023-08-18T00:05:20",
          "2023-08-19T00:05:12",
          "2023-08-20T00:05:17",
          "2023-08-21T00:05:12",
          "2023-08-22T00:05:10",
          "2023-08-23T00:05:26",
          "2023-08-24T00:05:13",
          "2023-08-25T00:05:04",
          "2023-08-26T00:05:18",
          "2023-08-27T00:05:23",
          "2023-08-28T00:05:14",
          "2023-08-29T00:05:13",
          "2023-08-30T00:05:24",
          "2023-08-31T00:05:27",
          "2023-09-01T00:05:15",
          "2023-09-02T00:05:23",
          "2023-09-03T00:05:34",
          "2023-09-04T00:05:16",
          "2023-09-05T00:05:20",
          "2023-09-06T00:05:04",
          "2023-09-07T00:05:01",
          "2023-09-08T00:05:14",
          "2023-09-09T00:05:32",
          "2023-09-10T00:05:13",
          "2023-09-11T00:05:10",
          "2023-09-12T00:05:01",
          "2023-09-13T00:05:37",
          "2023-09-14T00:05:25",
          "2023-09-15T00:05:01",
          "2023-09-16T00:05:26",
          "2023-09-17T00:05:10",
          "2023-09-18T00:05:27",
          "2023-09-19T00:05:33",
          "2023-09-20T00:05:36",
          "2023-09-21T00:05:30",
          "2023-09-22T00:05:04",
          "2023-09-23T00:05:22",
          "2023-09-24T00:05:29",
          "2023-09-25T00:05:13",
          "2023-09-26T00:05:14",
          "2023-09-27T00:05:39",
          "2023-09-28T00:05:18",
          "2023-09-29T00:05:29",
          "2023-09-30T00:05:27",
          "2023-10-01T00:05:31",
          "2023-10-02T00:05:05",
          "2023-10-03T00:05:25",
          "2023-10-04T00:05:12",
          "2023-10-05T00:05:05",
          "2023-10-06T00:05:04",
          "2023-10-07T00:05:07",
          "2023-10-08T00:05:20",
          "2023-10-09T00:05:43",
          "2023-10-10T00:05:05",
          "2023-10-11T00:05:17",
          "2023-10-12T00:05:23",
          "2023-10-13T00:05:16",
          "2023-10-14T00:05:22",
          "2023-10-15T00:05:29",
          "2023-10-16T00:05:28",
          "2023-10-17T00:05:03",
          "2023-10-18T00:05:08",
          "2023-10-19T00:05:05",
          "2023-10-20T00:05:28",
          "2023-10-21T00:05:14",
          "2023-10-22T00:05:30",
          "2023-10-23T00:05:44",
          "2023-10-24T00:05:09",
          "2023-10-25T00:05:18",
          "2023-10-26T00:05:23",
          "2023-10-27T00:05:11",
          "2023-10-28T00:05:36",
          "2023-10-29T00:05:14",
          "2023-10-30T00:05:27",
          "2023-10-31T00:05:42",
          "2023-11-01T00:05:36",
          "2023-11-02T00:05:42",
          "2023-11-03T00:05:36",
          "2023-11-04T00:05:35",
          "2023-11-05T00:05:33"
         ],
         "xaxis": "x",
         "y": [
          28412.879392607094,
          26798.38184584018,
          26066.879500993924,
          26064.795699991522,
          24866.02498188221,
          24968.390096029685,
          26160.512428045353,
          27358.24754889075,
          27195.573356812274,
          26129.56218302418,
          27178.02071149626,
          27283.17180001338,
          26868.581337028718,
          26948.07274287211,
          27812.007151599217,
          26633.23247569104,
          26660.270644863704,
          26848.058569321995,
          27084.866663627286,
          28301.776692189782,
          27825.655187499455,
          28431.805562483267,
          29964.21736780272,
          30243.76849101301,
          32461.33481977187,
          33382.170283036205,
          33630.047560807754,
          32026.62789620484,
          33537.72873008465,
          31995.348665332902,
          32837.15556168494,
          32727.650424366435,
          30473.69785572343,
          30644.223486708,
          29973.37985010342,
          29572.613422191487,
          28391.7143754833,
          28617.917895033926,
          29525.87338743666,
          29701.84011771994,
          28890.56767671594,
          29290.24515916432,
          30871.948556910324,
          32180.77587450177,
          31879.685246622048,
          32098.078626109087,
          28140.081140745144,
          29306.19000398876,
          26916.417335573482,
          18888.989772782792,
          16415.167927595812,
          17246.97030032923,
          15850.247437627093,
          12722.482846398496,
          11896.734992751908,
          12565.256915016365,
          13740.476754226542,
          12992.76540363739,
          12557.582628020722,
          13692.071085798203,
          13963.368625295489,
          13753.150393266098,
          13284.123940415242,
          13263.739138706871,
          13157.4417233728,
          13519.640426013711,
          12169.96124984359,
          12229.67966629324,
          11893.462331261371,
          11856.978394335873,
          10450.766182993906,
          10930.581883697472,
          10717.40731850705,
          10760.815669057345,
          10449.407374031944,
          9385.841136833775,
          8928.581422587988,
          9016.180359848404,
          9261.279657327685,
          9758.128682340845,
          9838.824923515305,
          9761.166783662427,
          9495.536539945371,
          9463.713286398444,
          9713.697562941512,
          9504.431693566909,
          9174.53300105301,
          9014.665245795184,
          9267.940142610467,
          9135.232881668,
          9118.560352787683,
          9278.333797680016,
          9258.301109318518,
          9234.595212116272,
          9181.838872566412,
          9312.779986186453,
          9233.370803358597,
          9345.98562079762,
          9088.102086240417,
          8811.7894993668,
          7892.472785875161,
          7475.367991381173,
          6174.62361294893,
          5880.935083921662,
          5979.898973148553,
          5800.29994796322,
          6626.374916149615,
          6467.991029925075,
          7753.565972145073,
          7680.597513612132,
          7705.776904483376,
          7519.8951891394745,
          7784.030261880922,
          7587.815401121346,
          7378.412456650426,
          7156.983250754648,
          6964.585035833311,
          6838.771264087088,
          6495.666482873249,
          6637.228665037167,
          6834.259036309636,
          6713.368133714349,
          6594.196070582017,
          6530.1755727081445,
          6608.134460445416,
          5943.018769725395,
          6001.428060558863,
          6045.148025619255,
          6077.946913251846,
          6087.908895747777,
          6208.325136061455,
          6230.8988446727735,
          6287.96464519854,
          6268.701239701249,
          6297.554034582492,
          6108.414912938714,
          6161.043168492061,
          5977.035305735255,
          6051.674129042678,
          6071.55776037919,
          6062.622672216779,
          6091.576898395513,
          6409.2205351688335,
          7073.425819703304,
          6804.572000221902,
          7255.153178280055,
          6968.574517482451,
          6923.171799717799,
          7171.944973748391,
          6740.26019816095,
          6946.417176340438,
          7033.306055185886,
          7166.138462090703,
          6594.506824339593,
          6701.998366732063,
          6644.406000421279,
          6467.4720584530305,
          6323.950102096906,
          6465.282325451776,
          6366.5684273979205,
          6512.790886122762,
          6502.67107135385,
          6567.890907389571,
          6829.302385866258,
          7106.431570628099,
          8126.640102500973,
          8814.918538587171,
          9260.240745101877,
          9271.184758848422,
          8871.376224178586,
          8691.741173221239,
          9252.780424431185,
          9336.058914994048,
          9424.460977397033,
          9300.74213076731,
          9501.750218948957,
          9513.457400314359,
          9277.535628224268,
          9344.416911961665,
          9368.743809588937
         ],
         "yaxis": "y"
        }
       ],
       "layout": {
        "autosize": true,
        "legend": {
         "title": {
          "text": "variable"
         },
         "tracegroupgap": 0
        },
        "template": {
         "data": {
          "bar": [
           {
            "error_x": {
             "color": "rgb(36,36,36)"
            },
            "error_y": {
             "color": "rgb(36,36,36)"
            },
            "marker": {
             "line": {
              "color": "rgb(234,234,242)",
              "width": 0.5
             },
             "pattern": {
              "fillmode": "overlay",
              "size": 10,
              "solidity": 0.2
             }
            },
            "type": "bar"
           }
          ],
          "barpolar": [
           {
            "marker": {
             "line": {
              "color": "rgb(234,234,242)",
              "width": 0.5
             },
             "pattern": {
              "fillmode": "overlay",
              "size": 10,
              "solidity": 0.2
             }
            },
            "type": "barpolar"
           }
          ],
          "carpet": [
           {
            "aaxis": {
             "endlinecolor": "rgb(36,36,36)",
             "gridcolor": "white",
             "linecolor": "white",
             "minorgridcolor": "white",
             "startlinecolor": "rgb(36,36,36)"
            },
            "baxis": {
             "endlinecolor": "rgb(36,36,36)",
             "gridcolor": "white",
             "linecolor": "white",
             "minorgridcolor": "white",
             "startlinecolor": "rgb(36,36,36)"
            },
            "type": "carpet"
           }
          ],
          "choropleth": [
           {
            "colorbar": {
             "outlinewidth": 0,
             "tickcolor": "rgb(36,36,36)",
             "ticklen": 8,
             "ticks": "outside",
             "tickwidth": 2
            },
            "type": "choropleth"
           }
          ],
          "contour": [
           {
            "colorbar": {
             "outlinewidth": 0,
             "tickcolor": "rgb(36,36,36)",
             "ticklen": 8,
             "ticks": "outside",
             "tickwidth": 2
            },
            "colorscale": [
             [
              0,
              "rgb(2,4,25)"
             ],
             [
              0.06274509803921569,
              "rgb(24,15,41)"
             ],
             [
              0.12549019607843137,
              "rgb(47,23,57)"
             ],
             [
              0.18823529411764706,
              "rgb(71,28,72)"
             ],
             [
              0.25098039215686274,
              "rgb(97,30,82)"
             ],
             [
              0.3137254901960784,
              "rgb(123,30,89)"
             ],
             [
              0.3764705882352941,
              "rgb(150,27,91)"
             ],
             [
              0.4392156862745098,
              "rgb(177,22,88)"
             ],
             [
              0.5019607843137255,
              "rgb(203,26,79)"
             ],
             [
              0.5647058823529412,
              "rgb(223,47,67)"
             ],
             [
              0.6274509803921569,
              "rgb(236,76,61)"
             ],
             [
              0.6901960784313725,
              "rgb(242,107,73)"
             ],
             [
              0.7529411764705882,
              "rgb(244,135,95)"
             ],
             [
              0.8156862745098039,
              "rgb(245,162,122)"
             ],
             [
              0.8784313725490196,
              "rgb(246,188,153)"
             ],
             [
              0.9411764705882353,
              "rgb(247,212,187)"
             ],
             [
              1,
              "rgb(250,234,220)"
             ]
            ],
            "type": "contour"
           }
          ],
          "contourcarpet": [
           {
            "colorbar": {
             "outlinewidth": 0,
             "tickcolor": "rgb(36,36,36)",
             "ticklen": 8,
             "ticks": "outside",
             "tickwidth": 2
            },
            "type": "contourcarpet"
           }
          ],
          "heatmap": [
           {
            "colorbar": {
             "outlinewidth": 0,
             "tickcolor": "rgb(36,36,36)",
             "ticklen": 8,
             "ticks": "outside",
             "tickwidth": 2
            },
            "colorscale": [
             [
              0,
              "rgb(2,4,25)"
             ],
             [
              0.06274509803921569,
              "rgb(24,15,41)"
             ],
             [
              0.12549019607843137,
              "rgb(47,23,57)"
             ],
             [
              0.18823529411764706,
              "rgb(71,28,72)"
             ],
             [
              0.25098039215686274,
              "rgb(97,30,82)"
             ],
             [
              0.3137254901960784,
              "rgb(123,30,89)"
             ],
             [
              0.3764705882352941,
              "rgb(150,27,91)"
             ],
             [
              0.4392156862745098,
              "rgb(177,22,88)"
             ],
             [
              0.5019607843137255,
              "rgb(203,26,79)"
             ],
             [
              0.5647058823529412,
              "rgb(223,47,67)"
             ],
             [
              0.6274509803921569,
              "rgb(236,76,61)"
             ],
             [
              0.6901960784313725,
              "rgb(242,107,73)"
             ],
             [
              0.7529411764705882,
              "rgb(244,135,95)"
             ],
             [
              0.8156862745098039,
              "rgb(245,162,122)"
             ],
             [
              0.8784313725490196,
              "rgb(246,188,153)"
             ],
             [
              0.9411764705882353,
              "rgb(247,212,187)"
             ],
             [
              1,
              "rgb(250,234,220)"
             ]
            ],
            "type": "heatmap"
           }
          ],
          "heatmapgl": [
           {
            "colorbar": {
             "outlinewidth": 0,
             "tickcolor": "rgb(36,36,36)",
             "ticklen": 8,
             "ticks": "outside",
             "tickwidth": 2
            },
            "colorscale": [
             [
              0,
              "rgb(2,4,25)"
             ],
             [
              0.06274509803921569,
              "rgb(24,15,41)"
             ],
             [
              0.12549019607843137,
              "rgb(47,23,57)"
             ],
             [
              0.18823529411764706,
              "rgb(71,28,72)"
             ],
             [
              0.25098039215686274,
              "rgb(97,30,82)"
             ],
             [
              0.3137254901960784,
              "rgb(123,30,89)"
             ],
             [
              0.3764705882352941,
              "rgb(150,27,91)"
             ],
             [
              0.4392156862745098,
              "rgb(177,22,88)"
             ],
             [
              0.5019607843137255,
              "rgb(203,26,79)"
             ],
             [
              0.5647058823529412,
              "rgb(223,47,67)"
             ],
             [
              0.6274509803921569,
              "rgb(236,76,61)"
             ],
             [
              0.6901960784313725,
              "rgb(242,107,73)"
             ],
             [
              0.7529411764705882,
              "rgb(244,135,95)"
             ],
             [
              0.8156862745098039,
              "rgb(245,162,122)"
             ],
             [
              0.8784313725490196,
              "rgb(246,188,153)"
             ],
             [
              0.9411764705882353,
              "rgb(247,212,187)"
             ],
             [
              1,
              "rgb(250,234,220)"
             ]
            ],
            "type": "heatmapgl"
           }
          ],
          "histogram": [
           {
            "marker": {
             "pattern": {
              "fillmode": "overlay",
              "size": 10,
              "solidity": 0.2
             }
            },
            "type": "histogram"
           }
          ],
          "histogram2d": [
           {
            "colorbar": {
             "outlinewidth": 0,
             "tickcolor": "rgb(36,36,36)",
             "ticklen": 8,
             "ticks": "outside",
             "tickwidth": 2
            },
            "colorscale": [
             [
              0,
              "rgb(2,4,25)"
             ],
             [
              0.06274509803921569,
              "rgb(24,15,41)"
             ],
             [
              0.12549019607843137,
              "rgb(47,23,57)"
             ],
             [
              0.18823529411764706,
              "rgb(71,28,72)"
             ],
             [
              0.25098039215686274,
              "rgb(97,30,82)"
             ],
             [
              0.3137254901960784,
              "rgb(123,30,89)"
             ],
             [
              0.3764705882352941,
              "rgb(150,27,91)"
             ],
             [
              0.4392156862745098,
              "rgb(177,22,88)"
             ],
             [
              0.5019607843137255,
              "rgb(203,26,79)"
             ],
             [
              0.5647058823529412,
              "rgb(223,47,67)"
             ],
             [
              0.6274509803921569,
              "rgb(236,76,61)"
             ],
             [
              0.6901960784313725,
              "rgb(242,107,73)"
             ],
             [
              0.7529411764705882,
              "rgb(244,135,95)"
             ],
             [
              0.8156862745098039,
              "rgb(245,162,122)"
             ],
             [
              0.8784313725490196,
              "rgb(246,188,153)"
             ],
             [
              0.9411764705882353,
              "rgb(247,212,187)"
             ],
             [
              1,
              "rgb(250,234,220)"
             ]
            ],
            "type": "histogram2d"
           }
          ],
          "histogram2dcontour": [
           {
            "colorbar": {
             "outlinewidth": 0,
             "tickcolor": "rgb(36,36,36)",
             "ticklen": 8,
             "ticks": "outside",
             "tickwidth": 2
            },
            "colorscale": [
             [
              0,
              "rgb(2,4,25)"
             ],
             [
              0.06274509803921569,
              "rgb(24,15,41)"
             ],
             [
              0.12549019607843137,
              "rgb(47,23,57)"
             ],
             [
              0.18823529411764706,
              "rgb(71,28,72)"
             ],
             [
              0.25098039215686274,
              "rgb(97,30,82)"
             ],
             [
              0.3137254901960784,
              "rgb(123,30,89)"
             ],
             [
              0.3764705882352941,
              "rgb(150,27,91)"
             ],
             [
              0.4392156862745098,
              "rgb(177,22,88)"
             ],
             [
              0.5019607843137255,
              "rgb(203,26,79)"
             ],
             [
              0.5647058823529412,
              "rgb(223,47,67)"
             ],
             [
              0.6274509803921569,
              "rgb(236,76,61)"
             ],
             [
              0.6901960784313725,
              "rgb(242,107,73)"
             ],
             [
              0.7529411764705882,
              "rgb(244,135,95)"
             ],
             [
              0.8156862745098039,
              "rgb(245,162,122)"
             ],
             [
              0.8784313725490196,
              "rgb(246,188,153)"
             ],
             [
              0.9411764705882353,
              "rgb(247,212,187)"
             ],
             [
              1,
              "rgb(250,234,220)"
             ]
            ],
            "type": "histogram2dcontour"
           }
          ],
          "mesh3d": [
           {
            "colorbar": {
             "outlinewidth": 0,
             "tickcolor": "rgb(36,36,36)",
             "ticklen": 8,
             "ticks": "outside",
             "tickwidth": 2
            },
            "type": "mesh3d"
           }
          ],
          "parcoords": [
           {
            "line": {
             "colorbar": {
              "outlinewidth": 0,
              "tickcolor": "rgb(36,36,36)",
              "ticklen": 8,
              "ticks": "outside",
              "tickwidth": 2
             }
            },
            "type": "parcoords"
           }
          ],
          "pie": [
           {
            "automargin": true,
            "type": "pie"
           }
          ],
          "scatter": [
           {
            "fillpattern": {
             "fillmode": "overlay",
             "size": 10,
             "solidity": 0.2
            },
            "type": "scatter"
           }
          ],
          "scatter3d": [
           {
            "line": {
             "colorbar": {
              "outlinewidth": 0,
              "tickcolor": "rgb(36,36,36)",
              "ticklen": 8,
              "ticks": "outside",
              "tickwidth": 2
             }
            },
            "marker": {
             "colorbar": {
              "outlinewidth": 0,
              "tickcolor": "rgb(36,36,36)",
              "ticklen": 8,
              "ticks": "outside",
              "tickwidth": 2
             }
            },
            "type": "scatter3d"
           }
          ],
          "scattercarpet": [
           {
            "marker": {
             "colorbar": {
              "outlinewidth": 0,
              "tickcolor": "rgb(36,36,36)",
              "ticklen": 8,
              "ticks": "outside",
              "tickwidth": 2
             }
            },
            "type": "scattercarpet"
           }
          ],
          "scattergeo": [
           {
            "marker": {
             "colorbar": {
              "outlinewidth": 0,
              "tickcolor": "rgb(36,36,36)",
              "ticklen": 8,
              "ticks": "outside",
              "tickwidth": 2
             }
            },
            "type": "scattergeo"
           }
          ],
          "scattergl": [
           {
            "marker": {
             "colorbar": {
              "outlinewidth": 0,
              "tickcolor": "rgb(36,36,36)",
              "ticklen": 8,
              "ticks": "outside",
              "tickwidth": 2
             }
            },
            "type": "scattergl"
           }
          ],
          "scattermapbox": [
           {
            "marker": {
             "colorbar": {
              "outlinewidth": 0,
              "tickcolor": "rgb(36,36,36)",
              "ticklen": 8,
              "ticks": "outside",
              "tickwidth": 2
             }
            },
            "type": "scattermapbox"
           }
          ],
          "scatterpolar": [
           {
            "marker": {
             "colorbar": {
              "outlinewidth": 0,
              "tickcolor": "rgb(36,36,36)",
              "ticklen": 8,
              "ticks": "outside",
              "tickwidth": 2
             }
            },
            "type": "scatterpolar"
           }
          ],
          "scatterpolargl": [
           {
            "marker": {
             "colorbar": {
              "outlinewidth": 0,
              "tickcolor": "rgb(36,36,36)",
              "ticklen": 8,
              "ticks": "outside",
              "tickwidth": 2
             }
            },
            "type": "scatterpolargl"
           }
          ],
          "scatterternary": [
           {
            "marker": {
             "colorbar": {
              "outlinewidth": 0,
              "tickcolor": "rgb(36,36,36)",
              "ticklen": 8,
              "ticks": "outside",
              "tickwidth": 2
             }
            },
            "type": "scatterternary"
           }
          ],
          "surface": [
           {
            "colorbar": {
             "outlinewidth": 0,
             "tickcolor": "rgb(36,36,36)",
             "ticklen": 8,
             "ticks": "outside",
             "tickwidth": 2
            },
            "colorscale": [
             [
              0,
              "rgb(2,4,25)"
             ],
             [
              0.06274509803921569,
              "rgb(24,15,41)"
             ],
             [
              0.12549019607843137,
              "rgb(47,23,57)"
             ],
             [
              0.18823529411764706,
              "rgb(71,28,72)"
             ],
             [
              0.25098039215686274,
              "rgb(97,30,82)"
             ],
             [
              0.3137254901960784,
              "rgb(123,30,89)"
             ],
             [
              0.3764705882352941,
              "rgb(150,27,91)"
             ],
             [
              0.4392156862745098,
              "rgb(177,22,88)"
             ],
             [
              0.5019607843137255,
              "rgb(203,26,79)"
             ],
             [
              0.5647058823529412,
              "rgb(223,47,67)"
             ],
             [
              0.6274509803921569,
              "rgb(236,76,61)"
             ],
             [
              0.6901960784313725,
              "rgb(242,107,73)"
             ],
             [
              0.7529411764705882,
              "rgb(244,135,95)"
             ],
             [
              0.8156862745098039,
              "rgb(245,162,122)"
             ],
             [
              0.8784313725490196,
              "rgb(246,188,153)"
             ],
             [
              0.9411764705882353,
              "rgb(247,212,187)"
             ],
             [
              1,
              "rgb(250,234,220)"
             ]
            ],
            "type": "surface"
           }
          ],
          "table": [
           {
            "cells": {
             "fill": {
              "color": "rgb(231,231,240)"
             },
             "line": {
              "color": "white"
             }
            },
            "header": {
             "fill": {
              "color": "rgb(183,183,191)"
             },
             "line": {
              "color": "white"
             }
            },
            "type": "table"
           }
          ]
         },
         "layout": {
          "annotationdefaults": {
           "arrowcolor": "rgb(67,103,167)"
          },
          "autotypenumbers": "strict",
          "coloraxis": {
           "colorbar": {
            "outlinewidth": 0,
            "tickcolor": "rgb(36,36,36)",
            "ticklen": 8,
            "ticks": "outside",
            "tickwidth": 2
           }
          },
          "colorscale": {
           "sequential": [
            [
             0,
             "rgb(2,4,25)"
            ],
            [
             0.06274509803921569,
             "rgb(24,15,41)"
            ],
            [
             0.12549019607843137,
             "rgb(47,23,57)"
            ],
            [
             0.18823529411764706,
             "rgb(71,28,72)"
            ],
            [
             0.25098039215686274,
             "rgb(97,30,82)"
            ],
            [
             0.3137254901960784,
             "rgb(123,30,89)"
            ],
            [
             0.3764705882352941,
             "rgb(150,27,91)"
            ],
            [
             0.4392156862745098,
             "rgb(177,22,88)"
            ],
            [
             0.5019607843137255,
             "rgb(203,26,79)"
            ],
            [
             0.5647058823529412,
             "rgb(223,47,67)"
            ],
            [
             0.6274509803921569,
             "rgb(236,76,61)"
            ],
            [
             0.6901960784313725,
             "rgb(242,107,73)"
            ],
            [
             0.7529411764705882,
             "rgb(244,135,95)"
            ],
            [
             0.8156862745098039,
             "rgb(245,162,122)"
            ],
            [
             0.8784313725490196,
             "rgb(246,188,153)"
            ],
            [
             0.9411764705882353,
             "rgb(247,212,187)"
            ],
            [
             1,
             "rgb(250,234,220)"
            ]
           ],
           "sequentialminus": [
            [
             0,
             "rgb(2,4,25)"
            ],
            [
             0.06274509803921569,
             "rgb(24,15,41)"
            ],
            [
             0.12549019607843137,
             "rgb(47,23,57)"
            ],
            [
             0.18823529411764706,
             "rgb(71,28,72)"
            ],
            [
             0.25098039215686274,
             "rgb(97,30,82)"
            ],
            [
             0.3137254901960784,
             "rgb(123,30,89)"
            ],
            [
             0.3764705882352941,
             "rgb(150,27,91)"
            ],
            [
             0.4392156862745098,
             "rgb(177,22,88)"
            ],
            [
             0.5019607843137255,
             "rgb(203,26,79)"
            ],
            [
             0.5647058823529412,
             "rgb(223,47,67)"
            ],
            [
             0.6274509803921569,
             "rgb(236,76,61)"
            ],
            [
             0.6901960784313725,
             "rgb(242,107,73)"
            ],
            [
             0.7529411764705882,
             "rgb(244,135,95)"
            ],
            [
             0.8156862745098039,
             "rgb(245,162,122)"
            ],
            [
             0.8784313725490196,
             "rgb(246,188,153)"
            ],
            [
             0.9411764705882353,
             "rgb(247,212,187)"
            ],
            [
             1,
             "rgb(250,234,220)"
            ]
           ]
          },
          "colorway": [
           "rgb(76,114,176)",
           "rgb(221,132,82)",
           "rgb(85,168,104)",
           "rgb(196,78,82)",
           "rgb(129,114,179)",
           "rgb(147,120,96)",
           "rgb(218,139,195)",
           "rgb(140,140,140)",
           "rgb(204,185,116)",
           "rgb(100,181,205)"
          ],
          "font": {
           "color": "rgb(36,36,36)"
          },
          "geo": {
           "bgcolor": "white",
           "lakecolor": "white",
           "landcolor": "rgb(234,234,242)",
           "showlakes": true,
           "showland": true,
           "subunitcolor": "white"
          },
          "hoverlabel": {
           "align": "left"
          },
          "hovermode": "closest",
          "paper_bgcolor": "white",
          "plot_bgcolor": "rgb(234,234,242)",
          "polar": {
           "angularaxis": {
            "gridcolor": "white",
            "linecolor": "white",
            "showgrid": true,
            "ticks": ""
           },
           "bgcolor": "rgb(234,234,242)",
           "radialaxis": {
            "gridcolor": "white",
            "linecolor": "white",
            "showgrid": true,
            "ticks": ""
           }
          },
          "scene": {
           "xaxis": {
            "backgroundcolor": "rgb(234,234,242)",
            "gridcolor": "white",
            "gridwidth": 2,
            "linecolor": "white",
            "showbackground": true,
            "showgrid": true,
            "ticks": "",
            "zerolinecolor": "white"
           },
           "yaxis": {
            "backgroundcolor": "rgb(234,234,242)",
            "gridcolor": "white",
            "gridwidth": 2,
            "linecolor": "white",
            "showbackground": true,
            "showgrid": true,
            "ticks": "",
            "zerolinecolor": "white"
           },
           "zaxis": {
            "backgroundcolor": "rgb(234,234,242)",
            "gridcolor": "white",
            "gridwidth": 2,
            "linecolor": "white",
            "showbackground": true,
            "showgrid": true,
            "ticks": "",
            "zerolinecolor": "white"
           }
          },
          "shapedefaults": {
           "fillcolor": "rgb(67,103,167)",
           "line": {
            "width": 0
           },
           "opacity": 0.5
          },
          "ternary": {
           "aaxis": {
            "gridcolor": "white",
            "linecolor": "white",
            "showgrid": true,
            "ticks": ""
           },
           "baxis": {
            "gridcolor": "white",
            "linecolor": "white",
            "showgrid": true,
            "ticks": ""
           },
           "bgcolor": "rgb(234,234,242)",
           "caxis": {
            "gridcolor": "white",
            "linecolor": "white",
            "showgrid": true,
            "ticks": ""
           }
          },
          "xaxis": {
           "automargin": true,
           "gridcolor": "white",
           "linecolor": "white",
           "showgrid": true,
           "ticks": "",
           "title": {
            "standoff": 15
           },
           "zerolinecolor": "white"
          },
          "yaxis": {
           "automargin": true,
           "gridcolor": "white",
           "linecolor": "white",
           "showgrid": true,
           "ticks": "",
           "title": {
            "standoff": 15
           },
           "zerolinecolor": "white"
          }
         }
        },
        "title": {
         "text": "Historical floor price for azuki"
        },
        "xaxis": {
         "anchor": "y",
         "autorange": true,
         "domain": [
          0,
          1
         ],
         "range": [
          "2023-05-10 00:05:18",
          "2023-11-05 00:05:33"
         ],
         "title": {
          "text": "Time"
         },
         "type": "date"
        },
        "yaxis": {
         "anchor": "x",
         "autorange": true,
         "domain": [
          0,
          1
         ],
         "range": [
          4254.202858360746,
          35176.14465041023
         ],
         "title": {
          "text": "Price [USD]"
         },
         "type": "linear"
        }
       }
      },
      "text/html": [
       "<div>                            <div id=\"562cc63e-6d46-4cea-a3b3-d20020e4b220\" class=\"plotly-graph-div\" style=\"height:525px; width:100%;\"></div>            <script type=\"text/javascript\">                require([\"plotly\"], function(Plotly) {                    window.PLOTLYENV=window.PLOTLYENV || {};                                    if (document.getElementById(\"562cc63e-6d46-4cea-a3b3-d20020e4b220\")) {                    Plotly.newPlot(                        \"562cc63e-6d46-4cea-a3b3-d20020e4b220\",                        [{\"hovertemplate\":\"variable=Price_usd\\u003cbr\\u003eTime=%{x}\\u003cbr\\u003ePrice [USD]=%{y}\\u003cextra\\u003e\\u003c\\u002fextra\\u003e\",\"legendgroup\":\"Price_usd\",\"line\":{\"color\":\"rgb(76,114,176)\",\"dash\":\"solid\"},\"marker\":{\"symbol\":\"circle\"},\"mode\":\"lines\",\"name\":\"Price_usd\",\"orientation\":\"v\",\"showlegend\":true,\"x\":[\"2023-05-10T00:05:18\",\"2023-05-11T00:05:03\",\"2023-05-12T00:05:02\",\"2023-05-13T00:05:17\",\"2023-05-14T00:05:19\",\"2023-05-15T00:05:11\",\"2023-05-16T00:05:38\",\"2023-05-17T00:05:19\",\"2023-05-18T00:05:17\",\"2023-05-19T00:05:32\",\"2023-05-20T00:05:01\",\"2023-05-21T00:05:13\",\"2023-05-22T00:05:20\",\"2023-05-23T00:05:35\",\"2023-05-24T00:05:21\",\"2023-05-25T00:05:20\",\"2023-05-26T00:05:26\",\"2023-05-27T00:05:39\",\"2023-05-28T00:05:21\",\"2023-05-29T00:05:42\",\"2023-05-30T00:05:24\",\"2023-05-31T00:05:28\",\"2023-06-01T00:05:18\",\"2023-06-02T00:05:25\",\"2023-06-03T00:05:35\",\"2023-06-04T00:05:38\",\"2023-06-05T00:05:32\",\"2023-06-06T00:05:42\",\"2023-06-07T00:05:31\",\"2023-06-08T00:05:26\",\"2023-06-09T00:05:26\",\"2023-06-10T00:05:34\",\"2023-06-11T00:05:05\",\"2023-06-12T00:05:55\",\"2023-06-13T00:05:32\",\"2023-06-14T00:05:33\",\"2023-06-15T00:05:15\",\"2023-06-16T00:05:27\",\"2023-06-17T00:05:24\",\"2023-06-18T00:05:12\",\"2023-06-19T00:05:24\",\"2023-06-20T00:05:27\",\"2023-06-21T00:05:04\",\"2023-06-22T00:05:26\",\"2023-06-23T00:05:09\",\"2023-06-24T00:05:01\",\"2023-06-25T00:05:13\",\"2023-06-26T00:05:40\",\"2023-06-27T00:05:25\",\"2023-06-28T00:05:19\",\"2023-06-29T00:05:27\",\"2023-06-30T00:05:33\",\"2023-07-01T00:05:13\",\"2023-07-02T00:05:17\",\"2023-07-03T00:05:20\",\"2023-07-04T00:05:24\",\"2023-07-05T00:05:24\",\"2023-07-06T00:05:34\",\"2023-07-07T00:05:30\",\"2023-07-08T00:05:32\",\"2023-07-09T00:05:25\",\"2023-07-10T00:05:14\",\"2023-07-11T00:05:34\",\"2023-07-12T00:05:02\",\"2023-07-13T00:05:27\",\"2023-07-14T00:05:43\",\"2023-07-15T00:05:21\",\"2023-07-16T00:05:10\",\"2023-07-17T00:05:14\",\"2023-07-18T00:05:36\",\"2023-07-19T00:05:25\",\"2023-07-20T00:05:15\",\"2023-07-21T00:05:31\",\"2023-07-22T00:05:32\",\"2023-07-23T00:05:15\",\"2023-07-24T00:05:23\",\"2023-07-25T00:05:29\",\"2023-07-26T00:05:24\",\"2023-07-27T00:05:23\",\"2023-07-28T00:05:28\",\"2023-07-29T00:05:17\",\"2023-07-30T00:05:54\",\"2023-07-31T00:05:13\",\"2023-08-01T00:05:07\",\"2023-08-02T00:05:17\",\"2023-08-03T00:05:22\",\"2023-08-04T00:05:03\",\"2023-08-05T00:05:01\",\"2023-08-06T00:05:35\",\"2023-08-07T00:05:29\",\"2023-08-08T00:05:17\",\"2023-08-09T00:05:36\",\"2023-08-10T00:05:35\",\"2023-08-11T00:05:16\",\"2023-08-12T00:05:27\",\"2023-08-13T00:05:13\",\"2023-08-14T00:05:06\",\"2023-08-15T00:05:14\",\"2023-08-16T00:05:14\",\"2023-08-17T00:05:28\",\"2023-08-18T00:05:20\",\"2023-08-19T00:05:12\",\"2023-08-20T00:05:17\",\"2023-08-21T00:05:12\",\"2023-08-22T00:05:10\",\"2023-08-23T00:05:26\",\"2023-08-24T00:05:13\",\"2023-08-25T00:05:04\",\"2023-08-26T00:05:18\",\"2023-08-27T00:05:23\",\"2023-08-28T00:05:14\",\"2023-08-29T00:05:13\",\"2023-08-30T00:05:24\",\"2023-08-31T00:05:27\",\"2023-09-01T00:05:15\",\"2023-09-02T00:05:23\",\"2023-09-03T00:05:34\",\"2023-09-04T00:05:16\",\"2023-09-05T00:05:20\",\"2023-09-06T00:05:04\",\"2023-09-07T00:05:01\",\"2023-09-08T00:05:14\",\"2023-09-09T00:05:32\",\"2023-09-10T00:05:13\",\"2023-09-11T00:05:10\",\"2023-09-12T00:05:01\",\"2023-09-13T00:05:37\",\"2023-09-14T00:05:25\",\"2023-09-15T00:05:01\",\"2023-09-16T00:05:26\",\"2023-09-17T00:05:10\",\"2023-09-18T00:05:27\",\"2023-09-19T00:05:33\",\"2023-09-20T00:05:36\",\"2023-09-21T00:05:30\",\"2023-09-22T00:05:04\",\"2023-09-23T00:05:22\",\"2023-09-24T00:05:29\",\"2023-09-25T00:05:13\",\"2023-09-26T00:05:14\",\"2023-09-27T00:05:39\",\"2023-09-28T00:05:18\",\"2023-09-29T00:05:29\",\"2023-09-30T00:05:27\",\"2023-10-01T00:05:31\",\"2023-10-02T00:05:05\",\"2023-10-03T00:05:25\",\"2023-10-04T00:05:12\",\"2023-10-05T00:05:05\",\"2023-10-06T00:05:04\",\"2023-10-07T00:05:07\",\"2023-10-08T00:05:20\",\"2023-10-09T00:05:43\",\"2023-10-10T00:05:05\",\"2023-10-11T00:05:17\",\"2023-10-12T00:05:23\",\"2023-10-13T00:05:16\",\"2023-10-14T00:05:22\",\"2023-10-15T00:05:29\",\"2023-10-16T00:05:28\",\"2023-10-17T00:05:03\",\"2023-10-18T00:05:08\",\"2023-10-19T00:05:05\",\"2023-10-20T00:05:28\",\"2023-10-21T00:05:14\",\"2023-10-22T00:05:30\",\"2023-10-23T00:05:44\",\"2023-10-24T00:05:09\",\"2023-10-25T00:05:18\",\"2023-10-26T00:05:23\",\"2023-10-27T00:05:11\",\"2023-10-28T00:05:36\",\"2023-10-29T00:05:14\",\"2023-10-30T00:05:27\",\"2023-10-31T00:05:42\",\"2023-11-01T00:05:36\",\"2023-11-02T00:05:42\",\"2023-11-03T00:05:36\",\"2023-11-04T00:05:35\",\"2023-11-05T00:05:33\"],\"xaxis\":\"x\",\"y\":[28412.879392607094,26798.38184584018,26066.879500993924,26064.795699991522,24866.02498188221,24968.390096029685,26160.512428045353,27358.24754889075,27195.573356812274,26129.56218302418,27178.02071149626,27283.17180001338,26868.581337028718,26948.07274287211,27812.007151599217,26633.23247569104,26660.270644863704,26848.058569321995,27084.866663627286,28301.776692189782,27825.655187499455,28431.805562483267,29964.21736780272,30243.76849101301,32461.33481977187,33382.170283036205,33630.047560807754,32026.62789620484,33537.72873008465,31995.348665332902,32837.15556168494,32727.650424366435,30473.69785572343,30644.223486708,29973.37985010342,29572.613422191487,28391.7143754833,28617.917895033926,29525.87338743666,29701.84011771994,28890.56767671594,29290.24515916432,30871.948556910324,32180.77587450177,31879.685246622048,32098.078626109087,28140.081140745144,29306.19000398876,26916.417335573482,18888.989772782792,16415.167927595812,17246.97030032923,15850.247437627093,12722.482846398496,11896.734992751908,12565.256915016365,13740.476754226542,12992.76540363739,12557.582628020722,13692.071085798203,13963.368625295489,13753.150393266098,13284.123940415242,13263.739138706871,13157.4417233728,13519.640426013711,12169.96124984359,12229.67966629324,11893.462331261371,11856.978394335873,10450.766182993906,10930.581883697472,10717.40731850705,10760.815669057345,10449.407374031944,9385.841136833775,8928.581422587988,9016.180359848404,9261.279657327685,9758.128682340845,9838.824923515305,9761.166783662427,9495.536539945371,9463.713286398444,9713.697562941512,9504.431693566909,9174.53300105301,9014.665245795184,9267.940142610467,9135.232881668,9118.560352787683,9278.333797680016,9258.301109318518,9234.595212116272,9181.838872566412,9312.779986186453,9233.370803358597,9345.98562079762,9088.102086240417,8811.7894993668,7892.472785875161,7475.367991381173,6174.62361294893,5880.935083921662,5979.898973148553,5800.29994796322,6626.374916149615,6467.991029925075,7753.565972145073,7680.597513612132,7705.776904483376,7519.8951891394745,7784.030261880922,7587.815401121346,7378.412456650426,7156.983250754648,6964.585035833311,6838.771264087088,6495.666482873249,6637.228665037167,6834.259036309636,6713.368133714349,6594.196070582017,6530.1755727081445,6608.134460445416,5943.018769725395,6001.428060558863,6045.148025619255,6077.946913251846,6087.908895747777,6208.325136061455,6230.8988446727735,6287.96464519854,6268.701239701249,6297.554034582492,6108.414912938714,6161.043168492061,5977.035305735255,6051.674129042678,6071.55776037919,6062.622672216779,6091.576898395513,6409.2205351688335,7073.425819703304,6804.572000221902,7255.153178280055,6968.574517482451,6923.171799717799,7171.944973748391,6740.26019816095,6946.417176340438,7033.306055185886,7166.138462090703,6594.506824339593,6701.998366732063,6644.406000421279,6467.4720584530305,6323.950102096906,6465.282325451776,6366.5684273979205,6512.790886122762,6502.67107135385,6567.890907389571,6829.302385866258,7106.431570628099,8126.640102500973,8814.918538587171,9260.240745101877,9271.184758848422,8871.376224178586,8691.741173221239,9252.780424431185,9336.058914994048,9424.460977397033,9300.74213076731,9501.750218948957,9513.457400314359,9277.535628224268,9344.416911961665,9368.743809588937],\"yaxis\":\"y\",\"type\":\"scatter\"}],                        {\"template\":{\"data\":{\"barpolar\":[{\"marker\":{\"line\":{\"color\":\"rgb(234,234,242)\",\"width\":0.5},\"pattern\":{\"fillmode\":\"overlay\",\"size\":10,\"solidity\":0.2}},\"type\":\"barpolar\"}],\"bar\":[{\"error_x\":{\"color\":\"rgb(36,36,36)\"},\"error_y\":{\"color\":\"rgb(36,36,36)\"},\"marker\":{\"line\":{\"color\":\"rgb(234,234,242)\",\"width\":0.5},\"pattern\":{\"fillmode\":\"overlay\",\"size\":10,\"solidity\":0.2}},\"type\":\"bar\"}],\"carpet\":[{\"aaxis\":{\"endlinecolor\":\"rgb(36,36,36)\",\"gridcolor\":\"white\",\"linecolor\":\"white\",\"minorgridcolor\":\"white\",\"startlinecolor\":\"rgb(36,36,36)\"},\"baxis\":{\"endlinecolor\":\"rgb(36,36,36)\",\"gridcolor\":\"white\",\"linecolor\":\"white\",\"minorgridcolor\":\"white\",\"startlinecolor\":\"rgb(36,36,36)\"},\"type\":\"carpet\"}],\"choropleth\":[{\"colorbar\":{\"outlinewidth\":0,\"tickcolor\":\"rgb(36,36,36)\",\"ticklen\":8,\"ticks\":\"outside\",\"tickwidth\":2},\"type\":\"choropleth\"}],\"contourcarpet\":[{\"colorbar\":{\"outlinewidth\":0,\"tickcolor\":\"rgb(36,36,36)\",\"ticklen\":8,\"ticks\":\"outside\",\"tickwidth\":2},\"type\":\"contourcarpet\"}],\"contour\":[{\"colorbar\":{\"outlinewidth\":0,\"tickcolor\":\"rgb(36,36,36)\",\"ticklen\":8,\"ticks\":\"outside\",\"tickwidth\":2},\"colorscale\":[[0.0,\"rgb(2,4,25)\"],[0.06274509803921569,\"rgb(24,15,41)\"],[0.12549019607843137,\"rgb(47,23,57)\"],[0.18823529411764706,\"rgb(71,28,72)\"],[0.25098039215686274,\"rgb(97,30,82)\"],[0.3137254901960784,\"rgb(123,30,89)\"],[0.3764705882352941,\"rgb(150,27,91)\"],[0.4392156862745098,\"rgb(177,22,88)\"],[0.5019607843137255,\"rgb(203,26,79)\"],[0.5647058823529412,\"rgb(223,47,67)\"],[0.6274509803921569,\"rgb(236,76,61)\"],[0.6901960784313725,\"rgb(242,107,73)\"],[0.7529411764705882,\"rgb(244,135,95)\"],[0.8156862745098039,\"rgb(245,162,122)\"],[0.8784313725490196,\"rgb(246,188,153)\"],[0.9411764705882353,\"rgb(247,212,187)\"],[1.0,\"rgb(250,234,220)\"]],\"type\":\"contour\"}],\"heatmapgl\":[{\"colorbar\":{\"outlinewidth\":0,\"tickcolor\":\"rgb(36,36,36)\",\"ticklen\":8,\"ticks\":\"outside\",\"tickwidth\":2},\"colorscale\":[[0.0,\"rgb(2,4,25)\"],[0.06274509803921569,\"rgb(24,15,41)\"],[0.12549019607843137,\"rgb(47,23,57)\"],[0.18823529411764706,\"rgb(71,28,72)\"],[0.25098039215686274,\"rgb(97,30,82)\"],[0.3137254901960784,\"rgb(123,30,89)\"],[0.3764705882352941,\"rgb(150,27,91)\"],[0.4392156862745098,\"rgb(177,22,88)\"],[0.5019607843137255,\"rgb(203,26,79)\"],[0.5647058823529412,\"rgb(223,47,67)\"],[0.6274509803921569,\"rgb(236,76,61)\"],[0.6901960784313725,\"rgb(242,107,73)\"],[0.7529411764705882,\"rgb(244,135,95)\"],[0.8156862745098039,\"rgb(245,162,122)\"],[0.8784313725490196,\"rgb(246,188,153)\"],[0.9411764705882353,\"rgb(247,212,187)\"],[1.0,\"rgb(250,234,220)\"]],\"type\":\"heatmapgl\"}],\"heatmap\":[{\"colorbar\":{\"outlinewidth\":0,\"tickcolor\":\"rgb(36,36,36)\",\"ticklen\":8,\"ticks\":\"outside\",\"tickwidth\":2},\"colorscale\":[[0.0,\"rgb(2,4,25)\"],[0.06274509803921569,\"rgb(24,15,41)\"],[0.12549019607843137,\"rgb(47,23,57)\"],[0.18823529411764706,\"rgb(71,28,72)\"],[0.25098039215686274,\"rgb(97,30,82)\"],[0.3137254901960784,\"rgb(123,30,89)\"],[0.3764705882352941,\"rgb(150,27,91)\"],[0.4392156862745098,\"rgb(177,22,88)\"],[0.5019607843137255,\"rgb(203,26,79)\"],[0.5647058823529412,\"rgb(223,47,67)\"],[0.6274509803921569,\"rgb(236,76,61)\"],[0.6901960784313725,\"rgb(242,107,73)\"],[0.7529411764705882,\"rgb(244,135,95)\"],[0.8156862745098039,\"rgb(245,162,122)\"],[0.8784313725490196,\"rgb(246,188,153)\"],[0.9411764705882353,\"rgb(247,212,187)\"],[1.0,\"rgb(250,234,220)\"]],\"type\":\"heatmap\"}],\"histogram2dcontour\":[{\"colorbar\":{\"outlinewidth\":0,\"tickcolor\":\"rgb(36,36,36)\",\"ticklen\":8,\"ticks\":\"outside\",\"tickwidth\":2},\"colorscale\":[[0.0,\"rgb(2,4,25)\"],[0.06274509803921569,\"rgb(24,15,41)\"],[0.12549019607843137,\"rgb(47,23,57)\"],[0.18823529411764706,\"rgb(71,28,72)\"],[0.25098039215686274,\"rgb(97,30,82)\"],[0.3137254901960784,\"rgb(123,30,89)\"],[0.3764705882352941,\"rgb(150,27,91)\"],[0.4392156862745098,\"rgb(177,22,88)\"],[0.5019607843137255,\"rgb(203,26,79)\"],[0.5647058823529412,\"rgb(223,47,67)\"],[0.6274509803921569,\"rgb(236,76,61)\"],[0.6901960784313725,\"rgb(242,107,73)\"],[0.7529411764705882,\"rgb(244,135,95)\"],[0.8156862745098039,\"rgb(245,162,122)\"],[0.8784313725490196,\"rgb(246,188,153)\"],[0.9411764705882353,\"rgb(247,212,187)\"],[1.0,\"rgb(250,234,220)\"]],\"type\":\"histogram2dcontour\"}],\"histogram2d\":[{\"colorbar\":{\"outlinewidth\":0,\"tickcolor\":\"rgb(36,36,36)\",\"ticklen\":8,\"ticks\":\"outside\",\"tickwidth\":2},\"colorscale\":[[0.0,\"rgb(2,4,25)\"],[0.06274509803921569,\"rgb(24,15,41)\"],[0.12549019607843137,\"rgb(47,23,57)\"],[0.18823529411764706,\"rgb(71,28,72)\"],[0.25098039215686274,\"rgb(97,30,82)\"],[0.3137254901960784,\"rgb(123,30,89)\"],[0.3764705882352941,\"rgb(150,27,91)\"],[0.4392156862745098,\"rgb(177,22,88)\"],[0.5019607843137255,\"rgb(203,26,79)\"],[0.5647058823529412,\"rgb(223,47,67)\"],[0.6274509803921569,\"rgb(236,76,61)\"],[0.6901960784313725,\"rgb(242,107,73)\"],[0.7529411764705882,\"rgb(244,135,95)\"],[0.8156862745098039,\"rgb(245,162,122)\"],[0.8784313725490196,\"rgb(246,188,153)\"],[0.9411764705882353,\"rgb(247,212,187)\"],[1.0,\"rgb(250,234,220)\"]],\"type\":\"histogram2d\"}],\"histogram\":[{\"marker\":{\"pattern\":{\"fillmode\":\"overlay\",\"size\":10,\"solidity\":0.2}},\"type\":\"histogram\"}],\"mesh3d\":[{\"colorbar\":{\"outlinewidth\":0,\"tickcolor\":\"rgb(36,36,36)\",\"ticklen\":8,\"ticks\":\"outside\",\"tickwidth\":2},\"type\":\"mesh3d\"}],\"parcoords\":[{\"line\":{\"colorbar\":{\"outlinewidth\":0,\"tickcolor\":\"rgb(36,36,36)\",\"ticklen\":8,\"ticks\":\"outside\",\"tickwidth\":2}},\"type\":\"parcoords\"}],\"pie\":[{\"automargin\":true,\"type\":\"pie\"}],\"scatter3d\":[{\"line\":{\"colorbar\":{\"outlinewidth\":0,\"tickcolor\":\"rgb(36,36,36)\",\"ticklen\":8,\"ticks\":\"outside\",\"tickwidth\":2}},\"marker\":{\"colorbar\":{\"outlinewidth\":0,\"tickcolor\":\"rgb(36,36,36)\",\"ticklen\":8,\"ticks\":\"outside\",\"tickwidth\":2}},\"type\":\"scatter3d\"}],\"scattercarpet\":[{\"marker\":{\"colorbar\":{\"outlinewidth\":0,\"tickcolor\":\"rgb(36,36,36)\",\"ticklen\":8,\"ticks\":\"outside\",\"tickwidth\":2}},\"type\":\"scattercarpet\"}],\"scattergeo\":[{\"marker\":{\"colorbar\":{\"outlinewidth\":0,\"tickcolor\":\"rgb(36,36,36)\",\"ticklen\":8,\"ticks\":\"outside\",\"tickwidth\":2}},\"type\":\"scattergeo\"}],\"scattergl\":[{\"marker\":{\"colorbar\":{\"outlinewidth\":0,\"tickcolor\":\"rgb(36,36,36)\",\"ticklen\":8,\"ticks\":\"outside\",\"tickwidth\":2}},\"type\":\"scattergl\"}],\"scattermapbox\":[{\"marker\":{\"colorbar\":{\"outlinewidth\":0,\"tickcolor\":\"rgb(36,36,36)\",\"ticklen\":8,\"ticks\":\"outside\",\"tickwidth\":2}},\"type\":\"scattermapbox\"}],\"scatterpolargl\":[{\"marker\":{\"colorbar\":{\"outlinewidth\":0,\"tickcolor\":\"rgb(36,36,36)\",\"ticklen\":8,\"ticks\":\"outside\",\"tickwidth\":2}},\"type\":\"scatterpolargl\"}],\"scatterpolar\":[{\"marker\":{\"colorbar\":{\"outlinewidth\":0,\"tickcolor\":\"rgb(36,36,36)\",\"ticklen\":8,\"ticks\":\"outside\",\"tickwidth\":2}},\"type\":\"scatterpolar\"}],\"scatter\":[{\"fillpattern\":{\"fillmode\":\"overlay\",\"size\":10,\"solidity\":0.2},\"type\":\"scatter\"}],\"scatterternary\":[{\"marker\":{\"colorbar\":{\"outlinewidth\":0,\"tickcolor\":\"rgb(36,36,36)\",\"ticklen\":8,\"ticks\":\"outside\",\"tickwidth\":2}},\"type\":\"scatterternary\"}],\"surface\":[{\"colorbar\":{\"outlinewidth\":0,\"tickcolor\":\"rgb(36,36,36)\",\"ticklen\":8,\"ticks\":\"outside\",\"tickwidth\":2},\"colorscale\":[[0.0,\"rgb(2,4,25)\"],[0.06274509803921569,\"rgb(24,15,41)\"],[0.12549019607843137,\"rgb(47,23,57)\"],[0.18823529411764706,\"rgb(71,28,72)\"],[0.25098039215686274,\"rgb(97,30,82)\"],[0.3137254901960784,\"rgb(123,30,89)\"],[0.3764705882352941,\"rgb(150,27,91)\"],[0.4392156862745098,\"rgb(177,22,88)\"],[0.5019607843137255,\"rgb(203,26,79)\"],[0.5647058823529412,\"rgb(223,47,67)\"],[0.6274509803921569,\"rgb(236,76,61)\"],[0.6901960784313725,\"rgb(242,107,73)\"],[0.7529411764705882,\"rgb(244,135,95)\"],[0.8156862745098039,\"rgb(245,162,122)\"],[0.8784313725490196,\"rgb(246,188,153)\"],[0.9411764705882353,\"rgb(247,212,187)\"],[1.0,\"rgb(250,234,220)\"]],\"type\":\"surface\"}],\"table\":[{\"cells\":{\"fill\":{\"color\":\"rgb(231,231,240)\"},\"line\":{\"color\":\"white\"}},\"header\":{\"fill\":{\"color\":\"rgb(183,183,191)\"},\"line\":{\"color\":\"white\"}},\"type\":\"table\"}]},\"layout\":{\"annotationdefaults\":{\"arrowcolor\":\"rgb(67,103,167)\"},\"autotypenumbers\":\"strict\",\"coloraxis\":{\"colorbar\":{\"outlinewidth\":0,\"tickcolor\":\"rgb(36,36,36)\",\"ticklen\":8,\"ticks\":\"outside\",\"tickwidth\":2}},\"colorscale\":{\"sequential\":[[0.0,\"rgb(2,4,25)\"],[0.06274509803921569,\"rgb(24,15,41)\"],[0.12549019607843137,\"rgb(47,23,57)\"],[0.18823529411764706,\"rgb(71,28,72)\"],[0.25098039215686274,\"rgb(97,30,82)\"],[0.3137254901960784,\"rgb(123,30,89)\"],[0.3764705882352941,\"rgb(150,27,91)\"],[0.4392156862745098,\"rgb(177,22,88)\"],[0.5019607843137255,\"rgb(203,26,79)\"],[0.5647058823529412,\"rgb(223,47,67)\"],[0.6274509803921569,\"rgb(236,76,61)\"],[0.6901960784313725,\"rgb(242,107,73)\"],[0.7529411764705882,\"rgb(244,135,95)\"],[0.8156862745098039,\"rgb(245,162,122)\"],[0.8784313725490196,\"rgb(246,188,153)\"],[0.9411764705882353,\"rgb(247,212,187)\"],[1.0,\"rgb(250,234,220)\"]],\"sequentialminus\":[[0.0,\"rgb(2,4,25)\"],[0.06274509803921569,\"rgb(24,15,41)\"],[0.12549019607843137,\"rgb(47,23,57)\"],[0.18823529411764706,\"rgb(71,28,72)\"],[0.25098039215686274,\"rgb(97,30,82)\"],[0.3137254901960784,\"rgb(123,30,89)\"],[0.3764705882352941,\"rgb(150,27,91)\"],[0.4392156862745098,\"rgb(177,22,88)\"],[0.5019607843137255,\"rgb(203,26,79)\"],[0.5647058823529412,\"rgb(223,47,67)\"],[0.6274509803921569,\"rgb(236,76,61)\"],[0.6901960784313725,\"rgb(242,107,73)\"],[0.7529411764705882,\"rgb(244,135,95)\"],[0.8156862745098039,\"rgb(245,162,122)\"],[0.8784313725490196,\"rgb(246,188,153)\"],[0.9411764705882353,\"rgb(247,212,187)\"],[1.0,\"rgb(250,234,220)\"]]},\"colorway\":[\"rgb(76,114,176)\",\"rgb(221,132,82)\",\"rgb(85,168,104)\",\"rgb(196,78,82)\",\"rgb(129,114,179)\",\"rgb(147,120,96)\",\"rgb(218,139,195)\",\"rgb(140,140,140)\",\"rgb(204,185,116)\",\"rgb(100,181,205)\"],\"font\":{\"color\":\"rgb(36,36,36)\"},\"geo\":{\"bgcolor\":\"white\",\"lakecolor\":\"white\",\"landcolor\":\"rgb(234,234,242)\",\"showlakes\":true,\"showland\":true,\"subunitcolor\":\"white\"},\"hoverlabel\":{\"align\":\"left\"},\"hovermode\":\"closest\",\"paper_bgcolor\":\"white\",\"plot_bgcolor\":\"rgb(234,234,242)\",\"polar\":{\"angularaxis\":{\"gridcolor\":\"white\",\"linecolor\":\"white\",\"showgrid\":true,\"ticks\":\"\"},\"bgcolor\":\"rgb(234,234,242)\",\"radialaxis\":{\"gridcolor\":\"white\",\"linecolor\":\"white\",\"showgrid\":true,\"ticks\":\"\"}},\"scene\":{\"xaxis\":{\"backgroundcolor\":\"rgb(234,234,242)\",\"gridcolor\":\"white\",\"gridwidth\":2,\"linecolor\":\"white\",\"showbackground\":true,\"showgrid\":true,\"ticks\":\"\",\"zerolinecolor\":\"white\"},\"yaxis\":{\"backgroundcolor\":\"rgb(234,234,242)\",\"gridcolor\":\"white\",\"gridwidth\":2,\"linecolor\":\"white\",\"showbackground\":true,\"showgrid\":true,\"ticks\":\"\",\"zerolinecolor\":\"white\"},\"zaxis\":{\"backgroundcolor\":\"rgb(234,234,242)\",\"gridcolor\":\"white\",\"gridwidth\":2,\"linecolor\":\"white\",\"showbackground\":true,\"showgrid\":true,\"ticks\":\"\",\"zerolinecolor\":\"white\"}},\"shapedefaults\":{\"fillcolor\":\"rgb(67,103,167)\",\"line\":{\"width\":0},\"opacity\":0.5},\"ternary\":{\"aaxis\":{\"gridcolor\":\"white\",\"linecolor\":\"white\",\"showgrid\":true,\"ticks\":\"\"},\"baxis\":{\"gridcolor\":\"white\",\"linecolor\":\"white\",\"showgrid\":true,\"ticks\":\"\"},\"bgcolor\":\"rgb(234,234,242)\",\"caxis\":{\"gridcolor\":\"white\",\"linecolor\":\"white\",\"showgrid\":true,\"ticks\":\"\"}},\"xaxis\":{\"automargin\":true,\"gridcolor\":\"white\",\"linecolor\":\"white\",\"showgrid\":true,\"ticks\":\"\",\"title\":{\"standoff\":15},\"zerolinecolor\":\"white\"},\"yaxis\":{\"automargin\":true,\"gridcolor\":\"white\",\"linecolor\":\"white\",\"showgrid\":true,\"ticks\":\"\",\"title\":{\"standoff\":15},\"zerolinecolor\":\"white\"}}},\"xaxis\":{\"anchor\":\"y\",\"domain\":[0.0,1.0],\"title\":{\"text\":\"Time\"}},\"yaxis\":{\"anchor\":\"x\",\"domain\":[0.0,1.0],\"title\":{\"text\":\"Price [USD]\"}},\"legend\":{\"title\":{\"text\":\"variable\"},\"tracegroupgap\":0},\"title\":{\"text\":\"Historical floor price for azuki\"}},                        {\"responsive\": true}                    ).then(function(){\n",
       "                            \n",
       "var gd = document.getElementById('562cc63e-6d46-4cea-a3b3-d20020e4b220');\n",
       "var x = new MutationObserver(function (mutations, observer) {{\n",
       "        var display = window.getComputedStyle(gd).display;\n",
       "        if (!display || display === 'none') {{\n",
       "            console.log([gd, 'removed!']);\n",
       "            Plotly.purge(gd);\n",
       "            observer.disconnect();\n",
       "        }}\n",
       "}});\n",
       "\n",
       "// Listen for the removal of the full notebook cells\n",
       "var notebookContainer = gd.closest('#notebook-container');\n",
       "if (notebookContainer) {{\n",
       "    x.observe(notebookContainer, {childList: true});\n",
       "}}\n",
       "\n",
       "// Listen for the clearing of the current output cell\n",
       "var outputEl = gd.closest('.output');\n",
       "if (outputEl) {{\n",
       "    x.observe(outputEl, {childList: true});\n",
       "}}\n",
       "\n",
       "                        })                };                });            </script>        </div>"
      ]
     },
     "metadata": {},
     "output_type": "display_data"
    }
   ],
   "source": [
    "fig1.show()"
   ]
  },
  {
   "cell_type": "code",
   "execution_count": null,
   "id": "6f65d2a3-5aac-4146-8e40-488e5966d8d1",
   "metadata": {},
   "outputs": [],
   "source": []
  },
  {
   "cell_type": "code",
   "execution_count": null,
   "id": "ea356168-f0bb-4c02-8f4c-d486fe44c33e",
   "metadata": {},
   "outputs": [],
   "source": []
  },
  {
   "cell_type": "code",
   "execution_count": null,
   "id": "938b50b3-9315-48ea-bc3a-a9e915877a5a",
   "metadata": {},
   "outputs": [],
   "source": []
  }
 ],
 "metadata": {
  "kernelspec": {
   "display_name": "Python 3 (ipykernel)",
   "language": "python",
   "name": "python3"
  },
  "language_info": {
   "codemirror_mode": {
    "name": "ipython",
    "version": 3
   },
   "file_extension": ".py",
   "mimetype": "text/x-python",
   "name": "python",
   "nbconvert_exporter": "python",
   "pygments_lexer": "ipython3",
   "version": "3.10.6"
  }
 },
 "nbformat": 4,
 "nbformat_minor": 5
}
