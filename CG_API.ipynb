{
 "cells": [
  {
   "cell_type": "code",
   "execution_count": 50,
   "id": "0871212b-0d47-445a-b951-86a962b27b58",
   "metadata": {
    "tags": []
   },
   "outputs": [],
   "source": [
    "import requests as rq\n",
    "import json\n",
    "import pandas as pd"
   ]
  },
  {
   "cell_type": "code",
   "execution_count": 30,
   "id": "81d1c986-8175-45da-8681-869baf8277c7",
   "metadata": {
    "tags": []
   },
   "outputs": [],
   "source": [
    "# Get API key\n",
    "def get_key():\n",
    "    f = open(\"/home/vikas/Documents/CG_key.json\")\n",
    "    key_dict = json.load(f)\n",
    "    return key_dict[\"key\"] "
   ]
  },
  {
   "cell_type": "markdown",
   "id": "92e5d0a0-aa9f-4b43-a9eb-5977535b3e91",
   "metadata": {
    "tags": []
   },
   "source": [
    "## Check API status"
   ]
  },
  {
   "cell_type": "code",
   "execution_count": 33,
   "id": "4cd65389-6186-4121-88f5-134969e5b976",
   "metadata": {
    "tags": []
   },
   "outputs": [],
   "source": [
    "PUB_URL = \"https://api.coingecko.com/api/v3\"\n",
    "PRO_URL = \"https://pro-api.coingecko.com/api/v3\""
   ]
  },
  {
   "cell_type": "code",
   "execution_count": 47,
   "id": "b7141e7a-66cc-45dc-a8eb-5e51fb470cc6",
   "metadata": {
    "tags": []
   },
   "outputs": [],
   "source": [
    "def get_response(endpoint, headers, params, URL):\n",
    "    url = \"\".join((URL, endpoint))\n",
    "    response = rq.get(url, headers= headers, params = params)\n",
    "    if response.status_code == 200:\n",
    "        data = response.json()\n",
    "        return data\n",
    "    else:\n",
    "        print(f\"Failed to fetch data, check status code {response.status_code}\")    "
   ]
  },
  {
   "cell_type": "code",
   "execution_count": 40,
   "id": "05327da0-99ad-48d7-a6cf-386d86a0c836",
   "metadata": {
    "tags": []
   },
   "outputs": [],
   "source": [
    "use_demo = {\"accept\": \"application/json\"}"
   ]
  },
  {
   "cell_type": "code",
   "execution_count": 41,
   "id": "0b881d20-f6c5-4168-b84d-23dbd7b42a20",
   "metadata": {
    "tags": []
   },
   "outputs": [],
   "source": [
    "use_pro = {\n",
    "         \"accept\": \"application/json\",\n",
    "         \"x-cg-pro-api-key\" : get_key()          \n",
    "}"
   ]
  },
  {
   "cell_type": "code",
   "execution_count": 42,
   "id": "5967b053-2ddb-4820-9eb7-4d39b5207c68",
   "metadata": {
    "tags": []
   },
   "outputs": [
    {
     "data": {
      "text/plain": [
       "{'gecko_says': '(V3) To the Moon!'}"
      ]
     },
     "execution_count": 42,
     "metadata": {},
     "output_type": "execute_result"
    }
   ],
   "source": [
    "get_response(\"/ping\", use_demo, \"\", PUB_URL)"
   ]
  },
  {
   "cell_type": "markdown",
   "id": "45c32170-836c-4100-aae5-b93f0118c3e4",
   "metadata": {
    "tags": []
   },
   "source": [
    "## NFTs"
   ]
  },
  {
   "cell_type": "markdown",
   "id": "ebf98bdd-b73f-4d9c-929f-8e92a19c7346",
   "metadata": {
    "tags": []
   },
   "source": [
    "#### Demo API"
   ]
  },
  {
   "cell_type": "code",
   "execution_count": 51,
   "id": "f265615e-e4de-4517-84cb-ab0c09b34d05",
   "metadata": {
    "tags": []
   },
   "outputs": [],
   "source": [
    "nft_params = {\n",
    "            \"order\": \"floor_price_native_desc\",\n",
    "            \"per_page\": 10,\n",
    "            \"page\": 1\n",
    "}"
   ]
  },
  {
   "cell_type": "code",
   "execution_count": 52,
   "id": "01173966-6a54-44d5-b57f-f7d7de7947a0",
   "metadata": {
    "tags": []
   },
   "outputs": [],
   "source": [
    "nft_list_response = get_response(\"/nfts/list\", use_demo, nft_params, PUB_URL)"
   ]
  },
  {
   "cell_type": "code",
   "execution_count": 79,
   "id": "daf3ae20-19d2-4c42-b774-4cece3ec6a68",
   "metadata": {
    "tags": []
   },
   "outputs": [],
   "source": [
    "nft_list_response;"
   ]
  },
  {
   "cell_type": "code",
   "execution_count": 53,
   "id": "d2fab61b-3120-4ba9-826b-654f5a4d1311",
   "metadata": {
    "tags": []
   },
   "outputs": [],
   "source": [
    "df_nft = pd.DataFrame(nft_list_response)"
   ]
  },
  {
   "cell_type": "code",
   "execution_count": 54,
   "id": "adeb3db7-eceb-4357-a709-d601e9ee9a7c",
   "metadata": {
    "tags": []
   },
   "outputs": [
    {
     "data": {
      "text/html": [
       "<div>\n",
       "<style scoped>\n",
       "    .dataframe tbody tr th:only-of-type {\n",
       "        vertical-align: middle;\n",
       "    }\n",
       "\n",
       "    .dataframe tbody tr th {\n",
       "        vertical-align: top;\n",
       "    }\n",
       "\n",
       "    .dataframe thead th {\n",
       "        text-align: right;\n",
       "    }\n",
       "</style>\n",
       "<table border=\"1\" class=\"dataframe\">\n",
       "  <thead>\n",
       "    <tr style=\"text-align: right;\">\n",
       "      <th></th>\n",
       "      <th>id</th>\n",
       "      <th>contract_address</th>\n",
       "      <th>name</th>\n",
       "      <th>asset_platform_id</th>\n",
       "      <th>symbol</th>\n",
       "    </tr>\n",
       "  </thead>\n",
       "  <tbody>\n",
       "    <tr>\n",
       "      <th>0</th>\n",
       "      <td>gaia-supernova-deprecated</td>\n",
       "      <td>0x89a18abab20aab069feb7cab20517630ee7c1626</td>\n",
       "      <td>Gaia Supernova</td>\n",
       "      <td>klay-token</td>\n",
       "      <td>GAIA</td>\n",
       "    </tr>\n",
       "    <tr>\n",
       "      <th>1</th>\n",
       "      <td>gaia-genesis-deprecated</td>\n",
       "      <td>0xbb915237d8b46dcdfe813c914bf98708e0dad84a</td>\n",
       "      <td>Gaia Kronos</td>\n",
       "      <td>klay-token</td>\n",
       "      <td>GAIA</td>\n",
       "    </tr>\n",
       "    <tr>\n",
       "      <th>2</th>\n",
       "      <td>burned-202209</td>\n",
       "      <td>0xc6e5ba514dc2ec6a556dbb95d3002cc1070ad7b9</td>\n",
       "      <td>Dicast Hero Badge SuperRare Pass</td>\n",
       "      <td>klay-token</td>\n",
       "      <td>DHBSRP</td>\n",
       "    </tr>\n",
       "    <tr>\n",
       "      <th>3</th>\n",
       "      <td>gaia-protocol-genesis-klaytn</td>\n",
       "      <td>0xe9a10bb97ddb4bcd7677393405b4b769273cef3c</td>\n",
       "      <td>Gaia Protocol Genesis</td>\n",
       "      <td>klay-token</td>\n",
       "      <td>GAIA</td>\n",
       "    </tr>\n",
       "    <tr>\n",
       "      <th>4</th>\n",
       "      <td>syltare-dawn-of-east-klaytn</td>\n",
       "      <td>0xdf104df1b238dcd1be2d160cea47893e03b3f9b9</td>\n",
       "      <td>SYL - Dawn of East</td>\n",
       "      <td>klay-token</td>\n",
       "      <td>SYL</td>\n",
       "    </tr>\n",
       "    <tr>\n",
       "      <th>5</th>\n",
       "      <td>pixels-pets</td>\n",
       "      <td>0xb806028b6ebc35926442770a8a8a7aeab6e2ce5c</td>\n",
       "      <td>Pixels Pets</td>\n",
       "      <td>ronin</td>\n",
       "      <td>PIXELS-PETS</td>\n",
       "    </tr>\n",
       "    <tr>\n",
       "      <th>6</th>\n",
       "      <td>footage-by-sportium</td>\n",
       "      <td>0x839e43c5a768890f5d35ecdf0fb0b356529a80b5</td>\n",
       "      <td>FOOTAGE BY SPORTIUM</td>\n",
       "      <td>klay-token</td>\n",
       "      <td>FOOTAGE</td>\n",
       "    </tr>\n",
       "    <tr>\n",
       "      <th>7</th>\n",
       "      <td>syltare-frozen</td>\n",
       "      <td>0xe2dd65c215089dda1695ae96cce77f301a1750e5</td>\n",
       "      <td>SYL - Dawn of East</td>\n",
       "      <td>klay-token</td>\n",
       "      <td>SYL</td>\n",
       "    </tr>\n",
       "    <tr>\n",
       "      <th>8</th>\n",
       "      <td>the-crop-collective</td>\n",
       "      <td>0xe5863d4a57b1e2d7031f7969fee4f56bb04c0f17</td>\n",
       "      <td>The Crop Collective</td>\n",
       "      <td>ethereum</td>\n",
       "      <td>$TCC</td>\n",
       "    </tr>\n",
       "    <tr>\n",
       "      <th>9</th>\n",
       "      <td>claynosaurz-sardinhas</td>\n",
       "      <td></td>\n",
       "      <td>Claynosaurz: Sardinhas</td>\n",
       "      <td>solana</td>\n",
       "      <td>CLAYSARDINHAS</td>\n",
       "    </tr>\n",
       "  </tbody>\n",
       "</table>\n",
       "</div>"
      ],
      "text/plain": [
       "                             id                            contract_address  \\\n",
       "0     gaia-supernova-deprecated  0x89a18abab20aab069feb7cab20517630ee7c1626   \n",
       "1       gaia-genesis-deprecated  0xbb915237d8b46dcdfe813c914bf98708e0dad84a   \n",
       "2                 burned-202209  0xc6e5ba514dc2ec6a556dbb95d3002cc1070ad7b9   \n",
       "3  gaia-protocol-genesis-klaytn  0xe9a10bb97ddb4bcd7677393405b4b769273cef3c   \n",
       "4   syltare-dawn-of-east-klaytn  0xdf104df1b238dcd1be2d160cea47893e03b3f9b9   \n",
       "5                   pixels-pets  0xb806028b6ebc35926442770a8a8a7aeab6e2ce5c   \n",
       "6           footage-by-sportium  0x839e43c5a768890f5d35ecdf0fb0b356529a80b5   \n",
       "7                syltare-frozen  0xe2dd65c215089dda1695ae96cce77f301a1750e5   \n",
       "8           the-crop-collective  0xe5863d4a57b1e2d7031f7969fee4f56bb04c0f17   \n",
       "9         claynosaurz-sardinhas                                               \n",
       "\n",
       "                               name asset_platform_id         symbol  \n",
       "0                    Gaia Supernova        klay-token           GAIA  \n",
       "1                       Gaia Kronos        klay-token           GAIA  \n",
       "2  Dicast Hero Badge SuperRare Pass        klay-token         DHBSRP  \n",
       "3             Gaia Protocol Genesis        klay-token           GAIA  \n",
       "4                SYL - Dawn of East        klay-token            SYL  \n",
       "5                       Pixels Pets             ronin    PIXELS-PETS  \n",
       "6               FOOTAGE BY SPORTIUM        klay-token        FOOTAGE  \n",
       "7                SYL - Dawn of East        klay-token            SYL  \n",
       "8               The Crop Collective          ethereum           $TCC  \n",
       "9            Claynosaurz: Sardinhas            solana  CLAYSARDINHAS  "
      ]
     },
     "execution_count": 54,
     "metadata": {},
     "output_type": "execute_result"
    }
   ],
   "source": [
    "df_nft"
   ]
  },
  {
   "cell_type": "code",
   "execution_count": 58,
   "id": "161e2c53-b2af-4d0d-af41-1b74541e830a",
   "metadata": {
    "tags": []
   },
   "outputs": [
    {
     "data": {
      "text/plain": [
       "'syltare-dawn-of-east-klaytn'"
      ]
     },
     "execution_count": 58,
     "metadata": {},
     "output_type": "execute_result"
    }
   ],
   "source": [
    "df_nft.id[4]"
   ]
  },
  {
   "cell_type": "code",
   "execution_count": 83,
   "id": "d7ffbbfa-5797-4e22-911a-c328ca0a4c59",
   "metadata": {
    "tags": []
   },
   "outputs": [],
   "source": [
    "def get_nft_current_data(index, df_nft, use_demo = use_demo, PUB_URL = PUB_URL):\n",
    "    nft_url = f\"/nfts/{df_nft.id[index]}\"\n",
    "    nft_current_response = get_response(nft_url, use_demo, nft_params, PUB_URL)\n",
    "    \n",
    "    new_data = dict(id = nft_current_response[\"id\"], \n",
    "                    name = nft_current_response[\"name\"],\n",
    "                    symbol = nft_current_response[\"symbol\"],\n",
    "                    floor_price_usd = nft_current_response[\"floor_price\"][\"usd\"])\n",
    "    \n",
    "    df_nft_current = pd.DataFrame([new_data])\n",
    "    return df_nft_current"
   ]
  },
  {
   "cell_type": "code",
   "execution_count": 84,
   "id": "ea46161e-3c98-4bd3-b660-9f6cf0d460eb",
   "metadata": {
    "tags": []
   },
   "outputs": [],
   "source": [
    "df_nft_current = get_nft_current_data(4, df_nft)"
   ]
  },
  {
   "cell_type": "code",
   "execution_count": 85,
   "id": "154a236a-bf99-47e4-bb61-f0c8e74b8263",
   "metadata": {
    "tags": []
   },
   "outputs": [
    {
     "data": {
      "text/html": [
       "<div>\n",
       "<style scoped>\n",
       "    .dataframe tbody tr th:only-of-type {\n",
       "        vertical-align: middle;\n",
       "    }\n",
       "\n",
       "    .dataframe tbody tr th {\n",
       "        vertical-align: top;\n",
       "    }\n",
       "\n",
       "    .dataframe thead th {\n",
       "        text-align: right;\n",
       "    }\n",
       "</style>\n",
       "<table border=\"1\" class=\"dataframe\">\n",
       "  <thead>\n",
       "    <tr style=\"text-align: right;\">\n",
       "      <th></th>\n",
       "      <th>id</th>\n",
       "      <th>name</th>\n",
       "      <th>symbol</th>\n",
       "      <th>floor_price_usd</th>\n",
       "    </tr>\n",
       "  </thead>\n",
       "  <tbody>\n",
       "    <tr>\n",
       "      <th>0</th>\n",
       "      <td>syltare-dawn-of-east-klaytn</td>\n",
       "      <td>SYL - Dawn of East</td>\n",
       "      <td>SYL</td>\n",
       "      <td>416.77</td>\n",
       "    </tr>\n",
       "  </tbody>\n",
       "</table>\n",
       "</div>"
      ],
      "text/plain": [
       "                            id                name symbol  floor_price_usd\n",
       "0  syltare-dawn-of-east-klaytn  SYL - Dawn of East    SYL           416.77"
      ]
     },
     "execution_count": 85,
     "metadata": {},
     "output_type": "execute_result"
    }
   ],
   "source": [
    "df_nft_current"
   ]
  },
  {
   "cell_type": "code",
   "execution_count": null,
   "id": "ccccfdf2-c27b-4645-848d-291ff0376f3b",
   "metadata": {
    "tags": []
   },
   "outputs": [],
   "source": []
  },
  {
   "cell_type": "code",
   "execution_count": null,
   "id": "f02356e5-9e92-4bbe-8d02-ed1ab5da64a8",
   "metadata": {
    "tags": []
   },
   "outputs": [],
   "source": []
  },
  {
   "cell_type": "code",
   "execution_count": null,
   "id": "6a5e194f-d014-444c-b7f5-8a4251d6e7b8",
   "metadata": {},
   "outputs": [],
   "source": []
  }
 ],
 "metadata": {
  "kernelspec": {
   "display_name": "Python 3 (ipykernel)",
   "language": "python",
   "name": "python3"
  },
  "language_info": {
   "codemirror_mode": {
    "name": "ipython",
    "version": 3
   },
   "file_extension": ".py",
   "mimetype": "text/x-python",
   "name": "python",
   "nbconvert_exporter": "python",
   "pygments_lexer": "ipython3",
   "version": "3.10.6"
  }
 },
 "nbformat": 4,
 "nbformat_minor": 5
}
