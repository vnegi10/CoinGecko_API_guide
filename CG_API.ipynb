{
 "cells": [
  {
   "cell_type": "code",
   "execution_count": 19,
   "id": "0871212b-0d47-445a-b951-86a962b27b58",
   "metadata": {
    "tags": []
   },
   "outputs": [],
   "source": [
    "import requests as rq\n",
    "import json\n",
    "pd.options.plotting.backend = \"plotly\"\n",
    "import numpy as np"
   ]
  },
  {
   "cell_type": "code",
   "execution_count": 18,
   "id": "d42cd46e-b423-407c-bc81-bf40228de662",
   "metadata": {
    "tags": []
   },
   "outputs": [],
   "source": [
    "# Get demo API key\n",
    "def get_demo_key():\n",
    "    f = open(\"/home/vikas/Documents/CG_demo_key.json\")\n",
    "    key_dict = json.load(f)\n",
    "    return key_dict[\"key\"] "
   ]
  },
  {
   "cell_type": "code",
   "execution_count": 9,
   "id": "81d1c986-8175-45da-8681-869baf8277c7",
   "metadata": {
    "tags": []
   },
   "outputs": [],
   "source": [
    "# Get API key\n",
    "def get_pro_key():\n",
    "    f = open(\"/home/vikas/Documents/CG_pro_key.json\")\n",
    "    key_dict = json.load(f)\n",
    "    return key_dict[\"key\"] "
   ]
  },
  {
   "cell_type": "markdown",
   "id": "92e5d0a0-aa9f-4b43-a9eb-5977535b3e91",
   "metadata": {
    "tags": []
   },
   "source": [
    "## Check API status"
   ]
  },
  {
   "cell_type": "code",
   "execution_count": 10,
   "id": "4cd65389-6186-4121-88f5-134969e5b976",
   "metadata": {
    "tags": []
   },
   "outputs": [],
   "source": [
    "PUB_URL = \"https://api.coingecko.com/api/v3\"\n",
    "PRO_URL = \"https://pro-api.coingecko.com/api/v3\""
   ]
  },
  {
   "cell_type": "code",
   "execution_count": 11,
   "id": "b7141e7a-66cc-45dc-a8eb-5e51fb470cc6",
   "metadata": {
    "tags": []
   },
   "outputs": [],
   "source": [
    "def get_response(endpoint, headers, params, URL):\n",
    "    url = \"\".join((URL, endpoint))\n",
    "    response = rq.get(url, headers = headers, params = params)\n",
    "    if response.status_code == 200:\n",
    "        data = response.json()\n",
    "        return data\n",
    "    else:\n",
    "        print(f\"Failed to fetch data, check status code {response.status_code}\")    "
   ]
  },
  {
   "cell_type": "code",
   "execution_count": 14,
   "id": "05327da0-99ad-48d7-a6cf-386d86a0c836",
   "metadata": {
    "tags": []
   },
   "outputs": [],
   "source": [
    "use_demo = {\n",
    "           \"accept\": \"application/json\",\n",
    "           \"x-cg-demo-api-key\" : get_demo_key() \n",
    "}"
   ]
  },
  {
   "cell_type": "code",
   "execution_count": 15,
   "id": "5967b053-2ddb-4820-9eb7-4d39b5207c68",
   "metadata": {
    "tags": []
   },
   "outputs": [
    {
     "data": {
      "text/plain": [
       "{'gecko_says': '(V3) To the Moon!'}"
      ]
     },
     "execution_count": 15,
     "metadata": {},
     "output_type": "execute_result"
    }
   ],
   "source": [
    "get_response(\"/ping\", use_demo, \"\", PUB_URL)"
   ]
  },
  {
   "cell_type": "code",
   "execution_count": 17,
   "id": "0b881d20-f6c5-4168-b84d-23dbd7b42a20",
   "metadata": {
    "tags": []
   },
   "outputs": [],
   "source": [
    "use_pro = {\n",
    "         \"accept\": \"application/json\",\n",
    "         \"x-cg-pro-api-key\" : get_pro_key()          \n",
    "}"
   ]
  },
  {
   "cell_type": "markdown",
   "id": "45c32170-836c-4100-aae5-b93f0118c3e4",
   "metadata": {
    "tags": []
   },
   "source": [
    "## Fetch list of NFTs"
   ]
  },
  {
   "cell_type": "markdown",
   "id": "ebf98bdd-b73f-4d9c-929f-8e92a19c7346",
   "metadata": {
    "tags": []
   },
   "source": [
    "#### Demo API"
   ]
  },
  {
   "cell_type": "code",
   "execution_count": 20,
   "id": "b0460195-b794-4ad4-9b04-970c15ede6df",
   "metadata": {
    "tags": []
   },
   "outputs": [],
   "source": [
    "import pandas as pd"
   ]
  },
  {
   "cell_type": "code",
   "execution_count": 21,
   "id": "f265615e-e4de-4517-84cb-ab0c09b34d05",
   "metadata": {
    "tags": []
   },
   "outputs": [],
   "source": [
    "nft_params = {\n",
    "            \"order\": \"market_cap_usd_desc\",\n",
    "            \"per_page\": 5,\n",
    "            \"page\": 1\n",
    "}"
   ]
  },
  {
   "cell_type": "code",
   "execution_count": 22,
   "id": "01173966-6a54-44d5-b57f-f7d7de7947a0",
   "metadata": {
    "tags": []
   },
   "outputs": [],
   "source": [
    "nft_list_response = get_response(\"/nfts/list\", use_demo, nft_params, PUB_URL)"
   ]
  },
  {
   "cell_type": "code",
   "execution_count": 23,
   "id": "d2fab61b-3120-4ba9-826b-654f5a4d1311",
   "metadata": {
    "tags": []
   },
   "outputs": [],
   "source": [
    "df_nft = pd.DataFrame(nft_list_response)"
   ]
  },
  {
   "cell_type": "code",
   "execution_count": 25,
   "id": "adeb3db7-eceb-4357-a709-d601e9ee9a7c",
   "metadata": {
    "tags": []
   },
   "outputs": [
    {
     "data": {
      "text/html": [
       "<div>\n",
       "<style scoped>\n",
       "    .dataframe tbody tr th:only-of-type {\n",
       "        vertical-align: middle;\n",
       "    }\n",
       "\n",
       "    .dataframe tbody tr th {\n",
       "        vertical-align: top;\n",
       "    }\n",
       "\n",
       "    .dataframe thead th {\n",
       "        text-align: right;\n",
       "    }\n",
       "</style>\n",
       "<table border=\"1\" class=\"dataframe\">\n",
       "  <thead>\n",
       "    <tr style=\"text-align: right;\">\n",
       "      <th></th>\n",
       "      <th>id</th>\n",
       "      <th>contract_address</th>\n",
       "      <th>name</th>\n",
       "      <th>asset_platform_id</th>\n",
       "      <th>symbol</th>\n",
       "    </tr>\n",
       "  </thead>\n",
       "  <tbody>\n",
       "    <tr>\n",
       "      <th>0</th>\n",
       "      <td>galxe-oat-v2</td>\n",
       "      <td>0x5d666f215a85b87cb042d59662a7ecd2c8cc44e6</td>\n",
       "      <td>Galaxy OAT</td>\n",
       "      <td>polygon-pos</td>\n",
       "      <td>OAT</td>\n",
       "    </tr>\n",
       "    <tr>\n",
       "      <th>1</th>\n",
       "      <td>cryptopunks</td>\n",
       "      <td>0xb47e3cd837dDF8e4c57F05d70Ab865de6e193BBB</td>\n",
       "      <td>CryptoPunks</td>\n",
       "      <td>ethereum</td>\n",
       "      <td>PUNK</td>\n",
       "    </tr>\n",
       "    <tr>\n",
       "      <th>2</th>\n",
       "      <td>cometh-spaceships</td>\n",
       "      <td>0xbcd4f1ecff4318e7a0c791c7728f3830db506c71</td>\n",
       "      <td>Cometh Spaceships</td>\n",
       "      <td>ethereum</td>\n",
       "      <td>SPACESHIP</td>\n",
       "    </tr>\n",
       "    <tr>\n",
       "      <th>3</th>\n",
       "      <td>bored-ape-yacht-club</td>\n",
       "      <td>0xbc4ca0eda7647a8ab7c2061c2e118a18a936f13d</td>\n",
       "      <td>Bored Ape Yacht Club</td>\n",
       "      <td>ethereum</td>\n",
       "      <td>BAYC</td>\n",
       "    </tr>\n",
       "    <tr>\n",
       "      <th>4</th>\n",
       "      <td>yuliorigingenone</td>\n",
       "      <td>0x735c4a681f1649f5eee8aac871aa1d89ff056217</td>\n",
       "      <td>YuliOriginGenOne</td>\n",
       "      <td>binance-smart-chain</td>\n",
       "      <td>YOG1</td>\n",
       "    </tr>\n",
       "  </tbody>\n",
       "</table>\n",
       "</div>"
      ],
      "text/plain": [
       "                     id                            contract_address  \\\n",
       "0          galxe-oat-v2  0x5d666f215a85b87cb042d59662a7ecd2c8cc44e6   \n",
       "1           cryptopunks  0xb47e3cd837dDF8e4c57F05d70Ab865de6e193BBB   \n",
       "2     cometh-spaceships  0xbcd4f1ecff4318e7a0c791c7728f3830db506c71   \n",
       "3  bored-ape-yacht-club  0xbc4ca0eda7647a8ab7c2061c2e118a18a936f13d   \n",
       "4      yuliorigingenone  0x735c4a681f1649f5eee8aac871aa1d89ff056217   \n",
       "\n",
       "                   name    asset_platform_id     symbol  \n",
       "0            Galaxy OAT          polygon-pos        OAT  \n",
       "1           CryptoPunks             ethereum       PUNK  \n",
       "2     Cometh Spaceships             ethereum  SPACESHIP  \n",
       "3  Bored Ape Yacht Club             ethereum       BAYC  \n",
       "4      YuliOriginGenOne  binance-smart-chain       YOG1  "
      ]
     },
     "execution_count": 25,
     "metadata": {},
     "output_type": "execute_result"
    }
   ],
   "source": [
    "df_nft"
   ]
  },
  {
   "cell_type": "code",
   "execution_count": 26,
   "id": "161e2c53-b2af-4d0d-af41-1b74541e830a",
   "metadata": {
    "tags": []
   },
   "outputs": [
    {
     "data": {
      "text/plain": [
       "'yuliorigingenone'"
      ]
     },
     "execution_count": 26,
     "metadata": {},
     "output_type": "execute_result"
    }
   ],
   "source": [
    "df_nft.id[4]"
   ]
  },
  {
   "cell_type": "code",
   "execution_count": 27,
   "id": "d7ffbbfa-5797-4e22-911a-c328ca0a4c59",
   "metadata": {
    "tags": []
   },
   "outputs": [],
   "source": [
    "def get_nft_current_data(index, df_nft, use_demo = use_demo, PUB_URL = PUB_URL):\n",
    "    nft_url = f\"/nfts/{df_nft.id[index]}\"\n",
    "    nft_current_response = get_response(nft_url, use_demo, nft_params, PUB_URL)\n",
    "    \n",
    "    new_data = dict(id = nft_current_response[\"id\"], \n",
    "                    name = nft_current_response[\"name\"],\n",
    "                    symbol = nft_current_response[\"symbol\"],\n",
    "                    floor_price_usd = nft_current_response[\"floor_price\"][\"usd\"])\n",
    "    \n",
    "    return new_data"
   ]
  },
  {
   "cell_type": "code",
   "execution_count": 28,
   "id": "154a236a-bf99-47e4-bb61-f0c8e74b8263",
   "metadata": {
    "tags": []
   },
   "outputs": [],
   "source": [
    "def get_nft_floor_prices(order_by, per_page):\n",
    "\n",
    "    assert per_page <= 250, \"Number of entries per page should be less than 250\"\n",
    "\n",
    "    nft_params = {\n",
    "                 \"order\": order_by,\n",
    "                 \"per_page\": per_page,\n",
    "                 \"page\": 1\n",
    "                 }\n",
    "\n",
    "    nft_list_response = get_response(\"/nfts/list\", use_demo, nft_params, PUB_URL)\n",
    "    df_nft = pd.DataFrame(nft_list_response)\n",
    "\n",
    "    nft_list_all = []\n",
    "\n",
    "    for i in range(len(df_nft.id)):\n",
    "        new_data = get_nft_current_data(i, df_nft)\n",
    "        nft_list_all.append(new_data)\n",
    "\n",
    "    df_floor_price = pd.DataFrame(nft_list_all)\n",
    "\n",
    "    return df_floor_price   "
   ]
  },
  {
   "cell_type": "code",
   "execution_count": 29,
   "id": "4964bccf-3ffd-4dc2-98f4-13fa1815da1d",
   "metadata": {
    "tags": []
   },
   "outputs": [],
   "source": [
    "df_floor_price = get_nft_floor_prices(\"market_cap_usd_desc\", 10)"
   ]
  },
  {
   "cell_type": "code",
   "execution_count": 30,
   "id": "1012abbe-9d53-45a1-9540-c35e01fc2a70",
   "metadata": {
    "tags": []
   },
   "outputs": [
    {
     "data": {
      "text/html": [
       "<div>\n",
       "<style scoped>\n",
       "    .dataframe tbody tr th:only-of-type {\n",
       "        vertical-align: middle;\n",
       "    }\n",
       "\n",
       "    .dataframe tbody tr th {\n",
       "        vertical-align: top;\n",
       "    }\n",
       "\n",
       "    .dataframe thead th {\n",
       "        text-align: right;\n",
       "    }\n",
       "</style>\n",
       "<table border=\"1\" class=\"dataframe\">\n",
       "  <thead>\n",
       "    <tr style=\"text-align: right;\">\n",
       "      <th></th>\n",
       "      <th>id</th>\n",
       "      <th>name</th>\n",
       "      <th>symbol</th>\n",
       "      <th>floor_price_usd</th>\n",
       "    </tr>\n",
       "  </thead>\n",
       "  <tbody>\n",
       "    <tr>\n",
       "      <th>0</th>\n",
       "      <td>galxe-oat-v2</td>\n",
       "      <td>Galaxy OAT</td>\n",
       "      <td>OAT</td>\n",
       "      <td>730.44</td>\n",
       "    </tr>\n",
       "    <tr>\n",
       "      <th>1</th>\n",
       "      <td>cryptopunks</td>\n",
       "      <td>CryptoPunks</td>\n",
       "      <td>PUNK</td>\n",
       "      <td>140494.00</td>\n",
       "    </tr>\n",
       "    <tr>\n",
       "      <th>2</th>\n",
       "      <td>cometh-spaceships</td>\n",
       "      <td>Cometh Spaceships</td>\n",
       "      <td>SPACESHIP</td>\n",
       "      <td>77510.00</td>\n",
       "    </tr>\n",
       "    <tr>\n",
       "      <th>3</th>\n",
       "      <td>bored-ape-yacht-club</td>\n",
       "      <td>Bored Ape Yacht Club</td>\n",
       "      <td>BAYC</td>\n",
       "      <td>56188.00</td>\n",
       "    </tr>\n",
       "    <tr>\n",
       "      <th>4</th>\n",
       "      <td>yuliorigingenone</td>\n",
       "      <td>YuliOriginGenOne</td>\n",
       "      <td>YOG1</td>\n",
       "      <td>105393.00</td>\n",
       "    </tr>\n",
       "    <tr>\n",
       "      <th>5</th>\n",
       "      <td>pudgy-penguins</td>\n",
       "      <td>Pudgy Penguins</td>\n",
       "      <td>PPG</td>\n",
       "      <td>40080.00</td>\n",
       "    </tr>\n",
       "    <tr>\n",
       "      <th>6</th>\n",
       "      <td>blendkemon</td>\n",
       "      <td>Blendkemon</td>\n",
       "      <td>B &amp; K</td>\n",
       "      <td>11070698.00</td>\n",
       "    </tr>\n",
       "    <tr>\n",
       "      <th>7</th>\n",
       "      <td>the-crop-collective</td>\n",
       "      <td>The Crop Collective</td>\n",
       "      <td>$TCC</td>\n",
       "      <td>909287.00</td>\n",
       "    </tr>\n",
       "    <tr>\n",
       "      <th>8</th>\n",
       "      <td>autoglyphs</td>\n",
       "      <td>Autoglyphs</td>\n",
       "      <td>☵</td>\n",
       "      <td>553743.00</td>\n",
       "    </tr>\n",
       "    <tr>\n",
       "      <th>9</th>\n",
       "      <td>catgirl-nft</td>\n",
       "      <td>Catgirl NFT</td>\n",
       "      <td>CATGIRLNFT</td>\n",
       "      <td>734.59</td>\n",
       "    </tr>\n",
       "  </tbody>\n",
       "</table>\n",
       "</div>"
      ],
      "text/plain": [
       "                     id                  name      symbol  floor_price_usd\n",
       "0          galxe-oat-v2            Galaxy OAT         OAT           730.44\n",
       "1           cryptopunks           CryptoPunks        PUNK        140494.00\n",
       "2     cometh-spaceships     Cometh Spaceships   SPACESHIP         77510.00\n",
       "3  bored-ape-yacht-club  Bored Ape Yacht Club        BAYC         56188.00\n",
       "4      yuliorigingenone      YuliOriginGenOne        YOG1        105393.00\n",
       "5        pudgy-penguins        Pudgy Penguins         PPG         40080.00\n",
       "6            blendkemon            Blendkemon       B & K      11070698.00\n",
       "7   the-crop-collective   The Crop Collective        $TCC        909287.00\n",
       "8            autoglyphs            Autoglyphs           ☵        553743.00\n",
       "9           catgirl-nft           Catgirl NFT  CATGIRLNFT           734.59"
      ]
     },
     "execution_count": 30,
     "metadata": {},
     "output_type": "execute_result"
    }
   ],
   "source": [
    "df_floor_price"
   ]
  },
  {
   "cell_type": "markdown",
   "id": "fa00be52-c330-4273-8e89-f7a6838e48cf",
   "metadata": {
    "tags": []
   },
   "source": [
    "#### Pro API"
   ]
  },
  {
   "cell_type": "code",
   "execution_count": 62,
   "id": "3c127b50-8671-4747-992a-407d93c2fb98",
   "metadata": {
    "tags": []
   },
   "outputs": [],
   "source": [
    "page_params = {\n",
    "            \"per_page\": 100,\n",
    "            \"page\": 1,\n",
    "            \"order\": \"h24_volume_usd_desc\"    \n",
    "}"
   ]
  },
  {
   "cell_type": "code",
   "execution_count": 63,
   "id": "f02356e5-9e92-4bbe-8d02-ed1ab5da64a8",
   "metadata": {
    "tags": []
   },
   "outputs": [],
   "source": [
    "nft_markets = get_response(\"/nfts/markets\", use_pro, page_params, PRO_URL)"
   ]
  },
  {
   "cell_type": "code",
   "execution_count": 65,
   "id": "6a5e194f-d014-444c-b7f5-8a4251d6e7b8",
   "metadata": {
    "tags": []
   },
   "outputs": [],
   "source": [
    "nft_markets[10];"
   ]
  },
  {
   "cell_type": "code",
   "execution_count": 46,
   "id": "9edd70f5-fde1-4a40-b465-a1494ce10e4a",
   "metadata": {
    "tags": []
   },
   "outputs": [],
   "source": [
    "def get_nft_markets(num_entries, order_by):\n",
    "    \n",
    "    assert num_entries <= 250, \"Number of entries per page should be less than 250\"\n",
    "    \n",
    "    page_params = {\n",
    "                    \"per_page\": num_entries,\n",
    "                    \"page\": 1,\n",
    "                    \"order\": order_by    \n",
    "                  }\n",
    "    \n",
    "    nft_markets = get_response(\"/nfts/markets\", use_pro, page_params, PRO_URL) \n",
    "    nft_all = []\n",
    "\n",
    "    for i in range(len(nft_markets)):\n",
    "        nft_select = nft_markets[i]\n",
    "        temp_dict = dict(\n",
    "                         id = nft_select[\"id\"],\n",
    "                         asset_platform_id  = nft_select[\"asset_platform_id\"],\n",
    "                         floor_price_native = nft_select[\"floor_price\"][\"native_currency\"],\n",
    "                         floor_price_usd    = nft_select[\"floor_price\"][\"usd\"],\n",
    "                         market_cap_usd     = nft_select[\"market_cap\"][\"usd\"],\n",
    "                         volume_24h_usd     = nft_select[\"volume_24h\"][\"usd\"]\n",
    "                        )\n",
    "        nft_all.append(temp_dict)\n",
    "            \n",
    "    return pd.DataFrame(nft_all)                     \n"
   ]
  },
  {
   "cell_type": "code",
   "execution_count": 60,
   "id": "fcc0a55f-bac2-4da7-ba87-0a8a708c58e2",
   "metadata": {
    "tags": []
   },
   "outputs": [],
   "source": [
    "df_nft_markets = get_nft_markets(10, \"h24_volume_usd_desc\")"
   ]
  },
  {
   "cell_type": "code",
   "execution_count": 61,
   "id": "4ca7a64e-a149-473a-bf79-a5f50165d6d5",
   "metadata": {
    "tags": []
   },
   "outputs": [
    {
     "data": {
      "text/html": [
       "<div>\n",
       "<style scoped>\n",
       "    .dataframe tbody tr th:only-of-type {\n",
       "        vertical-align: middle;\n",
       "    }\n",
       "\n",
       "    .dataframe tbody tr th {\n",
       "        vertical-align: top;\n",
       "    }\n",
       "\n",
       "    .dataframe thead th {\n",
       "        text-align: right;\n",
       "    }\n",
       "</style>\n",
       "<table border=\"1\" class=\"dataframe\">\n",
       "  <thead>\n",
       "    <tr style=\"text-align: right;\">\n",
       "      <th></th>\n",
       "      <th>id</th>\n",
       "      <th>asset_platform_id</th>\n",
       "      <th>floor_price_native</th>\n",
       "      <th>floor_price_usd</th>\n",
       "      <th>market_cap_usd</th>\n",
       "      <th>volume_24h_usd</th>\n",
       "    </tr>\n",
       "  </thead>\n",
       "  <tbody>\n",
       "    <tr>\n",
       "      <th>0</th>\n",
       "      <td>bored-ape-yacht-club</td>\n",
       "      <td>ethereum</td>\n",
       "      <td>29.3900</td>\n",
       "      <td>57480.00</td>\n",
       "      <td>574686254</td>\n",
       "      <td>1220869</td>\n",
       "    </tr>\n",
       "    <tr>\n",
       "      <th>1</th>\n",
       "      <td>bitcoin-frogs</td>\n",
       "      <td>ordinals</td>\n",
       "      <td>0.1416</td>\n",
       "      <td>5194.50</td>\n",
       "      <td>51944983</td>\n",
       "      <td>1043760</td>\n",
       "    </tr>\n",
       "    <tr>\n",
       "      <th>2</th>\n",
       "      <td>mutant-ape-yacht-club</td>\n",
       "      <td>ethereum</td>\n",
       "      <td>5.5900</td>\n",
       "      <td>10921.59</td>\n",
       "      <td>212796258</td>\n",
       "      <td>949123</td>\n",
       "    </tr>\n",
       "    <tr>\n",
       "      <th>3</th>\n",
       "      <td>degods</td>\n",
       "      <td>ethereum</td>\n",
       "      <td>3.1200</td>\n",
       "      <td>6099.32</td>\n",
       "      <td>54546199</td>\n",
       "      <td>644587</td>\n",
       "    </tr>\n",
       "    <tr>\n",
       "      <th>4</th>\n",
       "      <td>mad-lads</td>\n",
       "      <td>solana</td>\n",
       "      <td>100.5200</td>\n",
       "      <td>5909.44</td>\n",
       "      <td>58893484</td>\n",
       "      <td>594917</td>\n",
       "    </tr>\n",
       "    <tr>\n",
       "      <th>5</th>\n",
       "      <td>the-captainz</td>\n",
       "      <td>ethereum</td>\n",
       "      <td>4.2800</td>\n",
       "      <td>8374.34</td>\n",
       "      <td>83735026</td>\n",
       "      <td>557373</td>\n",
       "    </tr>\n",
       "    <tr>\n",
       "      <th>6</th>\n",
       "      <td>nouns</td>\n",
       "      <td>ethereum</td>\n",
       "      <td>28.6400</td>\n",
       "      <td>55904.00</td>\n",
       "      <td>51319846</td>\n",
       "      <td>413234</td>\n",
       "    </tr>\n",
       "    <tr>\n",
       "      <th>7</th>\n",
       "      <td>azuki</td>\n",
       "      <td>ethereum</td>\n",
       "      <td>5.8000</td>\n",
       "      <td>11339.57</td>\n",
       "      <td>113395718</td>\n",
       "      <td>384756</td>\n",
       "    </tr>\n",
       "    <tr>\n",
       "      <th>8</th>\n",
       "      <td>pudgy-penguins</td>\n",
       "      <td>ethereum</td>\n",
       "      <td>5.7400</td>\n",
       "      <td>11247.36</td>\n",
       "      <td>99966496</td>\n",
       "      <td>344371</td>\n",
       "    </tr>\n",
       "    <tr>\n",
       "      <th>9</th>\n",
       "      <td>cryptopunks</td>\n",
       "      <td>ethereum</td>\n",
       "      <td>57.3000</td>\n",
       "      <td>111848.00</td>\n",
       "      <td>1117810422</td>\n",
       "      <td>336501</td>\n",
       "    </tr>\n",
       "  </tbody>\n",
       "</table>\n",
       "</div>"
      ],
      "text/plain": [
       "                      id asset_platform_id  floor_price_native  \\\n",
       "0   bored-ape-yacht-club          ethereum             29.3900   \n",
       "1          bitcoin-frogs          ordinals              0.1416   \n",
       "2  mutant-ape-yacht-club          ethereum              5.5900   \n",
       "3                 degods          ethereum              3.1200   \n",
       "4               mad-lads            solana            100.5200   \n",
       "5           the-captainz          ethereum              4.2800   \n",
       "6                  nouns          ethereum             28.6400   \n",
       "7                  azuki          ethereum              5.8000   \n",
       "8         pudgy-penguins          ethereum              5.7400   \n",
       "9            cryptopunks          ethereum             57.3000   \n",
       "\n",
       "   floor_price_usd  market_cap_usd  volume_24h_usd  \n",
       "0         57480.00       574686254         1220869  \n",
       "1          5194.50        51944983         1043760  \n",
       "2         10921.59       212796258          949123  \n",
       "3          6099.32        54546199          644587  \n",
       "4          5909.44        58893484          594917  \n",
       "5          8374.34        83735026          557373  \n",
       "6         55904.00        51319846          413234  \n",
       "7         11339.57       113395718          384756  \n",
       "8         11247.36        99966496          344371  \n",
       "9        111848.00      1117810422          336501  "
      ]
     },
     "execution_count": 61,
     "metadata": {},
     "output_type": "execute_result"
    }
   ],
   "source": [
    "df_nft_markets"
   ]
  },
  {
   "cell_type": "code",
   "execution_count": 59,
   "id": "78948bc6-5be6-454c-a931-56aa0b18f3a4",
   "metadata": {
    "tags": []
   },
   "outputs": [
    {
     "data": {
      "application/vnd.plotly.v1+json": {
       "config": {
        "plotlyServerURL": "https://plot.ly"
       },
       "data": [
        {
         "alignmentgroup": "True",
         "hovertemplate": "asset_platform_id=ethereum<br>id=%{x}<br>floor_price_usd=%{y}<extra></extra>",
         "legendgroup": "ethereum",
         "marker": {
          "color": "#636efa",
          "pattern": {
           "shape": ""
          }
         },
         "name": "ethereum",
         "offsetgroup": "ethereum",
         "orientation": "v",
         "showlegend": true,
         "textposition": "auto",
         "type": "bar",
         "x": [
          "bored-ape-yacht-club",
          "mutant-ape-yacht-club",
          "degods",
          "the-captainz",
          "nouns",
          "azuki",
          "pudgy-penguins",
          "cryptopunks"
         ],
         "xaxis": "x",
         "y": [
          57113,
          10902.61,
          6094.81,
          8349.28,
          55904,
          11318.49,
          11245.04,
          111848
         ],
         "yaxis": "y"
        },
        {
         "alignmentgroup": "True",
         "hovertemplate": "asset_platform_id=ordinals<br>id=%{x}<br>floor_price_usd=%{y}<extra></extra>",
         "legendgroup": "ordinals",
         "marker": {
          "color": "#EF553B",
          "pattern": {
           "shape": ""
          }
         },
         "name": "ordinals",
         "offsetgroup": "ordinals",
         "orientation": "v",
         "showlegend": true,
         "textposition": "auto",
         "type": "bar",
         "x": [
          "bitcoin-frogs"
         ],
         "xaxis": "x",
         "y": [
          5181.36
         ],
         "yaxis": "y"
        },
        {
         "alignmentgroup": "True",
         "hovertemplate": "asset_platform_id=solana<br>id=%{x}<br>floor_price_usd=%{y}<extra></extra>",
         "legendgroup": "solana",
         "marker": {
          "color": "#00cc96",
          "pattern": {
           "shape": ""
          }
         },
         "name": "solana",
         "offsetgroup": "solana",
         "orientation": "v",
         "showlegend": true,
         "textposition": "auto",
         "type": "bar",
         "x": [
          "mad-lads"
         ],
         "xaxis": "x",
         "y": [
          5842.18
         ],
         "yaxis": "y"
        }
       ],
       "layout": {
        "autosize": true,
        "barmode": "relative",
        "legend": {
         "title": {
          "text": "asset_platform_id"
         },
         "tracegroupgap": 0
        },
        "margin": {
         "t": 60
        },
        "template": {
         "data": {
          "bar": [
           {
            "error_x": {
             "color": "#2a3f5f"
            },
            "error_y": {
             "color": "#2a3f5f"
            },
            "marker": {
             "line": {
              "color": "#E5ECF6",
              "width": 0.5
             },
             "pattern": {
              "fillmode": "overlay",
              "size": 10,
              "solidity": 0.2
             }
            },
            "type": "bar"
           }
          ],
          "barpolar": [
           {
            "marker": {
             "line": {
              "color": "#E5ECF6",
              "width": 0.5
             },
             "pattern": {
              "fillmode": "overlay",
              "size": 10,
              "solidity": 0.2
             }
            },
            "type": "barpolar"
           }
          ],
          "carpet": [
           {
            "aaxis": {
             "endlinecolor": "#2a3f5f",
             "gridcolor": "white",
             "linecolor": "white",
             "minorgridcolor": "white",
             "startlinecolor": "#2a3f5f"
            },
            "baxis": {
             "endlinecolor": "#2a3f5f",
             "gridcolor": "white",
             "linecolor": "white",
             "minorgridcolor": "white",
             "startlinecolor": "#2a3f5f"
            },
            "type": "carpet"
           }
          ],
          "choropleth": [
           {
            "colorbar": {
             "outlinewidth": 0,
             "ticks": ""
            },
            "type": "choropleth"
           }
          ],
          "contour": [
           {
            "colorbar": {
             "outlinewidth": 0,
             "ticks": ""
            },
            "colorscale": [
             [
              0,
              "#0d0887"
             ],
             [
              0.1111111111111111,
              "#46039f"
             ],
             [
              0.2222222222222222,
              "#7201a8"
             ],
             [
              0.3333333333333333,
              "#9c179e"
             ],
             [
              0.4444444444444444,
              "#bd3786"
             ],
             [
              0.5555555555555556,
              "#d8576b"
             ],
             [
              0.6666666666666666,
              "#ed7953"
             ],
             [
              0.7777777777777778,
              "#fb9f3a"
             ],
             [
              0.8888888888888888,
              "#fdca26"
             ],
             [
              1,
              "#f0f921"
             ]
            ],
            "type": "contour"
           }
          ],
          "contourcarpet": [
           {
            "colorbar": {
             "outlinewidth": 0,
             "ticks": ""
            },
            "type": "contourcarpet"
           }
          ],
          "heatmap": [
           {
            "colorbar": {
             "outlinewidth": 0,
             "ticks": ""
            },
            "colorscale": [
             [
              0,
              "#0d0887"
             ],
             [
              0.1111111111111111,
              "#46039f"
             ],
             [
              0.2222222222222222,
              "#7201a8"
             ],
             [
              0.3333333333333333,
              "#9c179e"
             ],
             [
              0.4444444444444444,
              "#bd3786"
             ],
             [
              0.5555555555555556,
              "#d8576b"
             ],
             [
              0.6666666666666666,
              "#ed7953"
             ],
             [
              0.7777777777777778,
              "#fb9f3a"
             ],
             [
              0.8888888888888888,
              "#fdca26"
             ],
             [
              1,
              "#f0f921"
             ]
            ],
            "type": "heatmap"
           }
          ],
          "heatmapgl": [
           {
            "colorbar": {
             "outlinewidth": 0,
             "ticks": ""
            },
            "colorscale": [
             [
              0,
              "#0d0887"
             ],
             [
              0.1111111111111111,
              "#46039f"
             ],
             [
              0.2222222222222222,
              "#7201a8"
             ],
             [
              0.3333333333333333,
              "#9c179e"
             ],
             [
              0.4444444444444444,
              "#bd3786"
             ],
             [
              0.5555555555555556,
              "#d8576b"
             ],
             [
              0.6666666666666666,
              "#ed7953"
             ],
             [
              0.7777777777777778,
              "#fb9f3a"
             ],
             [
              0.8888888888888888,
              "#fdca26"
             ],
             [
              1,
              "#f0f921"
             ]
            ],
            "type": "heatmapgl"
           }
          ],
          "histogram": [
           {
            "marker": {
             "pattern": {
              "fillmode": "overlay",
              "size": 10,
              "solidity": 0.2
             }
            },
            "type": "histogram"
           }
          ],
          "histogram2d": [
           {
            "colorbar": {
             "outlinewidth": 0,
             "ticks": ""
            },
            "colorscale": [
             [
              0,
              "#0d0887"
             ],
             [
              0.1111111111111111,
              "#46039f"
             ],
             [
              0.2222222222222222,
              "#7201a8"
             ],
             [
              0.3333333333333333,
              "#9c179e"
             ],
             [
              0.4444444444444444,
              "#bd3786"
             ],
             [
              0.5555555555555556,
              "#d8576b"
             ],
             [
              0.6666666666666666,
              "#ed7953"
             ],
             [
              0.7777777777777778,
              "#fb9f3a"
             ],
             [
              0.8888888888888888,
              "#fdca26"
             ],
             [
              1,
              "#f0f921"
             ]
            ],
            "type": "histogram2d"
           }
          ],
          "histogram2dcontour": [
           {
            "colorbar": {
             "outlinewidth": 0,
             "ticks": ""
            },
            "colorscale": [
             [
              0,
              "#0d0887"
             ],
             [
              0.1111111111111111,
              "#46039f"
             ],
             [
              0.2222222222222222,
              "#7201a8"
             ],
             [
              0.3333333333333333,
              "#9c179e"
             ],
             [
              0.4444444444444444,
              "#bd3786"
             ],
             [
              0.5555555555555556,
              "#d8576b"
             ],
             [
              0.6666666666666666,
              "#ed7953"
             ],
             [
              0.7777777777777778,
              "#fb9f3a"
             ],
             [
              0.8888888888888888,
              "#fdca26"
             ],
             [
              1,
              "#f0f921"
             ]
            ],
            "type": "histogram2dcontour"
           }
          ],
          "mesh3d": [
           {
            "colorbar": {
             "outlinewidth": 0,
             "ticks": ""
            },
            "type": "mesh3d"
           }
          ],
          "parcoords": [
           {
            "line": {
             "colorbar": {
              "outlinewidth": 0,
              "ticks": ""
             }
            },
            "type": "parcoords"
           }
          ],
          "pie": [
           {
            "automargin": true,
            "type": "pie"
           }
          ],
          "scatter": [
           {
            "fillpattern": {
             "fillmode": "overlay",
             "size": 10,
             "solidity": 0.2
            },
            "type": "scatter"
           }
          ],
          "scatter3d": [
           {
            "line": {
             "colorbar": {
              "outlinewidth": 0,
              "ticks": ""
             }
            },
            "marker": {
             "colorbar": {
              "outlinewidth": 0,
              "ticks": ""
             }
            },
            "type": "scatter3d"
           }
          ],
          "scattercarpet": [
           {
            "marker": {
             "colorbar": {
              "outlinewidth": 0,
              "ticks": ""
             }
            },
            "type": "scattercarpet"
           }
          ],
          "scattergeo": [
           {
            "marker": {
             "colorbar": {
              "outlinewidth": 0,
              "ticks": ""
             }
            },
            "type": "scattergeo"
           }
          ],
          "scattergl": [
           {
            "marker": {
             "colorbar": {
              "outlinewidth": 0,
              "ticks": ""
             }
            },
            "type": "scattergl"
           }
          ],
          "scattermapbox": [
           {
            "marker": {
             "colorbar": {
              "outlinewidth": 0,
              "ticks": ""
             }
            },
            "type": "scattermapbox"
           }
          ],
          "scatterpolar": [
           {
            "marker": {
             "colorbar": {
              "outlinewidth": 0,
              "ticks": ""
             }
            },
            "type": "scatterpolar"
           }
          ],
          "scatterpolargl": [
           {
            "marker": {
             "colorbar": {
              "outlinewidth": 0,
              "ticks": ""
             }
            },
            "type": "scatterpolargl"
           }
          ],
          "scatterternary": [
           {
            "marker": {
             "colorbar": {
              "outlinewidth": 0,
              "ticks": ""
             }
            },
            "type": "scatterternary"
           }
          ],
          "surface": [
           {
            "colorbar": {
             "outlinewidth": 0,
             "ticks": ""
            },
            "colorscale": [
             [
              0,
              "#0d0887"
             ],
             [
              0.1111111111111111,
              "#46039f"
             ],
             [
              0.2222222222222222,
              "#7201a8"
             ],
             [
              0.3333333333333333,
              "#9c179e"
             ],
             [
              0.4444444444444444,
              "#bd3786"
             ],
             [
              0.5555555555555556,
              "#d8576b"
             ],
             [
              0.6666666666666666,
              "#ed7953"
             ],
             [
              0.7777777777777778,
              "#fb9f3a"
             ],
             [
              0.8888888888888888,
              "#fdca26"
             ],
             [
              1,
              "#f0f921"
             ]
            ],
            "type": "surface"
           }
          ],
          "table": [
           {
            "cells": {
             "fill": {
              "color": "#EBF0F8"
             },
             "line": {
              "color": "white"
             }
            },
            "header": {
             "fill": {
              "color": "#C8D4E3"
             },
             "line": {
              "color": "white"
             }
            },
            "type": "table"
           }
          ]
         },
         "layout": {
          "annotationdefaults": {
           "arrowcolor": "#2a3f5f",
           "arrowhead": 0,
           "arrowwidth": 1
          },
          "autotypenumbers": "strict",
          "coloraxis": {
           "colorbar": {
            "outlinewidth": 0,
            "ticks": ""
           }
          },
          "colorscale": {
           "diverging": [
            [
             0,
             "#8e0152"
            ],
            [
             0.1,
             "#c51b7d"
            ],
            [
             0.2,
             "#de77ae"
            ],
            [
             0.3,
             "#f1b6da"
            ],
            [
             0.4,
             "#fde0ef"
            ],
            [
             0.5,
             "#f7f7f7"
            ],
            [
             0.6,
             "#e6f5d0"
            ],
            [
             0.7,
             "#b8e186"
            ],
            [
             0.8,
             "#7fbc41"
            ],
            [
             0.9,
             "#4d9221"
            ],
            [
             1,
             "#276419"
            ]
           ],
           "sequential": [
            [
             0,
             "#0d0887"
            ],
            [
             0.1111111111111111,
             "#46039f"
            ],
            [
             0.2222222222222222,
             "#7201a8"
            ],
            [
             0.3333333333333333,
             "#9c179e"
            ],
            [
             0.4444444444444444,
             "#bd3786"
            ],
            [
             0.5555555555555556,
             "#d8576b"
            ],
            [
             0.6666666666666666,
             "#ed7953"
            ],
            [
             0.7777777777777778,
             "#fb9f3a"
            ],
            [
             0.8888888888888888,
             "#fdca26"
            ],
            [
             1,
             "#f0f921"
            ]
           ],
           "sequentialminus": [
            [
             0,
             "#0d0887"
            ],
            [
             0.1111111111111111,
             "#46039f"
            ],
            [
             0.2222222222222222,
             "#7201a8"
            ],
            [
             0.3333333333333333,
             "#9c179e"
            ],
            [
             0.4444444444444444,
             "#bd3786"
            ],
            [
             0.5555555555555556,
             "#d8576b"
            ],
            [
             0.6666666666666666,
             "#ed7953"
            ],
            [
             0.7777777777777778,
             "#fb9f3a"
            ],
            [
             0.8888888888888888,
             "#fdca26"
            ],
            [
             1,
             "#f0f921"
            ]
           ]
          },
          "colorway": [
           "#636efa",
           "#EF553B",
           "#00cc96",
           "#ab63fa",
           "#FFA15A",
           "#19d3f3",
           "#FF6692",
           "#B6E880",
           "#FF97FF",
           "#FECB52"
          ],
          "font": {
           "color": "#2a3f5f"
          },
          "geo": {
           "bgcolor": "white",
           "lakecolor": "white",
           "landcolor": "#E5ECF6",
           "showlakes": true,
           "showland": true,
           "subunitcolor": "white"
          },
          "hoverlabel": {
           "align": "left"
          },
          "hovermode": "closest",
          "mapbox": {
           "style": "light"
          },
          "paper_bgcolor": "white",
          "plot_bgcolor": "#E5ECF6",
          "polar": {
           "angularaxis": {
            "gridcolor": "white",
            "linecolor": "white",
            "ticks": ""
           },
           "bgcolor": "#E5ECF6",
           "radialaxis": {
            "gridcolor": "white",
            "linecolor": "white",
            "ticks": ""
           }
          },
          "scene": {
           "xaxis": {
            "backgroundcolor": "#E5ECF6",
            "gridcolor": "white",
            "gridwidth": 2,
            "linecolor": "white",
            "showbackground": true,
            "ticks": "",
            "zerolinecolor": "white"
           },
           "yaxis": {
            "backgroundcolor": "#E5ECF6",
            "gridcolor": "white",
            "gridwidth": 2,
            "linecolor": "white",
            "showbackground": true,
            "ticks": "",
            "zerolinecolor": "white"
           },
           "zaxis": {
            "backgroundcolor": "#E5ECF6",
            "gridcolor": "white",
            "gridwidth": 2,
            "linecolor": "white",
            "showbackground": true,
            "ticks": "",
            "zerolinecolor": "white"
           }
          },
          "shapedefaults": {
           "line": {
            "color": "#2a3f5f"
           }
          },
          "ternary": {
           "aaxis": {
            "gridcolor": "white",
            "linecolor": "white",
            "ticks": ""
           },
           "baxis": {
            "gridcolor": "white",
            "linecolor": "white",
            "ticks": ""
           },
           "bgcolor": "#E5ECF6",
           "caxis": {
            "gridcolor": "white",
            "linecolor": "white",
            "ticks": ""
           }
          },
          "title": {
           "x": 0.05
          },
          "xaxis": {
           "automargin": true,
           "gridcolor": "white",
           "linecolor": "white",
           "ticks": "",
           "title": {
            "standoff": 15
           },
           "zerolinecolor": "white",
           "zerolinewidth": 2
          },
          "yaxis": {
           "automargin": true,
           "gridcolor": "white",
           "linecolor": "white",
           "ticks": "",
           "title": {
            "standoff": 15
           },
           "zerolinecolor": "white",
           "zerolinewidth": 2
          }
         }
        },
        "xaxis": {
         "anchor": "y",
         "autorange": true,
         "domain": [
          0,
          1
         ],
         "range": [
          -0.5,
          9.5
         ],
         "title": {
          "text": "id"
         },
         "type": "category"
        },
        "yaxis": {
         "anchor": "x",
         "autorange": true,
         "domain": [
          0,
          1
         ],
         "range": [
          0,
          117734.73684210527
         ],
         "title": {
          "text": "floor_price_usd"
         },
         "type": "linear"
        }
       }
      },
      "image/png": "[encoded data removed]",
      "text/html": [
       "<div>                            <div id=\"278b7380-702c-4f2b-a4b1-ce535a591616\" class=\"plotly-graph-div\" style=\"height:525px; width:100%;\"></div>            <script type=\"text/javascript\">                require([\"plotly\"], function(Plotly) {                    window.PLOTLYENV=window.PLOTLYENV || {};                                    if (document.getElementById(\"278b7380-702c-4f2b-a4b1-ce535a591616\")) {                    Plotly.newPlot(                        \"278b7380-702c-4f2b-a4b1-ce535a591616\",                        [{\"alignmentgroup\":\"True\",\"hovertemplate\":\"asset_platform_id=ethereum\\u003cbr\\u003eid=%{x}\\u003cbr\\u003efloor_price_usd=%{y}\\u003cextra\\u003e\\u003c\\u002fextra\\u003e\",\"legendgroup\":\"ethereum\",\"marker\":{\"color\":\"#636efa\",\"pattern\":{\"shape\":\"\"}},\"name\":\"ethereum\",\"offsetgroup\":\"ethereum\",\"orientation\":\"v\",\"showlegend\":true,\"textposition\":\"auto\",\"x\":[\"bored-ape-yacht-club\",\"mutant-ape-yacht-club\",\"degods\",\"the-captainz\",\"nouns\",\"azuki\",\"pudgy-penguins\",\"cryptopunks\"],\"xaxis\":\"x\",\"y\":[57113.0,10902.61,6094.81,8349.28,55904.0,11318.49,11245.04,111848.0],\"yaxis\":\"y\",\"type\":\"bar\"},{\"alignmentgroup\":\"True\",\"hovertemplate\":\"asset_platform_id=ordinals\\u003cbr\\u003eid=%{x}\\u003cbr\\u003efloor_price_usd=%{y}\\u003cextra\\u003e\\u003c\\u002fextra\\u003e\",\"legendgroup\":\"ordinals\",\"marker\":{\"color\":\"#EF553B\",\"pattern\":{\"shape\":\"\"}},\"name\":\"ordinals\",\"offsetgroup\":\"ordinals\",\"orientation\":\"v\",\"showlegend\":true,\"textposition\":\"auto\",\"x\":[\"bitcoin-frogs\"],\"xaxis\":\"x\",\"y\":[5181.36],\"yaxis\":\"y\",\"type\":\"bar\"},{\"alignmentgroup\":\"True\",\"hovertemplate\":\"asset_platform_id=solana\\u003cbr\\u003eid=%{x}\\u003cbr\\u003efloor_price_usd=%{y}\\u003cextra\\u003e\\u003c\\u002fextra\\u003e\",\"legendgroup\":\"solana\",\"marker\":{\"color\":\"#00cc96\",\"pattern\":{\"shape\":\"\"}},\"name\":\"solana\",\"offsetgroup\":\"solana\",\"orientation\":\"v\",\"showlegend\":true,\"textposition\":\"auto\",\"x\":[\"mad-lads\"],\"xaxis\":\"x\",\"y\":[5842.18],\"yaxis\":\"y\",\"type\":\"bar\"}],                        {\"template\":{\"data\":{\"histogram2dcontour\":[{\"type\":\"histogram2dcontour\",\"colorbar\":{\"outlinewidth\":0,\"ticks\":\"\"},\"colorscale\":[[0.0,\"#0d0887\"],[0.1111111111111111,\"#46039f\"],[0.2222222222222222,\"#7201a8\"],[0.3333333333333333,\"#9c179e\"],[0.4444444444444444,\"#bd3786\"],[0.5555555555555556,\"#d8576b\"],[0.6666666666666666,\"#ed7953\"],[0.7777777777777778,\"#fb9f3a\"],[0.8888888888888888,\"#fdca26\"],[1.0,\"#f0f921\"]]}],\"choropleth\":[{\"type\":\"choropleth\",\"colorbar\":{\"outlinewidth\":0,\"ticks\":\"\"}}],\"histogram2d\":[{\"type\":\"histogram2d\",\"colorbar\":{\"outlinewidth\":0,\"ticks\":\"\"},\"colorscale\":[[0.0,\"#0d0887\"],[0.1111111111111111,\"#46039f\"],[0.2222222222222222,\"#7201a8\"],[0.3333333333333333,\"#9c179e\"],[0.4444444444444444,\"#bd3786\"],[0.5555555555555556,\"#d8576b\"],[0.6666666666666666,\"#ed7953\"],[0.7777777777777778,\"#fb9f3a\"],[0.8888888888888888,\"#fdca26\"],[1.0,\"#f0f921\"]]}],\"heatmap\":[{\"type\":\"heatmap\",\"colorbar\":{\"outlinewidth\":0,\"ticks\":\"\"},\"colorscale\":[[0.0,\"#0d0887\"],[0.1111111111111111,\"#46039f\"],[0.2222222222222222,\"#7201a8\"],[0.3333333333333333,\"#9c179e\"],[0.4444444444444444,\"#bd3786\"],[0.5555555555555556,\"#d8576b\"],[0.6666666666666666,\"#ed7953\"],[0.7777777777777778,\"#fb9f3a\"],[0.8888888888888888,\"#fdca26\"],[1.0,\"#f0f921\"]]}],\"heatmapgl\":[{\"type\":\"heatmapgl\",\"colorbar\":{\"outlinewidth\":0,\"ticks\":\"\"},\"colorscale\":[[0.0,\"#0d0887\"],[0.1111111111111111,\"#46039f\"],[0.2222222222222222,\"#7201a8\"],[0.3333333333333333,\"#9c179e\"],[0.4444444444444444,\"#bd3786\"],[0.5555555555555556,\"#d8576b\"],[0.6666666666666666,\"#ed7953\"],[0.7777777777777778,\"#fb9f3a\"],[0.8888888888888888,\"#fdca26\"],[1.0,\"#f0f921\"]]}],\"contourcarpet\":[{\"type\":\"contourcarpet\",\"colorbar\":{\"outlinewidth\":0,\"ticks\":\"\"}}],\"contour\":[{\"type\":\"contour\",\"colorbar\":{\"outlinewidth\":0,\"ticks\":\"\"},\"colorscale\":[[0.0,\"#0d0887\"],[0.1111111111111111,\"#46039f\"],[0.2222222222222222,\"#7201a8\"],[0.3333333333333333,\"#9c179e\"],[0.4444444444444444,\"#bd3786\"],[0.5555555555555556,\"#d8576b\"],[0.6666666666666666,\"#ed7953\"],[0.7777777777777778,\"#fb9f3a\"],[0.8888888888888888,\"#fdca26\"],[1.0,\"#f0f921\"]]}],\"surface\":[{\"type\":\"surface\",\"colorbar\":{\"outlinewidth\":0,\"ticks\":\"\"},\"colorscale\":[[0.0,\"#0d0887\"],[0.1111111111111111,\"#46039f\"],[0.2222222222222222,\"#7201a8\"],[0.3333333333333333,\"#9c179e\"],[0.4444444444444444,\"#bd3786\"],[0.5555555555555556,\"#d8576b\"],[0.6666666666666666,\"#ed7953\"],[0.7777777777777778,\"#fb9f3a\"],[0.8888888888888888,\"#fdca26\"],[1.0,\"#f0f921\"]]}],\"mesh3d\":[{\"type\":\"mesh3d\",\"colorbar\":{\"outlinewidth\":0,\"ticks\":\"\"}}],\"scatter\":[{\"fillpattern\":{\"fillmode\":\"overlay\",\"size\":10,\"solidity\":0.2},\"type\":\"scatter\"}],\"parcoords\":[{\"type\":\"parcoords\",\"line\":{\"colorbar\":{\"outlinewidth\":0,\"ticks\":\"\"}}}],\"scatterpolargl\":[{\"type\":\"scatterpolargl\",\"marker\":{\"colorbar\":{\"outlinewidth\":0,\"ticks\":\"\"}}}],\"bar\":[{\"error_x\":{\"color\":\"#2a3f5f\"},\"error_y\":{\"color\":\"#2a3f5f\"},\"marker\":{\"line\":{\"color\":\"#E5ECF6\",\"width\":0.5},\"pattern\":{\"fillmode\":\"overlay\",\"size\":10,\"solidity\":0.2}},\"type\":\"bar\"}],\"scattergeo\":[{\"type\":\"scattergeo\",\"marker\":{\"colorbar\":{\"outlinewidth\":0,\"ticks\":\"\"}}}],\"scatterpolar\":[{\"type\":\"scatterpolar\",\"marker\":{\"colorbar\":{\"outlinewidth\":0,\"ticks\":\"\"}}}],\"histogram\":[{\"marker\":{\"pattern\":{\"fillmode\":\"overlay\",\"size\":10,\"solidity\":0.2}},\"type\":\"histogram\"}],\"scattergl\":[{\"type\":\"scattergl\",\"marker\":{\"colorbar\":{\"outlinewidth\":0,\"ticks\":\"\"}}}],\"scatter3d\":[{\"type\":\"scatter3d\",\"line\":{\"colorbar\":{\"outlinewidth\":0,\"ticks\":\"\"}},\"marker\":{\"colorbar\":{\"outlinewidth\":0,\"ticks\":\"\"}}}],\"scattermapbox\":[{\"type\":\"scattermapbox\",\"marker\":{\"colorbar\":{\"outlinewidth\":0,\"ticks\":\"\"}}}],\"scatterternary\":[{\"type\":\"scatterternary\",\"marker\":{\"colorbar\":{\"outlinewidth\":0,\"ticks\":\"\"}}}],\"scattercarpet\":[{\"type\":\"scattercarpet\",\"marker\":{\"colorbar\":{\"outlinewidth\":0,\"ticks\":\"\"}}}],\"carpet\":[{\"aaxis\":{\"endlinecolor\":\"#2a3f5f\",\"gridcolor\":\"white\",\"linecolor\":\"white\",\"minorgridcolor\":\"white\",\"startlinecolor\":\"#2a3f5f\"},\"baxis\":{\"endlinecolor\":\"#2a3f5f\",\"gridcolor\":\"white\",\"linecolor\":\"white\",\"minorgridcolor\":\"white\",\"startlinecolor\":\"#2a3f5f\"},\"type\":\"carpet\"}],\"table\":[{\"cells\":{\"fill\":{\"color\":\"#EBF0F8\"},\"line\":{\"color\":\"white\"}},\"header\":{\"fill\":{\"color\":\"#C8D4E3\"},\"line\":{\"color\":\"white\"}},\"type\":\"table\"}],\"barpolar\":[{\"marker\":{\"line\":{\"color\":\"#E5ECF6\",\"width\":0.5},\"pattern\":{\"fillmode\":\"overlay\",\"size\":10,\"solidity\":0.2}},\"type\":\"barpolar\"}],\"pie\":[{\"automargin\":true,\"type\":\"pie\"}]},\"layout\":{\"autotypenumbers\":\"strict\",\"colorway\":[\"#636efa\",\"#EF553B\",\"#00cc96\",\"#ab63fa\",\"#FFA15A\",\"#19d3f3\",\"#FF6692\",\"#B6E880\",\"#FF97FF\",\"#FECB52\"],\"font\":{\"color\":\"#2a3f5f\"},\"hovermode\":\"closest\",\"hoverlabel\":{\"align\":\"left\"},\"paper_bgcolor\":\"white\",\"plot_bgcolor\":\"#E5ECF6\",\"polar\":{\"bgcolor\":\"#E5ECF6\",\"angularaxis\":{\"gridcolor\":\"white\",\"linecolor\":\"white\",\"ticks\":\"\"},\"radialaxis\":{\"gridcolor\":\"white\",\"linecolor\":\"white\",\"ticks\":\"\"}},\"ternary\":{\"bgcolor\":\"#E5ECF6\",\"aaxis\":{\"gridcolor\":\"white\",\"linecolor\":\"white\",\"ticks\":\"\"},\"baxis\":{\"gridcolor\":\"white\",\"linecolor\":\"white\",\"ticks\":\"\"},\"caxis\":{\"gridcolor\":\"white\",\"linecolor\":\"white\",\"ticks\":\"\"}},\"coloraxis\":{\"colorbar\":{\"outlinewidth\":0,\"ticks\":\"\"}},\"colorscale\":{\"sequential\":[[0.0,\"#0d0887\"],[0.1111111111111111,\"#46039f\"],[0.2222222222222222,\"#7201a8\"],[0.3333333333333333,\"#9c179e\"],[0.4444444444444444,\"#bd3786\"],[0.5555555555555556,\"#d8576b\"],[0.6666666666666666,\"#ed7953\"],[0.7777777777777778,\"#fb9f3a\"],[0.8888888888888888,\"#fdca26\"],[1.0,\"#f0f921\"]],\"sequentialminus\":[[0.0,\"#0d0887\"],[0.1111111111111111,\"#46039f\"],[0.2222222222222222,\"#7201a8\"],[0.3333333333333333,\"#9c179e\"],[0.4444444444444444,\"#bd3786\"],[0.5555555555555556,\"#d8576b\"],[0.6666666666666666,\"#ed7953\"],[0.7777777777777778,\"#fb9f3a\"],[0.8888888888888888,\"#fdca26\"],[1.0,\"#f0f921\"]],\"diverging\":[[0,\"#8e0152\"],[0.1,\"#c51b7d\"],[0.2,\"#de77ae\"],[0.3,\"#f1b6da\"],[0.4,\"#fde0ef\"],[0.5,\"#f7f7f7\"],[0.6,\"#e6f5d0\"],[0.7,\"#b8e186\"],[0.8,\"#7fbc41\"],[0.9,\"#4d9221\"],[1,\"#276419\"]]},\"xaxis\":{\"gridcolor\":\"white\",\"linecolor\":\"white\",\"ticks\":\"\",\"title\":{\"standoff\":15},\"zerolinecolor\":\"white\",\"automargin\":true,\"zerolinewidth\":2},\"yaxis\":{\"gridcolor\":\"white\",\"linecolor\":\"white\",\"ticks\":\"\",\"title\":{\"standoff\":15},\"zerolinecolor\":\"white\",\"automargin\":true,\"zerolinewidth\":2},\"scene\":{\"xaxis\":{\"backgroundcolor\":\"#E5ECF6\",\"gridcolor\":\"white\",\"linecolor\":\"white\",\"showbackground\":true,\"ticks\":\"\",\"zerolinecolor\":\"white\",\"gridwidth\":2},\"yaxis\":{\"backgroundcolor\":\"#E5ECF6\",\"gridcolor\":\"white\",\"linecolor\":\"white\",\"showbackground\":true,\"ticks\":\"\",\"zerolinecolor\":\"white\",\"gridwidth\":2},\"zaxis\":{\"backgroundcolor\":\"#E5ECF6\",\"gridcolor\":\"white\",\"linecolor\":\"white\",\"showbackground\":true,\"ticks\":\"\",\"zerolinecolor\":\"white\",\"gridwidth\":2}},\"shapedefaults\":{\"line\":{\"color\":\"#2a3f5f\"}},\"annotationdefaults\":{\"arrowcolor\":\"#2a3f5f\",\"arrowhead\":0,\"arrowwidth\":1},\"geo\":{\"bgcolor\":\"white\",\"landcolor\":\"#E5ECF6\",\"subunitcolor\":\"white\",\"showland\":true,\"showlakes\":true,\"lakecolor\":\"white\"},\"title\":{\"x\":0.05},\"mapbox\":{\"style\":\"light\"}}},\"xaxis\":{\"anchor\":\"y\",\"domain\":[0.0,1.0],\"title\":{\"text\":\"id\"}},\"yaxis\":{\"anchor\":\"x\",\"domain\":[0.0,1.0],\"title\":{\"text\":\"floor_price_usd\"}},\"legend\":{\"title\":{\"text\":\"asset_platform_id\"},\"tracegroupgap\":0},\"margin\":{\"t\":60},\"barmode\":\"relative\"},                        {\"responsive\": true}                    ).then(function(){\n",
       "                            \n",
       "var gd = document.getElementById('278b7380-702c-4f2b-a4b1-ce535a591616');\n",
       "var x = new MutationObserver(function (mutations, observer) {{\n",
       "        var display = window.getComputedStyle(gd).display;\n",
       "        if (!display || display === 'none') {{\n",
       "            console.log([gd, 'removed!']);\n",
       "            Plotly.purge(gd);\n",
       "            observer.disconnect();\n",
       "        }}\n",
       "}});\n",
       "\n",
       "// Listen for the removal of the full notebook cells\n",
       "var notebookContainer = gd.closest('#notebook-container');\n",
       "if (notebookContainer) {{\n",
       "    x.observe(notebookContainer, {childList: true});\n",
       "}}\n",
       "\n",
       "// Listen for the clearing of the current output cell\n",
       "var outputEl = gd.closest('.output');\n",
       "if (outputEl) {{\n",
       "    x.observe(outputEl, {childList: true});\n",
       "}}\n",
       "\n",
       "                        })                };                });            </script>        </div>"
      ]
     },
     "metadata": {},
     "output_type": "display_data"
    }
   ],
   "source": [
    "import plotly.express as px\n",
    "\n",
    "fig2 = px.bar(df_nft_markets, x = \"id\", y = \"floor_price_usd\", color = \"asset_platform_id\")\n",
    "fig2.show()"
   ]
  },
  {
   "cell_type": "code",
   "execution_count": 104,
   "id": "0c31f660-d186-4a99-ba97-ac7f84da380c",
   "metadata": {
    "tags": []
   },
   "outputs": [],
   "source": [
    "def get_nft_hist(nft_id, num_days):\n",
    "    hist_params = {\"days\": num_days}\n",
    "    hist_url = f\"/nfts/{nft_id}/market_chart\"\n",
    "    \n",
    "    nft_hist = get_response(hist_url, use_pro, hist_params, PRO_URL)\n",
    "    all_time, all_floor_price_usd = [], []    \n",
    "\n",
    "    floor_price_usd = nft_hist[\"floor_price_usd\"]\n",
    "\n",
    "    for i in range(len(floor_price_usd)):\n",
    "        time = floor_price_usd[i][0]\n",
    "        all_time.append(time)\n",
    "        \n",
    "        price = floor_price_usd[i][1]\n",
    "        all_floor_price_usd.append(price)\n",
    "\n",
    "    df_hist = pd.DataFrame(list(zip(all_time, all_floor_price_usd)),\n",
    "                           columns =['Time', 'Price_usd'])\n",
    "\n",
    "    df_hist[\"Time\"] = pd.to_datetime(df_hist[\"Time\"], unit = \"ms\")\n",
    "    #df_hist.set_index(\"Time\", inplace = True)\n",
    "\n",
    "    return df_hist    \n",
    "    "
   ]
  },
  {
   "cell_type": "code",
   "execution_count": 112,
   "id": "c364c8a3-5db0-4951-90cf-cd3f62f19f7a",
   "metadata": {
    "tags": []
   },
   "outputs": [],
   "source": [
    "df_hist = get_nft_hist(df_nft_markets.id[7], 365)"
   ]
  },
  {
   "cell_type": "code",
   "execution_count": 113,
   "id": "7a6695ae-db68-4445-9dc8-7c500ebf7cd7",
   "metadata": {
    "tags": []
   },
   "outputs": [
    {
     "data": {
      "text/html": [
       "<div>\n",
       "<style scoped>\n",
       "    .dataframe tbody tr th:only-of-type {\n",
       "        vertical-align: middle;\n",
       "    }\n",
       "\n",
       "    .dataframe tbody tr th {\n",
       "        vertical-align: top;\n",
       "    }\n",
       "\n",
       "    .dataframe thead th {\n",
       "        text-align: right;\n",
       "    }\n",
       "</style>\n",
       "<table border=\"1\" class=\"dataframe\">\n",
       "  <thead>\n",
       "    <tr style=\"text-align: right;\">\n",
       "      <th></th>\n",
       "      <th>Time</th>\n",
       "      <th>Price_usd</th>\n",
       "    </tr>\n",
       "  </thead>\n",
       "  <tbody>\n",
       "    <tr>\n",
       "      <th>0</th>\n",
       "      <td>2022-11-24 00:05:09</td>\n",
       "      <td>11517.021657</td>\n",
       "    </tr>\n",
       "    <tr>\n",
       "      <th>1</th>\n",
       "      <td>2022-11-25 00:05:10</td>\n",
       "      <td>11179.088841</td>\n",
       "    </tr>\n",
       "    <tr>\n",
       "      <th>2</th>\n",
       "      <td>2022-11-26 00:05:05</td>\n",
       "      <td>11217.841667</td>\n",
       "    </tr>\n",
       "    <tr>\n",
       "      <th>3</th>\n",
       "      <td>2022-11-27 00:05:02</td>\n",
       "      <td>12051.988169</td>\n",
       "    </tr>\n",
       "    <tr>\n",
       "      <th>4</th>\n",
       "      <td>2022-11-28 00:05:03</td>\n",
       "      <td>12522.868492</td>\n",
       "    </tr>\n",
       "    <tr>\n",
       "      <th>...</th>\n",
       "      <td>...</td>\n",
       "      <td>...</td>\n",
       "    </tr>\n",
       "    <tr>\n",
       "      <th>360</th>\n",
       "      <td>2023-11-19 00:05:52</td>\n",
       "      <td>11338.806945</td>\n",
       "    </tr>\n",
       "    <tr>\n",
       "      <th>361</th>\n",
       "      <td>2023-11-20 00:05:14</td>\n",
       "      <td>11631.327683</td>\n",
       "    </tr>\n",
       "    <tr>\n",
       "      <th>362</th>\n",
       "      <td>2023-11-21 00:05:48</td>\n",
       "      <td>11469.485746</td>\n",
       "    </tr>\n",
       "    <tr>\n",
       "      <th>363</th>\n",
       "      <td>2023-11-22 00:05:38</td>\n",
       "      <td>10558.001312</td>\n",
       "    </tr>\n",
       "    <tr>\n",
       "      <th>364</th>\n",
       "      <td>2023-11-23 00:05:28</td>\n",
       "      <td>11305.000669</td>\n",
       "    </tr>\n",
       "  </tbody>\n",
       "</table>\n",
       "<p>365 rows × 2 columns</p>\n",
       "</div>"
      ],
      "text/plain": [
       "                   Time     Price_usd\n",
       "0   2022-11-24 00:05:09  11517.021657\n",
       "1   2022-11-25 00:05:10  11179.088841\n",
       "2   2022-11-26 00:05:05  11217.841667\n",
       "3   2022-11-27 00:05:02  12051.988169\n",
       "4   2022-11-28 00:05:03  12522.868492\n",
       "..                  ...           ...\n",
       "360 2023-11-19 00:05:52  11338.806945\n",
       "361 2023-11-20 00:05:14  11631.327683\n",
       "362 2023-11-21 00:05:48  11469.485746\n",
       "363 2023-11-22 00:05:38  10558.001312\n",
       "364 2023-11-23 00:05:28  11305.000669\n",
       "\n",
       "[365 rows x 2 columns]"
      ]
     },
     "execution_count": 113,
     "metadata": {},
     "output_type": "execute_result"
    }
   ],
   "source": [
    "df_hist"
   ]
  },
  {
   "cell_type": "code",
   "execution_count": 114,
   "id": "1f0a87e0-3cac-4e54-a4cc-00bf6c535762",
   "metadata": {
    "tags": []
   },
   "outputs": [],
   "source": [
    "df_hist['SMA'] = df_hist['Price_usd'].rolling(5).mean() "
   ]
  },
  {
   "cell_type": "code",
   "execution_count": 115,
   "id": "2615dc69-c6e8-49ca-ae36-fbe5de4cb7e9",
   "metadata": {
    "tags": []
   },
   "outputs": [
    {
     "data": {
      "text/html": [
       "<div>\n",
       "<style scoped>\n",
       "    .dataframe tbody tr th:only-of-type {\n",
       "        vertical-align: middle;\n",
       "    }\n",
       "\n",
       "    .dataframe tbody tr th {\n",
       "        vertical-align: top;\n",
       "    }\n",
       "\n",
       "    .dataframe thead th {\n",
       "        text-align: right;\n",
       "    }\n",
       "</style>\n",
       "<table border=\"1\" class=\"dataframe\">\n",
       "  <thead>\n",
       "    <tr style=\"text-align: right;\">\n",
       "      <th></th>\n",
       "      <th>Time</th>\n",
       "      <th>Price_usd</th>\n",
       "      <th>SMA</th>\n",
       "    </tr>\n",
       "  </thead>\n",
       "  <tbody>\n",
       "    <tr>\n",
       "      <th>0</th>\n",
       "      <td>2022-11-24 00:05:09</td>\n",
       "      <td>11517.021657</td>\n",
       "      <td>NaN</td>\n",
       "    </tr>\n",
       "    <tr>\n",
       "      <th>1</th>\n",
       "      <td>2022-11-25 00:05:10</td>\n",
       "      <td>11179.088841</td>\n",
       "      <td>NaN</td>\n",
       "    </tr>\n",
       "    <tr>\n",
       "      <th>2</th>\n",
       "      <td>2022-11-26 00:05:05</td>\n",
       "      <td>11217.841667</td>\n",
       "      <td>NaN</td>\n",
       "    </tr>\n",
       "    <tr>\n",
       "      <th>3</th>\n",
       "      <td>2022-11-27 00:05:02</td>\n",
       "      <td>12051.988169</td>\n",
       "      <td>NaN</td>\n",
       "    </tr>\n",
       "    <tr>\n",
       "      <th>4</th>\n",
       "      <td>2022-11-28 00:05:03</td>\n",
       "      <td>12522.868492</td>\n",
       "      <td>11697.761765</td>\n",
       "    </tr>\n",
       "    <tr>\n",
       "      <th>...</th>\n",
       "      <td>...</td>\n",
       "      <td>...</td>\n",
       "      <td>...</td>\n",
       "    </tr>\n",
       "    <tr>\n",
       "      <th>360</th>\n",
       "      <td>2023-11-19 00:05:52</td>\n",
       "      <td>11338.806945</td>\n",
       "      <td>11735.342993</td>\n",
       "    </tr>\n",
       "    <tr>\n",
       "      <th>361</th>\n",
       "      <td>2023-11-20 00:05:14</td>\n",
       "      <td>11631.327683</td>\n",
       "      <td>11705.276396</td>\n",
       "    </tr>\n",
       "    <tr>\n",
       "      <th>362</th>\n",
       "      <td>2023-11-21 00:05:48</td>\n",
       "      <td>11469.485746</td>\n",
       "      <td>11506.803498</td>\n",
       "    </tr>\n",
       "    <tr>\n",
       "      <th>363</th>\n",
       "      <td>2023-11-22 00:05:38</td>\n",
       "      <td>10558.001312</td>\n",
       "      <td>11290.665978</td>\n",
       "    </tr>\n",
       "    <tr>\n",
       "      <th>364</th>\n",
       "      <td>2023-11-23 00:05:28</td>\n",
       "      <td>11305.000669</td>\n",
       "      <td>11260.524471</td>\n",
       "    </tr>\n",
       "  </tbody>\n",
       "</table>\n",
       "<p>365 rows × 3 columns</p>\n",
       "</div>"
      ],
      "text/plain": [
       "                   Time     Price_usd           SMA\n",
       "0   2022-11-24 00:05:09  11517.021657           NaN\n",
       "1   2022-11-25 00:05:10  11179.088841           NaN\n",
       "2   2022-11-26 00:05:05  11217.841667           NaN\n",
       "3   2022-11-27 00:05:02  12051.988169           NaN\n",
       "4   2022-11-28 00:05:03  12522.868492  11697.761765\n",
       "..                  ...           ...           ...\n",
       "360 2023-11-19 00:05:52  11338.806945  11735.342993\n",
       "361 2023-11-20 00:05:14  11631.327683  11705.276396\n",
       "362 2023-11-21 00:05:48  11469.485746  11506.803498\n",
       "363 2023-11-22 00:05:38  10558.001312  11290.665978\n",
       "364 2023-11-23 00:05:28  11305.000669  11260.524471\n",
       "\n",
       "[365 rows x 3 columns]"
      ]
     },
     "execution_count": 115,
     "metadata": {},
     "output_type": "execute_result"
    }
   ],
   "source": [
    "df_hist"
   ]
  },
  {
   "cell_type": "markdown",
   "id": "1e12470c-9558-4c07-8568-3ae3fd9497f5",
   "metadata": {},
   "source": [
    "## Plot data"
   ]
  },
  {
   "cell_type": "code",
   "execution_count": 44,
   "id": "6917eaea-b42e-4d43-b637-26dd2bd675a0",
   "metadata": {
    "tags": []
   },
   "outputs": [],
   "source": [
    "fig1 = df_hist.plot(title = f\"Historical floor price for {df_nft_markets.id[5]}\",\n",
    "                    template = \"seaborn\",\n",
    "                    labels = dict(index = \"Time\", value = \"Price [USD]\"))"
   ]
  },
  {
   "cell_type": "code",
   "execution_count": 45,
   "id": "150f7819-42b4-4c68-8ea2-dfdb3f264bd0",
   "metadata": {
    "tags": []
   },
   "outputs": [
    {
     "data": {
      "application/vnd.plotly.v1+json": {
       "config": {
        "plotlyServerURL": "https://plot.ly"
       },
       "data": [
        {
         "hovertemplate": "variable=Price_usd<br>Time=%{x}<br>Price [USD]=%{y}<extra></extra>",
         "legendgroup": "Price_usd",
         "line": {
          "color": "rgb(76,114,176)",
          "dash": "solid"
         },
         "marker": {
          "symbol": "circle"
         },
         "mode": "lines",
         "name": "Price_usd",
         "orientation": "v",
         "showlegend": true,
         "type": "scatter",
         "x": [
          "2022-11-19T00:05:07",
          "2022-11-20T00:05:05",
          "2022-11-21T00:05:03",
          "2022-11-22T00:05:03",
          "2022-11-23T00:05:01",
          "2022-11-24T00:05:03",
          "2022-11-25T00:05:05",
          "2022-11-26T00:05:01",
          "2022-11-27T00:05:01",
          "2022-11-28T00:05:04",
          "2022-11-29T00:05:04",
          "2022-11-30T00:05:06",
          "2022-12-01T00:05:07",
          "2022-12-02T00:05:08",
          "2022-12-03T00:05:05",
          "2022-12-04T00:05:00",
          "2022-12-05T00:05:06",
          "2022-12-06T00:05:02",
          "2022-12-07T00:05:03",
          "2022-12-08T00:05:01",
          "2022-12-09T00:05:05",
          "2022-12-10T00:05:08",
          "2022-12-11T00:05:05",
          "2022-12-12T00:05:06",
          "2022-12-13T00:05:05",
          "2022-12-14T00:05:12",
          "2022-12-15T00:05:09",
          "2022-12-16T00:05:16",
          "2022-12-17T00:05:01",
          "2022-12-18T00:05:02",
          "2022-12-19T00:05:01",
          "2022-12-20T00:05:04",
          "2022-12-21T00:05:05",
          "2022-12-22T00:05:04",
          "2022-12-23T00:05:06",
          "2022-12-24T00:05:00",
          "2022-12-25T00:05:07",
          "2022-12-26T00:05:03",
          "2022-12-27T00:05:03",
          "2022-12-28T00:05:07",
          "2022-12-29T00:05:06",
          "2022-12-30T00:05:02",
          "2022-12-31T00:05:06",
          "2023-01-01T00:05:06",
          "2023-01-02T00:05:06",
          "2023-01-03T00:05:04",
          "2023-01-04T00:05:06",
          "2023-01-05T00:05:07",
          "2023-01-06T00:05:07",
          "2023-01-07T00:05:07",
          "2023-01-08T00:05:07",
          "2023-01-09T00:05:08",
          "2023-01-10T00:05:07",
          "2023-01-11T00:05:08",
          "2023-01-12T00:05:07",
          "2023-01-13T00:05:06",
          "2023-01-14T00:05:07",
          "2023-01-15T00:05:06",
          "2023-01-16T00:05:09",
          "2023-01-17T00:05:07",
          "2023-01-18T00:05:07",
          "2023-01-19T00:05:05",
          "2023-01-20T00:05:05",
          "2023-01-21T00:05:08",
          "2023-01-22T00:05:07",
          "2023-01-23T00:05:05",
          "2023-01-24T00:05:08",
          "2023-01-25T00:05:08",
          "2023-01-26T00:05:05",
          "2023-01-27T00:05:04",
          "2023-01-28T00:05:10",
          "2023-01-29T00:05:09",
          "2023-01-30T00:05:10",
          "2023-01-31T00:05:13",
          "2023-02-01T00:05:08",
          "2023-02-02T00:05:06",
          "2023-02-03T00:05:08",
          "2023-02-04T00:05:09",
          "2023-02-05T00:05:09",
          "2023-02-06T00:05:09",
          "2023-02-07T00:05:13",
          "2023-02-08T00:05:13",
          "2023-02-09T00:05:04",
          "2023-02-10T00:05:04",
          "2023-02-11T00:05:06",
          "2023-02-12T00:05:07",
          "2023-02-13T00:05:06",
          "2023-02-14T00:05:05",
          "2023-02-15T00:05:07",
          "2023-02-16T00:05:09",
          "2023-02-17T00:05:02",
          "2023-02-18T00:05:07",
          "2023-02-19T00:05:04",
          "2023-02-20T00:05:06",
          "2023-02-21T00:05:02",
          "2023-02-22T00:05:01",
          "2023-02-23T00:05:05",
          "2023-02-24T00:05:07",
          "2023-02-25T00:05:08",
          "2023-02-26T00:05:13",
          "2023-02-27T00:05:12",
          "2023-02-28T00:05:09",
          "2023-03-01T00:05:13",
          "2023-03-02T00:05:00",
          "2023-03-03T00:05:10",
          "2023-03-04T00:05:10",
          "2023-03-05T00:05:09",
          "2023-03-06T00:05:06",
          "2023-03-07T00:05:12",
          "2023-03-08T00:05:12",
          "2023-03-09T00:05:05",
          "2023-03-10T00:05:12",
          "2023-03-11T00:05:12",
          "2023-03-12T00:05:14",
          "2023-03-13T00:05:12",
          "2023-03-14T00:05:11",
          "2023-03-15T00:05:23",
          "2023-03-16T00:05:23",
          "2023-03-17T00:05:20",
          "2023-03-18T00:05:19",
          "2023-03-19T00:05:21",
          "2023-03-20T00:05:20",
          "2023-03-21T00:05:21",
          "2023-03-22T00:05:25",
          "2023-03-23T00:05:27",
          "2023-03-24T00:05:23",
          "2023-03-25T00:05:22",
          "2023-03-26T00:05:14",
          "2023-03-27T00:05:13",
          "2023-03-28T00:05:13",
          "2023-03-29T00:05:18",
          "2023-03-30T00:05:12",
          "2023-03-31T00:05:07",
          "2023-04-01T00:05:02",
          "2023-04-02T00:05:14",
          "2023-04-03T00:05:11",
          "2023-04-04T00:05:12",
          "2023-04-05T00:05:03",
          "2023-04-06T00:05:05",
          "2023-04-07T00:05:11",
          "2023-04-08T00:05:09",
          "2023-04-09T00:05:01",
          "2023-04-10T00:05:08",
          "2023-04-11T00:05:12",
          "2023-04-12T00:05:03",
          "2023-04-13T00:05:10",
          "2023-04-14T00:05:16",
          "2023-04-15T00:05:15",
          "2023-04-16T00:05:00",
          "2023-04-17T00:05:02",
          "2023-04-18T00:05:11",
          "2023-04-19T00:05:00",
          "2023-04-20T00:05:16",
          "2023-04-21T00:05:01",
          "2023-04-22T00:05:09",
          "2023-04-23T00:05:22",
          "2023-04-24T00:05:21",
          "2023-04-25T00:05:21",
          "2023-04-26T00:05:04",
          "2023-04-27T00:05:19",
          "2023-04-28T00:05:26",
          "2023-04-29T00:05:06",
          "2023-04-30T00:05:11",
          "2023-05-01T00:05:09",
          "2023-05-02T00:05:19",
          "2023-05-03T00:05:17",
          "2023-05-04T00:05:18",
          "2023-05-05T00:05:14",
          "2023-05-06T00:05:01",
          "2023-05-07T00:05:08",
          "2023-05-08T00:05:04",
          "2023-05-09T00:05:14",
          "2023-05-10T00:05:01",
          "2023-05-11T00:05:11",
          "2023-05-12T00:05:01",
          "2023-05-13T00:05:07",
          "2023-05-14T00:05:30",
          "2023-05-15T00:05:35",
          "2023-05-16T00:05:38",
          "2023-05-17T00:05:40",
          "2023-05-18T00:05:41",
          "2023-05-19T00:05:12",
          "2023-05-20T00:05:35",
          "2023-05-21T00:05:07",
          "2023-05-22T00:05:26",
          "2023-05-23T00:05:40",
          "2023-05-24T00:05:41",
          "2023-05-25T00:05:43",
          "2023-05-26T00:05:40",
          "2023-05-27T00:05:42",
          "2023-05-28T00:05:38",
          "2023-05-29T00:05:11",
          "2023-05-30T00:05:38",
          "2023-05-31T00:05:37",
          "2023-06-01T00:05:29",
          "2023-06-02T00:05:38",
          "2023-06-03T00:05:47",
          "2023-06-04T00:05:40",
          "2023-06-05T00:05:41",
          "2023-06-06T00:05:41",
          "2023-06-07T00:05:18",
          "2023-06-08T00:05:37",
          "2023-06-09T00:05:40",
          "2023-06-10T00:05:32",
          "2023-06-11T00:05:43",
          "2023-06-12T00:05:23",
          "2023-06-13T00:05:20",
          "2023-06-14T00:05:32",
          "2023-06-15T00:05:16",
          "2023-06-16T00:05:26",
          "2023-06-17T00:05:07",
          "2023-06-18T00:05:34",
          "2023-06-19T00:05:32",
          "2023-06-20T00:05:45",
          "2023-06-21T00:05:45",
          "2023-06-22T00:05:31",
          "2023-06-23T00:05:41",
          "2023-06-24T00:05:30",
          "2023-06-25T00:05:26",
          "2023-06-26T00:05:37",
          "2023-06-27T00:05:26",
          "2023-06-28T00:05:38",
          "2023-06-29T00:05:40",
          "2023-06-30T00:05:13",
          "2023-07-01T00:05:44",
          "2023-07-02T00:05:40",
          "2023-07-03T00:05:39",
          "2023-07-04T00:05:37",
          "2023-07-05T00:05:44",
          "2023-07-06T00:05:43",
          "2023-07-07T00:05:39",
          "2023-07-08T00:05:38",
          "2023-07-09T00:05:28",
          "2023-07-10T00:05:19",
          "2023-07-11T00:05:33",
          "2023-07-12T00:05:35",
          "2023-07-13T00:05:23",
          "2023-07-14T00:05:36",
          "2023-07-15T00:05:51",
          "2023-07-16T00:05:47",
          "2023-07-17T00:05:49",
          "2023-07-18T00:05:44",
          "2023-07-19T00:05:44",
          "2023-07-20T00:05:13",
          "2023-07-21T00:05:37",
          "2023-07-22T00:05:34",
          "2023-07-23T00:05:45",
          "2023-07-24T00:05:20",
          "2023-07-25T00:05:37",
          "2023-07-26T00:05:21",
          "2023-07-27T00:05:42",
          "2023-07-28T00:05:44",
          "2023-07-29T00:05:34",
          "2023-07-30T00:05:18",
          "2023-07-31T00:05:17",
          "2023-08-01T00:05:09",
          "2023-08-02T00:05:01",
          "2023-08-03T00:05:28",
          "2023-08-04T00:05:18",
          "2023-08-05T00:05:25",
          "2023-08-06T00:05:35",
          "2023-08-07T00:05:36",
          "2023-08-08T00:05:26",
          "2023-08-09T00:05:36",
          "2023-08-10T00:05:32",
          "2023-08-11T00:05:15",
          "2023-08-12T00:05:35",
          "2023-08-13T00:05:28",
          "2023-08-14T00:05:07",
          "2023-08-15T00:05:14",
          "2023-08-16T00:05:13",
          "2023-08-17T00:05:17",
          "2023-08-18T00:05:18",
          "2023-08-19T00:05:20",
          "2023-08-20T00:05:08",
          "2023-08-21T00:05:09",
          "2023-08-22T00:05:22",
          "2023-08-23T00:05:18",
          "2023-08-24T00:05:14",
          "2023-08-25T00:05:04",
          "2023-08-26T00:05:32",
          "2023-08-27T00:05:24",
          "2023-08-28T00:05:13",
          "2023-08-29T00:05:16",
          "2023-08-30T00:05:20",
          "2023-08-31T00:05:19",
          "2023-09-01T00:05:14",
          "2023-09-02T00:05:15",
          "2023-09-03T00:05:09",
          "2023-09-04T00:05:00",
          "2023-09-05T00:05:07",
          "2023-09-06T00:05:24",
          "2023-09-07T00:05:19",
          "2023-09-08T00:05:07",
          "2023-09-09T00:05:20",
          "2023-09-10T00:05:31",
          "2023-09-11T00:05:06",
          "2023-09-12T00:05:23",
          "2023-09-13T00:05:09",
          "2023-09-14T00:05:34",
          "2023-09-15T00:05:12",
          "2023-09-16T00:05:28",
          "2023-09-17T00:05:18",
          "2023-09-18T00:05:34",
          "2023-09-19T00:05:33",
          "2023-09-20T00:05:31",
          "2023-09-21T00:05:03",
          "2023-09-22T00:05:05",
          "2023-09-23T00:05:19",
          "2023-09-24T00:05:05",
          "2023-09-25T00:05:07",
          "2023-09-26T00:05:07",
          "2023-09-27T00:05:42",
          "2023-09-28T00:05:30",
          "2023-09-29T00:05:38",
          "2023-09-30T00:05:36",
          "2023-10-01T00:05:25",
          "2023-10-02T00:05:28",
          "2023-10-03T00:05:39",
          "2023-10-04T00:05:20",
          "2023-10-05T00:05:21",
          "2023-10-06T00:05:26",
          "2023-10-07T00:05:00",
          "2023-10-08T00:05:00",
          "2023-10-09T00:05:05",
          "2023-10-10T00:05:23",
          "2023-10-11T00:05:41",
          "2023-10-12T00:05:34",
          "2023-10-13T00:05:42",
          "2023-10-14T00:05:41",
          "2023-10-15T00:05:39",
          "2023-10-16T00:05:50",
          "2023-10-17T00:05:48",
          "2023-10-18T00:05:09",
          "2023-10-19T00:05:03",
          "2023-10-20T00:05:12",
          "2023-10-21T00:05:03",
          "2023-10-22T00:05:22",
          "2023-10-23T00:05:37",
          "2023-10-24T00:05:18",
          "2023-10-25T00:05:17",
          "2023-10-26T00:05:28",
          "2023-10-27T00:05:12",
          "2023-10-28T00:05:12",
          "2023-10-29T00:05:03",
          "2023-10-30T00:05:21",
          "2023-10-31T00:05:13",
          "2023-11-01T00:05:45",
          "2023-11-02T00:05:32",
          "2023-11-03T00:05:38",
          "2023-11-04T00:05:34",
          "2023-11-05T00:05:06",
          "2023-11-06T00:05:14",
          "2023-11-07T00:05:32",
          "2023-11-08T00:05:02",
          "2023-11-09T00:05:49",
          "2023-11-10T00:05:34",
          "2023-11-11T00:05:24",
          "2023-11-12T00:05:43",
          "2023-11-13T00:05:25",
          "2023-11-14T00:05:43",
          "2023-11-15T00:05:30",
          "2023-11-16T00:05:14",
          "2023-11-17T00:05:46",
          "2023-11-18T00:05:48"
         ],
         "xaxis": "x",
         "y": [
          33960.4369870213,
          37305.69722956575,
          35022.93191971804,
          31149.05710444501,
          34873.22260511438,
          33276.35640901961,
          36860.46860668199,
          33640.45469514366,
          33853.515612119234,
          33572.033069313744,
          35121.22225503522,
          38951.48704470272,
          41626.72586925552,
          46047.23072395121,
          46797.797762395814,
          44761.38293209212,
          46115.574753202956,
          45359.14429581037,
          45767.81317445798,
          48089.371521208755,
          50018.405681759854,
          49256.28628676582,
          48289.25559852882,
          47880.99430050503,
          48490.11983793858,
          50207.99340076269,
          49760.028318569784,
          56775.1566381057,
          52360.134079399315,
          43875.86887268331,
          43704.67960508526,
          41749.98727523609,
          43498.50827784478,
          43367.95668491899,
          39723.615310454144,
          45171.16075097475,
          42751.40832303187,
          42676.117589658315,
          42910.93932849122,
          44039.609506988214,
          43257.27851346442,
          40300.36694878886,
          40227.05439399269,
          40126.80502787808,
          40277.370010862265,
          40729.66580906471,
          40743.05354914208,
          42159.913988304084,
          40794.370527962805,
          41378.26015156488,
          41239.29105854932,
          42065.14324215471,
          43074.70311332772,
          52125.395474356585,
          53375.47018001398,
          55257.31503356185,
          56563.82785989203,
          61243.70996221742,
          61037.343767292536,
          55085.79613946951,
          54669.15323805828,
          53203.2007358687,
          54109.79825315202,
          57674.742058736716,
          56830.57818202572,
          54995.99736875809,
          56815.84755252397,
          54379.48905797631,
          54586.66861223619,
          54278.32900607102,
          54143.62028886322,
          57956.27158037323,
          55659.93314621586,
          53021.34890044838,
          52001.93193697041,
          50044.26547122999,
          50307.19739412441,
          50729.37035318158,
          58755.72351857852,
          57122.91741718475,
          56442.429304239755,
          58582.44876427839,
          57793.68836981498,
          54135.88952525292,
          53004.19348615206,
          53957.88010886238,
          47798.76153055528,
          42498.922018654055,
          43861.02159146392,
          56922.338931773775,
          53890.60961663373,
          46850.68623846922,
          50753.4448364395,
          54926.75372940091,
          49803.74995728985,
          44965.2909980767,
          57460.213573480934,
          44847.727681672244,
          41587.32260285113,
          55808.556031052474,
          57410.90850240036,
          57160.4345754364,
          56268.51865418924,
          91526.80319225421,
          54412.329853794065,
          51821.94792572282,
          51775.568875803,
          43800.5969041375,
          51705.61649558395,
          51552.269556632426,
          46036.30437159366,
          43149.18160599093,
          42855.3454776492,
          44173.99563204939,
          47770.72509111945,
          46595.89049887356,
          46909.23476154941,
          45732.126160908054,
          47599.04696497327,
          50840.468214211505,
          49782.66075105781,
          50835.49649377542,
          73407.09287909146,
          75981.07297646829,
          48877.76257928606,
          49342.81792442674,
          67794.03677775533,
          58371.6795809158,
          59366.29748372321,
          57276.76838145925,
          59226.1463686506,
          59934.806377311696,
          59272.0770859275,
          60214.12804856008,
          60205.815400198546,
          59295.44622972383,
          56165.058897192604,
          58044.07284285957,
          59192.01863326688,
          58086.05977094525,
          57836.52861287452,
          55551.92093886279,
          55822.99894170534,
          57428.00261527746,
          56784.28315938849,
          57723.09531221595,
          60260.02632332517,
          63111.32567204526,
          62793.25500611148,
          63607.87705770522,
          62360.71713650595,
          63200.73678285225,
          57952.44785235132,
          58269.56248856448,
          55503.57787502655,
          56378.53375344933,
          55935.08065716963,
          55291.66031664096,
          55968.98475761115,
          55895.41394787531,
          57305.21886446181,
          56792.13332422464,
          57197.69497606005,
          56305.297460052,
          54977.73364363113,
          56140.80778351965,
          57090.86600849496,
          56293.72460551188,
          59849.06773223673,
          56982.67596416796,
          55483.687947914805,
          53605.1347552354,
          53576.31331510999,
          53367.03502158419,
          52080.0676913003,
          50628.70279314274,
          50272.31351172134,
          50324.83725112723,
          50776.827941935255,
          51034.19643550656,
          50805.8276422592,
          50277.230365214855,
          61325.239413848554,
          61561.32663715576,
          61077.452574803756,
          56386.29339202917,
          57514.67253049494,
          55789.07072684433,
          55996.190472614704,
          56715.44114089157,
          56732.175914048436,
          59297.64705052488,
          58679.953116495446,
          58900.86037061474,
          58128.33434405146,
          57703.50982137593,
          59072.11396071949,
          58681.49566202474,
          58647.90336775804,
          56224.89186157533,
          58369.945545802395,
          56775.22264013982,
          57263.81784093503,
          56947.36098777279,
          54372.00879708292,
          54330.13843019454,
          52254.062613862996,
          52179.45007949229,
          49465.84637973807,
          49926.433214131546,
          51483.53554354651,
          51868.2420666689,
          51580.1033172224,
          52021.89302043044,
          53605.71203388106,
          56784.94240021893,
          54399.61098244143,
          66230.49604010451,
          65319.16750095058,
          66086.00141923504,
          64710.972247181846,
          65730.58002760894,
          62980.80880541252,
          64488.39018494043,
          67233.4399267942,
          66905.31228708572,
          67365.65023471107,
          66443.86624036993,
          65821.46778341541,
          65051.438666960246,
          63170.3748905487,
          63534.582879339985,
          63401.36526738659,
          63304.71076433443,
          63362.50877275667,
          63254.34407391416,
          63058.59186377913,
          63095.90307199052,
          65115.010841712785,
          65031.80232812223,
          64791.505479679065,
          64414.56155358223,
          63989.98339112808,
          63657.26839719772,
          63713.55840187845,
          63716.70491478027,
          62539.42751923213,
          63643.47765785054,
          62345.83333891863,
          57444.856453994966,
          57859.762212365815,
          57451.26131815516,
          57956.30455826514,
          58136.09686624661,
          57569.017610806055,
          61782.488324578895,
          62479.99014154707,
          60859.37941931709,
          60759.83439698602,
          60495.68350573652,
          60727.948379996116,
          60448.75497068153,
          59390.6113280025,
          64961.328849530015,
          64937.98373269501,
          64784.683385191594,
          64686.82706850399,
          64699.56455716313,
          64376.88627132725,
          59933.80676320495,
          56254.98296881001,
          58660.605348508056,
          56386.9469269436,
          53999.17375514425,
          55905.37595507815,
          56450.236478904204,
          54208.79370295548,
          54738.67405601212,
          55058.46530012366,
          53897.840186971785,
          54222.63619393852,
          55145.95925800644,
          57669.04005935946,
          57845.34760876519,
          60531.41955605546,
          55426.9543037977,
          57409.25962973258,
          56893.930632654534,
          57288.41822375364,
          53162.24876140227,
          52810.02702842324,
          53057.599409209106,
          55334.804203142165,
          58898.38212048429,
          58527.84812258082,
          58808.862676422046,
          58044.75068652588,
          56653.13884167826,
          58184.71540133296,
          58488.31757635134,
          59173.460178271125,
          65360.168582673236,
          65351.65101108122,
          52644.87559743405,
          57301.94512938651,
          57517.62008980288,
          50251.35877099413,
          49089.44025054586,
          49404.944258422416,
          46202.21291506285,
          45766.6003768383,
          46011.684125255866,
          46187.72987662814,
          39939.50820805167,
          41313.9088059177,
          41689.945481980925,
          57149.89776385629,
          51834.942919231165,
          56507.94848002284,
          53832.45450586146,
          54278.01276289673,
          53094.19152258198,
          54142.70073285305,
          61297.17477705926,
          61240.82268175616,
          53683.36522657841,
          53349.955176004136,
          53259.20652443131,
          52291.812627337764,
          52726.345160965066,
          51335.75122268093,
          51385.20443211966,
          40014.8888815662,
          39134.422244242975,
          56297.54819543908,
          39132.34801906683,
          40122.77646808155,
          40733.333181833674,
          41554.5212550265,
          44207.31936832298,
          44650.75495641452,
          33957.30362161036,
          48680.84001074079,
          44504.27205176325,
          44346.8314265246,
          44920.6168121222,
          45185.388242730776,
          45317.11253662118,
          46158.255503371576,
          44988.82020383808,
          44883.6440607194,
          45655.0129967058,
          46434.34923836831,
          45619.93469047359,
          45248.96463040555,
          45438.4333292586,
          50981.74842799994,
          49880.7644671002,
          49006.458018496705,
          49009.269653484145,
          49361.163940564584,
          47485.77840899052,
          49461.21999897141,
          68341.15587631284,
          46179.09626003417
         ],
         "yaxis": "y"
        }
       ],
       "layout": {
        "autosize": true,
        "legend": {
         "title": {
          "text": "variable"
         },
         "tracegroupgap": 0
        },
        "template": {
         "data": {
          "bar": [
           {
            "error_x": {
             "color": "rgb(36,36,36)"
            },
            "error_y": {
             "color": "rgb(36,36,36)"
            },
            "marker": {
             "line": {
              "color": "rgb(234,234,242)",
              "width": 0.5
             },
             "pattern": {
              "fillmode": "overlay",
              "size": 10,
              "solidity": 0.2
             }
            },
            "type": "bar"
           }
          ],
          "barpolar": [
           {
            "marker": {
             "line": {
              "color": "rgb(234,234,242)",
              "width": 0.5
             },
             "pattern": {
              "fillmode": "overlay",
              "size": 10,
              "solidity": 0.2
             }
            },
            "type": "barpolar"
           }
          ],
          "carpet": [
           {
            "aaxis": {
             "endlinecolor": "rgb(36,36,36)",
             "gridcolor": "white",
             "linecolor": "white",
             "minorgridcolor": "white",
             "startlinecolor": "rgb(36,36,36)"
            },
            "baxis": {
             "endlinecolor": "rgb(36,36,36)",
             "gridcolor": "white",
             "linecolor": "white",
             "minorgridcolor": "white",
             "startlinecolor": "rgb(36,36,36)"
            },
            "type": "carpet"
           }
          ],
          "choropleth": [
           {
            "colorbar": {
             "outlinewidth": 0,
             "tickcolor": "rgb(36,36,36)",
             "ticklen": 8,
             "ticks": "outside",
             "tickwidth": 2
            },
            "type": "choropleth"
           }
          ],
          "contour": [
           {
            "colorbar": {
             "outlinewidth": 0,
             "tickcolor": "rgb(36,36,36)",
             "ticklen": 8,
             "ticks": "outside",
             "tickwidth": 2
            },
            "colorscale": [
             [
              0,
              "rgb(2,4,25)"
             ],
             [
              0.06274509803921569,
              "rgb(24,15,41)"
             ],
             [
              0.12549019607843137,
              "rgb(47,23,57)"
             ],
             [
              0.18823529411764706,
              "rgb(71,28,72)"
             ],
             [
              0.25098039215686274,
              "rgb(97,30,82)"
             ],
             [
              0.3137254901960784,
              "rgb(123,30,89)"
             ],
             [
              0.3764705882352941,
              "rgb(150,27,91)"
             ],
             [
              0.4392156862745098,
              "rgb(177,22,88)"
             ],
             [
              0.5019607843137255,
              "rgb(203,26,79)"
             ],
             [
              0.5647058823529412,
              "rgb(223,47,67)"
             ],
             [
              0.6274509803921569,
              "rgb(236,76,61)"
             ],
             [
              0.6901960784313725,
              "rgb(242,107,73)"
             ],
             [
              0.7529411764705882,
              "rgb(244,135,95)"
             ],
             [
              0.8156862745098039,
              "rgb(245,162,122)"
             ],
             [
              0.8784313725490196,
              "rgb(246,188,153)"
             ],
             [
              0.9411764705882353,
              "rgb(247,212,187)"
             ],
             [
              1,
              "rgb(250,234,220)"
             ]
            ],
            "type": "contour"
           }
          ],
          "contourcarpet": [
           {
            "colorbar": {
             "outlinewidth": 0,
             "tickcolor": "rgb(36,36,36)",
             "ticklen": 8,
             "ticks": "outside",
             "tickwidth": 2
            },
            "type": "contourcarpet"
           }
          ],
          "heatmap": [
           {
            "colorbar": {
             "outlinewidth": 0,
             "tickcolor": "rgb(36,36,36)",
             "ticklen": 8,
             "ticks": "outside",
             "tickwidth": 2
            },
            "colorscale": [
             [
              0,
              "rgb(2,4,25)"
             ],
             [
              0.06274509803921569,
              "rgb(24,15,41)"
             ],
             [
              0.12549019607843137,
              "rgb(47,23,57)"
             ],
             [
              0.18823529411764706,
              "rgb(71,28,72)"
             ],
             [
              0.25098039215686274,
              "rgb(97,30,82)"
             ],
             [
              0.3137254901960784,
              "rgb(123,30,89)"
             ],
             [
              0.3764705882352941,
              "rgb(150,27,91)"
             ],
             [
              0.4392156862745098,
              "rgb(177,22,88)"
             ],
             [
              0.5019607843137255,
              "rgb(203,26,79)"
             ],
             [
              0.5647058823529412,
              "rgb(223,47,67)"
             ],
             [
              0.6274509803921569,
              "rgb(236,76,61)"
             ],
             [
              0.6901960784313725,
              "rgb(242,107,73)"
             ],
             [
              0.7529411764705882,
              "rgb(244,135,95)"
             ],
             [
              0.8156862745098039,
              "rgb(245,162,122)"
             ],
             [
              0.8784313725490196,
              "rgb(246,188,153)"
             ],
             [
              0.9411764705882353,
              "rgb(247,212,187)"
             ],
             [
              1,
              "rgb(250,234,220)"
             ]
            ],
            "type": "heatmap"
           }
          ],
          "heatmapgl": [
           {
            "colorbar": {
             "outlinewidth": 0,
             "tickcolor": "rgb(36,36,36)",
             "ticklen": 8,
             "ticks": "outside",
             "tickwidth": 2
            },
            "colorscale": [
             [
              0,
              "rgb(2,4,25)"
             ],
             [
              0.06274509803921569,
              "rgb(24,15,41)"
             ],
             [
              0.12549019607843137,
              "rgb(47,23,57)"
             ],
             [
              0.18823529411764706,
              "rgb(71,28,72)"
             ],
             [
              0.25098039215686274,
              "rgb(97,30,82)"
             ],
             [
              0.3137254901960784,
              "rgb(123,30,89)"
             ],
             [
              0.3764705882352941,
              "rgb(150,27,91)"
             ],
             [
              0.4392156862745098,
              "rgb(177,22,88)"
             ],
             [
              0.5019607843137255,
              "rgb(203,26,79)"
             ],
             [
              0.5647058823529412,
              "rgb(223,47,67)"
             ],
             [
              0.6274509803921569,
              "rgb(236,76,61)"
             ],
             [
              0.6901960784313725,
              "rgb(242,107,73)"
             ],
             [
              0.7529411764705882,
              "rgb(244,135,95)"
             ],
             [
              0.8156862745098039,
              "rgb(245,162,122)"
             ],
             [
              0.8784313725490196,
              "rgb(246,188,153)"
             ],
             [
              0.9411764705882353,
              "rgb(247,212,187)"
             ],
             [
              1,
              "rgb(250,234,220)"
             ]
            ],
            "type": "heatmapgl"
           }
          ],
          "histogram": [
           {
            "marker": {
             "pattern": {
              "fillmode": "overlay",
              "size": 10,
              "solidity": 0.2
             }
            },
            "type": "histogram"
           }
          ],
          "histogram2d": [
           {
            "colorbar": {
             "outlinewidth": 0,
             "tickcolor": "rgb(36,36,36)",
             "ticklen": 8,
             "ticks": "outside",
             "tickwidth": 2
            },
            "colorscale": [
             [
              0,
              "rgb(2,4,25)"
             ],
             [
              0.06274509803921569,
              "rgb(24,15,41)"
             ],
             [
              0.12549019607843137,
              "rgb(47,23,57)"
             ],
             [
              0.18823529411764706,
              "rgb(71,28,72)"
             ],
             [
              0.25098039215686274,
              "rgb(97,30,82)"
             ],
             [
              0.3137254901960784,
              "rgb(123,30,89)"
             ],
             [
              0.3764705882352941,
              "rgb(150,27,91)"
             ],
             [
              0.4392156862745098,
              "rgb(177,22,88)"
             ],
             [
              0.5019607843137255,
              "rgb(203,26,79)"
             ],
             [
              0.5647058823529412,
              "rgb(223,47,67)"
             ],
             [
              0.6274509803921569,
              "rgb(236,76,61)"
             ],
             [
              0.6901960784313725,
              "rgb(242,107,73)"
             ],
             [
              0.7529411764705882,
              "rgb(244,135,95)"
             ],
             [
              0.8156862745098039,
              "rgb(245,162,122)"
             ],
             [
              0.8784313725490196,
              "rgb(246,188,153)"
             ],
             [
              0.9411764705882353,
              "rgb(247,212,187)"
             ],
             [
              1,
              "rgb(250,234,220)"
             ]
            ],
            "type": "histogram2d"
           }
          ],
          "histogram2dcontour": [
           {
            "colorbar": {
             "outlinewidth": 0,
             "tickcolor": "rgb(36,36,36)",
             "ticklen": 8,
             "ticks": "outside",
             "tickwidth": 2
            },
            "colorscale": [
             [
              0,
              "rgb(2,4,25)"
             ],
             [
              0.06274509803921569,
              "rgb(24,15,41)"
             ],
             [
              0.12549019607843137,
              "rgb(47,23,57)"
             ],
             [
              0.18823529411764706,
              "rgb(71,28,72)"
             ],
             [
              0.25098039215686274,
              "rgb(97,30,82)"
             ],
             [
              0.3137254901960784,
              "rgb(123,30,89)"
             ],
             [
              0.3764705882352941,
              "rgb(150,27,91)"
             ],
             [
              0.4392156862745098,
              "rgb(177,22,88)"
             ],
             [
              0.5019607843137255,
              "rgb(203,26,79)"
             ],
             [
              0.5647058823529412,
              "rgb(223,47,67)"
             ],
             [
              0.6274509803921569,
              "rgb(236,76,61)"
             ],
             [
              0.6901960784313725,
              "rgb(242,107,73)"
             ],
             [
              0.7529411764705882,
              "rgb(244,135,95)"
             ],
             [
              0.8156862745098039,
              "rgb(245,162,122)"
             ],
             [
              0.8784313725490196,
              "rgb(246,188,153)"
             ],
             [
              0.9411764705882353,
              "rgb(247,212,187)"
             ],
             [
              1,
              "rgb(250,234,220)"
             ]
            ],
            "type": "histogram2dcontour"
           }
          ],
          "mesh3d": [
           {
            "colorbar": {
             "outlinewidth": 0,
             "tickcolor": "rgb(36,36,36)",
             "ticklen": 8,
             "ticks": "outside",
             "tickwidth": 2
            },
            "type": "mesh3d"
           }
          ],
          "parcoords": [
           {
            "line": {
             "colorbar": {
              "outlinewidth": 0,
              "tickcolor": "rgb(36,36,36)",
              "ticklen": 8,
              "ticks": "outside",
              "tickwidth": 2
             }
            },
            "type": "parcoords"
           }
          ],
          "pie": [
           {
            "automargin": true,
            "type": "pie"
           }
          ],
          "scatter": [
           {
            "fillpattern": {
             "fillmode": "overlay",
             "size": 10,
             "solidity": 0.2
            },
            "type": "scatter"
           }
          ],
          "scatter3d": [
           {
            "line": {
             "colorbar": {
              "outlinewidth": 0,
              "tickcolor": "rgb(36,36,36)",
              "ticklen": 8,
              "ticks": "outside",
              "tickwidth": 2
             }
            },
            "marker": {
             "colorbar": {
              "outlinewidth": 0,
              "tickcolor": "rgb(36,36,36)",
              "ticklen": 8,
              "ticks": "outside",
              "tickwidth": 2
             }
            },
            "type": "scatter3d"
           }
          ],
          "scattercarpet": [
           {
            "marker": {
             "colorbar": {
              "outlinewidth": 0,
              "tickcolor": "rgb(36,36,36)",
              "ticklen": 8,
              "ticks": "outside",
              "tickwidth": 2
             }
            },
            "type": "scattercarpet"
           }
          ],
          "scattergeo": [
           {
            "marker": {
             "colorbar": {
              "outlinewidth": 0,
              "tickcolor": "rgb(36,36,36)",
              "ticklen": 8,
              "ticks": "outside",
              "tickwidth": 2
             }
            },
            "type": "scattergeo"
           }
          ],
          "scattergl": [
           {
            "marker": {
             "colorbar": {
              "outlinewidth": 0,
              "tickcolor": "rgb(36,36,36)",
              "ticklen": 8,
              "ticks": "outside",
              "tickwidth": 2
             }
            },
            "type": "scattergl"
           }
          ],
          "scattermapbox": [
           {
            "marker": {
             "colorbar": {
              "outlinewidth": 0,
              "tickcolor": "rgb(36,36,36)",
              "ticklen": 8,
              "ticks": "outside",
              "tickwidth": 2
             }
            },
            "type": "scattermapbox"
           }
          ],
          "scatterpolar": [
           {
            "marker": {
             "colorbar": {
              "outlinewidth": 0,
              "tickcolor": "rgb(36,36,36)",
              "ticklen": 8,
              "ticks": "outside",
              "tickwidth": 2
             }
            },
            "type": "scatterpolar"
           }
          ],
          "scatterpolargl": [
           {
            "marker": {
             "colorbar": {
              "outlinewidth": 0,
              "tickcolor": "rgb(36,36,36)",
              "ticklen": 8,
              "ticks": "outside",
              "tickwidth": 2
             }
            },
            "type": "scatterpolargl"
           }
          ],
          "scatterternary": [
           {
            "marker": {
             "colorbar": {
              "outlinewidth": 0,
              "tickcolor": "rgb(36,36,36)",
              "ticklen": 8,
              "ticks": "outside",
              "tickwidth": 2
             }
            },
            "type": "scatterternary"
           }
          ],
          "surface": [
           {
            "colorbar": {
             "outlinewidth": 0,
             "tickcolor": "rgb(36,36,36)",
             "ticklen": 8,
             "ticks": "outside",
             "tickwidth": 2
            },
            "colorscale": [
             [
              0,
              "rgb(2,4,25)"
             ],
             [
              0.06274509803921569,
              "rgb(24,15,41)"
             ],
             [
              0.12549019607843137,
              "rgb(47,23,57)"
             ],
             [
              0.18823529411764706,
              "rgb(71,28,72)"
             ],
             [
              0.25098039215686274,
              "rgb(97,30,82)"
             ],
             [
              0.3137254901960784,
              "rgb(123,30,89)"
             ],
             [
              0.3764705882352941,
              "rgb(150,27,91)"
             ],
             [
              0.4392156862745098,
              "rgb(177,22,88)"
             ],
             [
              0.5019607843137255,
              "rgb(203,26,79)"
             ],
             [
              0.5647058823529412,
              "rgb(223,47,67)"
             ],
             [
              0.6274509803921569,
              "rgb(236,76,61)"
             ],
             [
              0.6901960784313725,
              "rgb(242,107,73)"
             ],
             [
              0.7529411764705882,
              "rgb(244,135,95)"
             ],
             [
              0.8156862745098039,
              "rgb(245,162,122)"
             ],
             [
              0.8784313725490196,
              "rgb(246,188,153)"
             ],
             [
              0.9411764705882353,
              "rgb(247,212,187)"
             ],
             [
              1,
              "rgb(250,234,220)"
             ]
            ],
            "type": "surface"
           }
          ],
          "table": [
           {
            "cells": {
             "fill": {
              "color": "rgb(231,231,240)"
             },
             "line": {
              "color": "white"
             }
            },
            "header": {
             "fill": {
              "color": "rgb(183,183,191)"
             },
             "line": {
              "color": "white"
             }
            },
            "type": "table"
           }
          ]
         },
         "layout": {
          "annotationdefaults": {
           "arrowcolor": "rgb(67,103,167)"
          },
          "autotypenumbers": "strict",
          "coloraxis": {
           "colorbar": {
            "outlinewidth": 0,
            "tickcolor": "rgb(36,36,36)",
            "ticklen": 8,
            "ticks": "outside",
            "tickwidth": 2
           }
          },
          "colorscale": {
           "sequential": [
            [
             0,
             "rgb(2,4,25)"
            ],
            [
             0.06274509803921569,
             "rgb(24,15,41)"
            ],
            [
             0.12549019607843137,
             "rgb(47,23,57)"
            ],
            [
             0.18823529411764706,
             "rgb(71,28,72)"
            ],
            [
             0.25098039215686274,
             "rgb(97,30,82)"
            ],
            [
             0.3137254901960784,
             "rgb(123,30,89)"
            ],
            [
             0.3764705882352941,
             "rgb(150,27,91)"
            ],
            [
             0.4392156862745098,
             "rgb(177,22,88)"
            ],
            [
             0.5019607843137255,
             "rgb(203,26,79)"
            ],
            [
             0.5647058823529412,
             "rgb(223,47,67)"
            ],
            [
             0.6274509803921569,
             "rgb(236,76,61)"
            ],
            [
             0.6901960784313725,
             "rgb(242,107,73)"
            ],
            [
             0.7529411764705882,
             "rgb(244,135,95)"
            ],
            [
             0.8156862745098039,
             "rgb(245,162,122)"
            ],
            [
             0.8784313725490196,
             "rgb(246,188,153)"
            ],
            [
             0.9411764705882353,
             "rgb(247,212,187)"
            ],
            [
             1,
             "rgb(250,234,220)"
            ]
           ],
           "sequentialminus": [
            [
             0,
             "rgb(2,4,25)"
            ],
            [
             0.06274509803921569,
             "rgb(24,15,41)"
            ],
            [
             0.12549019607843137,
             "rgb(47,23,57)"
            ],
            [
             0.18823529411764706,
             "rgb(71,28,72)"
            ],
            [
             0.25098039215686274,
             "rgb(97,30,82)"
            ],
            [
             0.3137254901960784,
             "rgb(123,30,89)"
            ],
            [
             0.3764705882352941,
             "rgb(150,27,91)"
            ],
            [
             0.4392156862745098,
             "rgb(177,22,88)"
            ],
            [
             0.5019607843137255,
             "rgb(203,26,79)"
            ],
            [
             0.5647058823529412,
             "rgb(223,47,67)"
            ],
            [
             0.6274509803921569,
             "rgb(236,76,61)"
            ],
            [
             0.6901960784313725,
             "rgb(242,107,73)"
            ],
            [
             0.7529411764705882,
             "rgb(244,135,95)"
            ],
            [
             0.8156862745098039,
             "rgb(245,162,122)"
            ],
            [
             0.8784313725490196,
             "rgb(246,188,153)"
            ],
            [
             0.9411764705882353,
             "rgb(247,212,187)"
            ],
            [
             1,
             "rgb(250,234,220)"
            ]
           ]
          },
          "colorway": [
           "rgb(76,114,176)",
           "rgb(221,132,82)",
           "rgb(85,168,104)",
           "rgb(196,78,82)",
           "rgb(129,114,179)",
           "rgb(147,120,96)",
           "rgb(218,139,195)",
           "rgb(140,140,140)",
           "rgb(204,185,116)",
           "rgb(100,181,205)"
          ],
          "font": {
           "color": "rgb(36,36,36)"
          },
          "geo": {
           "bgcolor": "white",
           "lakecolor": "white",
           "landcolor": "rgb(234,234,242)",
           "showlakes": true,
           "showland": true,
           "subunitcolor": "white"
          },
          "hoverlabel": {
           "align": "left"
          },
          "hovermode": "closest",
          "paper_bgcolor": "white",
          "plot_bgcolor": "rgb(234,234,242)",
          "polar": {
           "angularaxis": {
            "gridcolor": "white",
            "linecolor": "white",
            "showgrid": true,
            "ticks": ""
           },
           "bgcolor": "rgb(234,234,242)",
           "radialaxis": {
            "gridcolor": "white",
            "linecolor": "white",
            "showgrid": true,
            "ticks": ""
           }
          },
          "scene": {
           "xaxis": {
            "backgroundcolor": "rgb(234,234,242)",
            "gridcolor": "white",
            "gridwidth": 2,
            "linecolor": "white",
            "showbackground": true,
            "showgrid": true,
            "ticks": "",
            "zerolinecolor": "white"
           },
           "yaxis": {
            "backgroundcolor": "rgb(234,234,242)",
            "gridcolor": "white",
            "gridwidth": 2,
            "linecolor": "white",
            "showbackground": true,
            "showgrid": true,
            "ticks": "",
            "zerolinecolor": "white"
           },
           "zaxis": {
            "backgroundcolor": "rgb(234,234,242)",
            "gridcolor": "white",
            "gridwidth": 2,
            "linecolor": "white",
            "showbackground": true,
            "showgrid": true,
            "ticks": "",
            "zerolinecolor": "white"
           }
          },
          "shapedefaults": {
           "fillcolor": "rgb(67,103,167)",
           "line": {
            "width": 0
           },
           "opacity": 0.5
          },
          "ternary": {
           "aaxis": {
            "gridcolor": "white",
            "linecolor": "white",
            "showgrid": true,
            "ticks": ""
           },
           "baxis": {
            "gridcolor": "white",
            "linecolor": "white",
            "showgrid": true,
            "ticks": ""
           },
           "bgcolor": "rgb(234,234,242)",
           "caxis": {
            "gridcolor": "white",
            "linecolor": "white",
            "showgrid": true,
            "ticks": ""
           }
          },
          "xaxis": {
           "automargin": true,
           "gridcolor": "white",
           "linecolor": "white",
           "showgrid": true,
           "ticks": "",
           "title": {
            "standoff": 15
           },
           "zerolinecolor": "white"
          },
          "yaxis": {
           "automargin": true,
           "gridcolor": "white",
           "linecolor": "white",
           "showgrid": true,
           "ticks": "",
           "title": {
            "standoff": 15
           },
           "zerolinecolor": "white"
          }
         }
        },
        "title": {
         "text": "Historical floor price for degods"
        },
        "xaxis": {
         "anchor": "y",
         "autorange": true,
         "domain": [
          0,
          1
         ],
         "range": [
          "2022-11-19 00:05:07",
          "2023-11-18 00:05:48"
         ],
         "title": {
          "text": "Time"
         },
         "type": "date"
        },
        "yaxis": {
         "anchor": "x",
         "autorange": true,
         "domain": [
          0,
          1
         ],
         "range": [
          27794.7378773445,
          94881.12241935472
         ],
         "title": {
          "text": "Price [USD]"
         },
         "type": "linear"
        }
       }
      },
      "image/png": "[encoded data removed]",
      "text/html": [
       "<div>                            <div id=\"7b4871c6-a68b-4463-8527-a950e67526d8\" class=\"plotly-graph-div\" style=\"height:525px; width:100%;\"></div>            <script type=\"text/javascript\">                require([\"plotly\"], function(Plotly) {                    window.PLOTLYENV=window.PLOTLYENV || {};                                    if (document.getElementById(\"7b4871c6-a68b-4463-8527-a950e67526d8\")) {                    Plotly.newPlot(                        \"7b4871c6-a68b-4463-8527-a950e67526d8\",                        [{\"hovertemplate\":\"variable=Price_usd\\u003cbr\\u003eTime=%{x}\\u003cbr\\u003ePrice [USD]=%{y}\\u003cextra\\u003e\\u003c\\u002fextra\\u003e\",\"legendgroup\":\"Price_usd\",\"line\":{\"color\":\"rgb(76,114,176)\",\"dash\":\"solid\"},\"marker\":{\"symbol\":\"circle\"},\"mode\":\"lines\",\"name\":\"Price_usd\",\"orientation\":\"v\",\"showlegend\":true,\"x\":[\"2022-11-19T00:05:07\",\"2022-11-20T00:05:05\",\"2022-11-21T00:05:03\",\"2022-11-22T00:05:03\",\"2022-11-23T00:05:01\",\"2022-11-24T00:05:03\",\"2022-11-25T00:05:05\",\"2022-11-26T00:05:01\",\"2022-11-27T00:05:01\",\"2022-11-28T00:05:04\",\"2022-11-29T00:05:04\",\"2022-11-30T00:05:06\",\"2022-12-01T00:05:07\",\"2022-12-02T00:05:08\",\"2022-12-03T00:05:05\",\"2022-12-04T00:05:00\",\"2022-12-05T00:05:06\",\"2022-12-06T00:05:02\",\"2022-12-07T00:05:03\",\"2022-12-08T00:05:01\",\"2022-12-09T00:05:05\",\"2022-12-10T00:05:08\",\"2022-12-11T00:05:05\",\"2022-12-12T00:05:06\",\"2022-12-13T00:05:05\",\"2022-12-14T00:05:12\",\"2022-12-15T00:05:09\",\"2022-12-16T00:05:16\",\"2022-12-17T00:05:01\",\"2022-12-18T00:05:02\",\"2022-12-19T00:05:01\",\"2022-12-20T00:05:04\",\"2022-12-21T00:05:05\",\"2022-12-22T00:05:04\",\"2022-12-23T00:05:06\",\"2022-12-24T00:05:00\",\"2022-12-25T00:05:07\",\"2022-12-26T00:05:03\",\"2022-12-27T00:05:03\",\"2022-12-28T00:05:07\",\"2022-12-29T00:05:06\",\"2022-12-30T00:05:02\",\"2022-12-31T00:05:06\",\"2023-01-01T00:05:06\",\"2023-01-02T00:05:06\",\"2023-01-03T00:05:04\",\"2023-01-04T00:05:06\",\"2023-01-05T00:05:07\",\"2023-01-06T00:05:07\",\"2023-01-07T00:05:07\",\"2023-01-08T00:05:07\",\"2023-01-09T00:05:08\",\"2023-01-10T00:05:07\",\"2023-01-11T00:05:08\",\"2023-01-12T00:05:07\",\"2023-01-13T00:05:06\",\"2023-01-14T00:05:07\",\"2023-01-15T00:05:06\",\"2023-01-16T00:05:09\",\"2023-01-17T00:05:07\",\"2023-01-18T00:05:07\",\"2023-01-19T00:05:05\",\"2023-01-20T00:05:05\",\"2023-01-21T00:05:08\",\"2023-01-22T00:05:07\",\"2023-01-23T00:05:05\",\"2023-01-24T00:05:08\",\"2023-01-25T00:05:08\",\"2023-01-26T00:05:05\",\"2023-01-27T00:05:04\",\"2023-01-28T00:05:10\",\"2023-01-29T00:05:09\",\"2023-01-30T00:05:10\",\"2023-01-31T00:05:13\",\"2023-02-01T00:05:08\",\"2023-02-02T00:05:06\",\"2023-02-03T00:05:08\",\"2023-02-04T00:05:09\",\"2023-02-05T00:05:09\",\"2023-02-06T00:05:09\",\"2023-02-07T00:05:13\",\"2023-02-08T00:05:13\",\"2023-02-09T00:05:04\",\"2023-02-10T00:05:04\",\"2023-02-11T00:05:06\",\"2023-02-12T00:05:07\",\"2023-02-13T00:05:06\",\"2023-02-14T00:05:05\",\"2023-02-15T00:05:07\",\"2023-02-16T00:05:09\",\"2023-02-17T00:05:02\",\"2023-02-18T00:05:07\",\"2023-02-19T00:05:04\",\"2023-02-20T00:05:06\",\"2023-02-21T00:05:02\",\"2023-02-22T00:05:01\",\"2023-02-23T00:05:05\",\"2023-02-24T00:05:07\",\"2023-02-25T00:05:08\",\"2023-02-26T00:05:13\",\"2023-02-27T00:05:12\",\"2023-02-28T00:05:09\",\"2023-03-01T00:05:13\",\"2023-03-02T00:05:00\",\"2023-03-03T00:05:10\",\"2023-03-04T00:05:10\",\"2023-03-05T00:05:09\",\"2023-03-06T00:05:06\",\"2023-03-07T00:05:12\",\"2023-03-08T00:05:12\",\"2023-03-09T00:05:05\",\"2023-03-10T00:05:12\",\"2023-03-11T00:05:12\",\"2023-03-12T00:05:14\",\"2023-03-13T00:05:12\",\"2023-03-14T00:05:11\",\"2023-03-15T00:05:23\",\"2023-03-16T00:05:23\",\"2023-03-17T00:05:20\",\"2023-03-18T00:05:19\",\"2023-03-19T00:05:21\",\"2023-03-20T00:05:20\",\"2023-03-21T00:05:21\",\"2023-03-22T00:05:25\",\"2023-03-23T00:05:27\",\"2023-03-24T00:05:23\",\"2023-03-25T00:05:22\",\"2023-03-26T00:05:14\",\"2023-03-27T00:05:13\",\"2023-03-28T00:05:13\",\"2023-03-29T00:05:18\",\"2023-03-30T00:05:12\",\"2023-03-31T00:05:07\",\"2023-04-01T00:05:02\",\"2023-04-02T00:05:14\",\"2023-04-03T00:05:11\",\"2023-04-04T00:05:12\",\"2023-04-05T00:05:03\",\"2023-04-06T00:05:05\",\"2023-04-07T00:05:11\",\"2023-04-08T00:05:09\",\"2023-04-09T00:05:01\",\"2023-04-10T00:05:08\",\"2023-04-11T00:05:12\",\"2023-04-12T00:05:03\",\"2023-04-13T00:05:10\",\"2023-04-14T00:05:16\",\"2023-04-15T00:05:15\",\"2023-04-16T00:05:00\",\"2023-04-17T00:05:02\",\"2023-04-18T00:05:11\",\"2023-04-19T00:05:00\",\"2023-04-20T00:05:16\",\"2023-04-21T00:05:01\",\"2023-04-22T00:05:09\",\"2023-04-23T00:05:22\",\"2023-04-24T00:05:21\",\"2023-04-25T00:05:21\",\"2023-04-26T00:05:04\",\"2023-04-27T00:05:19\",\"2023-04-28T00:05:26\",\"2023-04-29T00:05:06\",\"2023-04-30T00:05:11\",\"2023-05-01T00:05:09\",\"2023-05-02T00:05:19\",\"2023-05-03T00:05:17\",\"2023-05-04T00:05:18\",\"2023-05-05T00:05:14\",\"2023-05-06T00:05:01\",\"2023-05-07T00:05:08\",\"2023-05-08T00:05:04\",\"2023-05-09T00:05:14\",\"2023-05-10T00:05:01\",\"2023-05-11T00:05:11\",\"2023-05-12T00:05:01\",\"2023-05-13T00:05:07\",\"2023-05-14T00:05:30\",\"2023-05-15T00:05:35\",\"2023-05-16T00:05:38\",\"2023-05-17T00:05:40\",\"2023-05-18T00:05:41\",\"2023-05-19T00:05:12\",\"2023-05-20T00:05:35\",\"2023-05-21T00:05:07\",\"2023-05-22T00:05:26\",\"2023-05-23T00:05:40\",\"2023-05-24T00:05:41\",\"2023-05-25T00:05:43\",\"2023-05-26T00:05:40\",\"2023-05-27T00:05:42\",\"2023-05-28T00:05:38\",\"2023-05-29T00:05:11\",\"2023-05-30T00:05:38\",\"2023-05-31T00:05:37\",\"2023-06-01T00:05:29\",\"2023-06-02T00:05:38\",\"2023-06-03T00:05:47\",\"2023-06-04T00:05:40\",\"2023-06-05T00:05:41\",\"2023-06-06T00:05:41\",\"2023-06-07T00:05:18\",\"2023-06-08T00:05:37\",\"2023-06-09T00:05:40\",\"2023-06-10T00:05:32\",\"2023-06-11T00:05:43\",\"2023-06-12T00:05:23\",\"2023-06-13T00:05:20\",\"2023-06-14T00:05:32\",\"2023-06-15T00:05:16\",\"2023-06-16T00:05:26\",\"2023-06-17T00:05:07\",\"2023-06-18T00:05:34\",\"2023-06-19T00:05:32\",\"2023-06-20T00:05:45\",\"2023-06-21T00:05:45\",\"2023-06-22T00:05:31\",\"2023-06-23T00:05:41\",\"2023-06-24T00:05:30\",\"2023-06-25T00:05:26\",\"2023-06-26T00:05:37\",\"2023-06-27T00:05:26\",\"2023-06-28T00:05:38\",\"2023-06-29T00:05:40\",\"2023-06-30T00:05:13\",\"2023-07-01T00:05:44\",\"2023-07-02T00:05:40\",\"2023-07-03T00:05:39\",\"2023-07-04T00:05:37\",\"2023-07-05T00:05:44\",\"2023-07-06T00:05:43\",\"2023-07-07T00:05:39\",\"2023-07-08T00:05:38\",\"2023-07-09T00:05:28\",\"2023-07-10T00:05:19\",\"2023-07-11T00:05:33\",\"2023-07-12T00:05:35\",\"2023-07-13T00:05:23\",\"2023-07-14T00:05:36\",\"2023-07-15T00:05:51\",\"2023-07-16T00:05:47\",\"2023-07-17T00:05:49\",\"2023-07-18T00:05:44\",\"2023-07-19T00:05:44\",\"2023-07-20T00:05:13\",\"2023-07-21T00:05:37\",\"2023-07-22T00:05:34\",\"2023-07-23T00:05:45\",\"2023-07-24T00:05:20\",\"2023-07-25T00:05:37\",\"2023-07-26T00:05:21\",\"2023-07-27T00:05:42\",\"2023-07-28T00:05:44\",\"2023-07-29T00:05:34\",\"2023-07-30T00:05:18\",\"2023-07-31T00:05:17\",\"2023-08-01T00:05:09\",\"2023-08-02T00:05:01\",\"2023-08-03T00:05:28\",\"2023-08-04T00:05:18\",\"2023-08-05T00:05:25\",\"2023-08-06T00:05:35\",\"2023-08-07T00:05:36\",\"2023-08-08T00:05:26\",\"2023-08-09T00:05:36\",\"2023-08-10T00:05:32\",\"2023-08-11T00:05:15\",\"2023-08-12T00:05:35\",\"2023-08-13T00:05:28\",\"2023-08-14T00:05:07\",\"2023-08-15T00:05:14\",\"2023-08-16T00:05:13\",\"2023-08-17T00:05:17\",\"2023-08-18T00:05:18\",\"2023-08-19T00:05:20\",\"2023-08-20T00:05:08\",\"2023-08-21T00:05:09\",\"2023-08-22T00:05:22\",\"2023-08-23T00:05:18\",\"2023-08-24T00:05:14\",\"2023-08-25T00:05:04\",\"2023-08-26T00:05:32\",\"2023-08-27T00:05:24\",\"2023-08-28T00:05:13\",\"2023-08-29T00:05:16\",\"2023-08-30T00:05:20\",\"2023-08-31T00:05:19\",\"2023-09-01T00:05:14\",\"2023-09-02T00:05:15\",\"2023-09-03T00:05:09\",\"2023-09-04T00:05:00\",\"2023-09-05T00:05:07\",\"2023-09-06T00:05:24\",\"2023-09-07T00:05:19\",\"2023-09-08T00:05:07\",\"2023-09-09T00:05:20\",\"2023-09-10T00:05:31\",\"2023-09-11T00:05:06\",\"2023-09-12T00:05:23\",\"2023-09-13T00:05:09\",\"2023-09-14T00:05:34\",\"2023-09-15T00:05:12\",\"2023-09-16T00:05:28\",\"2023-09-17T00:05:18\",\"2023-09-18T00:05:34\",\"2023-09-19T00:05:33\",\"2023-09-20T00:05:31\",\"2023-09-21T00:05:03\",\"2023-09-22T00:05:05\",\"2023-09-23T00:05:19\",\"2023-09-24T00:05:05\",\"2023-09-25T00:05:07\",\"2023-09-26T00:05:07\",\"2023-09-27T00:05:42\",\"2023-09-28T00:05:30\",\"2023-09-29T00:05:38\",\"2023-09-30T00:05:36\",\"2023-10-01T00:05:25\",\"2023-10-02T00:05:28\",\"2023-10-03T00:05:39\",\"2023-10-04T00:05:20\",\"2023-10-05T00:05:21\",\"2023-10-06T00:05:26\",\"2023-10-07T00:05:00\",\"2023-10-08T00:05:00\",\"2023-10-09T00:05:05\",\"2023-10-10T00:05:23\",\"2023-10-11T00:05:41\",\"2023-10-12T00:05:34\",\"2023-10-13T00:05:42\",\"2023-10-14T00:05:41\",\"2023-10-15T00:05:39\",\"2023-10-16T00:05:50\",\"2023-10-17T00:05:48\",\"2023-10-18T00:05:09\",\"2023-10-19T00:05:03\",\"2023-10-20T00:05:12\",\"2023-10-21T00:05:03\",\"2023-10-22T00:05:22\",\"2023-10-23T00:05:37\",\"2023-10-24T00:05:18\",\"2023-10-25T00:05:17\",\"2023-10-26T00:05:28\",\"2023-10-27T00:05:12\",\"2023-10-28T00:05:12\",\"2023-10-29T00:05:03\",\"2023-10-30T00:05:21\",\"2023-10-31T00:05:13\",\"2023-11-01T00:05:45\",\"2023-11-02T00:05:32\",\"2023-11-03T00:05:38\",\"2023-11-04T00:05:34\",\"2023-11-05T00:05:06\",\"2023-11-06T00:05:14\",\"2023-11-07T00:05:32\",\"2023-11-08T00:05:02\",\"2023-11-09T00:05:49\",\"2023-11-10T00:05:34\",\"2023-11-11T00:05:24\",\"2023-11-12T00:05:43\",\"2023-11-13T00:05:25\",\"2023-11-14T00:05:43\",\"2023-11-15T00:05:30\",\"2023-11-16T00:05:14\",\"2023-11-17T00:05:46\",\"2023-11-18T00:05:48\"],\"xaxis\":\"x\",\"y\":[33960.4369870213,37305.69722956575,35022.93191971804,31149.05710444501,34873.22260511438,33276.35640901961,36860.46860668199,33640.45469514366,33853.515612119234,33572.033069313744,35121.22225503522,38951.48704470272,41626.72586925552,46047.23072395121,46797.797762395814,44761.38293209212,46115.574753202956,45359.14429581037,45767.81317445798,48089.371521208755,50018.405681759854,49256.28628676582,48289.25559852882,47880.99430050503,48490.11983793858,50207.99340076269,49760.028318569784,56775.1566381057,52360.134079399315,43875.86887268331,43704.67960508526,41749.98727523609,43498.50827784478,43367.95668491899,39723.615310454144,45171.16075097475,42751.40832303187,42676.117589658315,42910.93932849122,44039.609506988214,43257.27851346442,40300.36694878886,40227.05439399269,40126.80502787808,40277.370010862265,40729.66580906471,40743.05354914208,42159.913988304084,40794.370527962805,41378.26015156488,41239.29105854932,42065.14324215471,43074.70311332772,52125.395474356585,53375.47018001398,55257.31503356185,56563.82785989203,61243.70996221742,61037.343767292536,55085.79613946951,54669.15323805828,53203.2007358687,54109.79825315202,57674.742058736716,56830.57818202572,54995.99736875809,56815.84755252397,54379.48905797631,54586.66861223619,54278.32900607102,54143.62028886322,57956.27158037323,55659.93314621586,53021.34890044838,52001.93193697041,50044.26547122999,50307.19739412441,50729.37035318158,58755.72351857852,57122.91741718475,56442.429304239755,58582.44876427839,57793.68836981498,54135.88952525292,53004.19348615206,53957.88010886238,47798.76153055528,42498.922018654055,43861.02159146392,56922.338931773775,53890.60961663373,46850.68623846922,50753.4448364395,54926.75372940091,49803.74995728985,44965.2909980767,57460.213573480934,44847.727681672244,41587.32260285113,55808.556031052474,57410.90850240036,57160.4345754364,56268.51865418924,91526.80319225421,54412.329853794065,51821.94792572282,51775.568875803,43800.5969041375,51705.61649558395,51552.269556632426,46036.30437159366,43149.18160599093,42855.3454776492,44173.99563204939,47770.72509111945,46595.89049887356,46909.23476154941,45732.126160908054,47599.04696497327,50840.468214211505,49782.66075105781,50835.49649377542,73407.09287909146,75981.07297646829,48877.76257928606,49342.81792442674,67794.03677775533,58371.6795809158,59366.29748372321,57276.76838145925,59226.1463686506,59934.806377311696,59272.0770859275,60214.12804856008,60205.815400198546,59295.44622972383,56165.058897192604,58044.07284285957,59192.01863326688,58086.05977094525,57836.52861287452,55551.92093886279,55822.99894170534,57428.00261527746,56784.28315938849,57723.09531221595,60260.02632332517,63111.32567204526,62793.25500611148,63607.87705770522,62360.71713650595,63200.73678285225,57952.44785235132,58269.56248856448,55503.57787502655,56378.53375344933,55935.08065716963,55291.66031664096,55968.98475761115,55895.41394787531,57305.21886446181,56792.13332422464,57197.69497606005,56305.297460052,54977.73364363113,56140.80778351965,57090.86600849496,56293.72460551188,59849.06773223673,56982.67596416796,55483.687947914805,53605.1347552354,53576.31331510999,53367.03502158419,52080.0676913003,50628.70279314274,50272.31351172134,50324.83725112723,50776.827941935255,51034.19643550656,50805.8276422592,50277.230365214855,61325.239413848554,61561.32663715576,61077.452574803756,56386.29339202917,57514.67253049494,55789.07072684433,55996.190472614704,56715.44114089157,56732.175914048436,59297.64705052488,58679.953116495446,58900.86037061474,58128.33434405146,57703.50982137593,59072.11396071949,58681.49566202474,58647.90336775804,56224.89186157533,58369.945545802395,56775.22264013982,57263.81784093503,56947.36098777279,54372.00879708292,54330.13843019454,52254.062613862996,52179.45007949229,49465.84637973807,49926.433214131546,51483.53554354651,51868.2420666689,51580.1033172224,52021.89302043044,53605.71203388106,56784.94240021893,54399.61098244143,66230.49604010451,65319.16750095058,66086.00141923504,64710.972247181846,65730.58002760894,62980.80880541252,64488.39018494043,67233.4399267942,66905.31228708572,67365.65023471107,66443.86624036993,65821.46778341541,65051.438666960246,63170.3748905487,63534.582879339985,63401.36526738659,63304.71076433443,63362.50877275667,63254.34407391416,63058.59186377913,63095.90307199052,65115.010841712785,65031.80232812223,64791.505479679065,64414.56155358223,63989.98339112808,63657.26839719772,63713.55840187845,63716.70491478027,62539.42751923213,63643.47765785054,62345.83333891863,57444.856453994966,57859.762212365815,57451.26131815516,57956.30455826514,58136.09686624661,57569.017610806055,61782.488324578895,62479.99014154707,60859.37941931709,60759.83439698602,60495.68350573652,60727.948379996116,60448.75497068153,59390.6113280025,64961.328849530015,64937.98373269501,64784.683385191594,64686.82706850399,64699.56455716313,64376.88627132725,59933.80676320495,56254.98296881001,58660.605348508056,56386.9469269436,53999.17375514425,55905.37595507815,56450.236478904204,54208.79370295548,54738.67405601212,55058.46530012366,53897.840186971785,54222.63619393852,55145.95925800644,57669.04005935946,57845.34760876519,60531.41955605546,55426.9543037977,57409.25962973258,56893.930632654534,57288.41822375364,53162.24876140227,52810.02702842324,53057.599409209106,55334.804203142165,58898.38212048429,58527.84812258082,58808.862676422046,58044.75068652588,56653.13884167826,58184.71540133296,58488.31757635134,59173.460178271125,65360.168582673236,65351.65101108122,52644.87559743405,57301.94512938651,57517.62008980288,50251.35877099413,49089.44025054586,49404.944258422416,46202.21291506285,45766.6003768383,46011.684125255866,46187.72987662814,39939.50820805167,41313.9088059177,41689.945481980925,57149.89776385629,51834.942919231165,56507.94848002284,53832.45450586146,54278.01276289673,53094.19152258198,54142.70073285305,61297.17477705926,61240.82268175616,53683.36522657841,53349.955176004136,53259.20652443131,52291.812627337764,52726.345160965066,51335.75122268093,51385.20443211966,40014.8888815662,39134.422244242975,56297.54819543908,39132.34801906683,40122.77646808155,40733.333181833674,41554.5212550265,44207.31936832298,44650.75495641452,33957.30362161036,48680.84001074079,44504.27205176325,44346.8314265246,44920.6168121222,45185.388242730776,45317.11253662118,46158.255503371576,44988.82020383808,44883.6440607194,45655.0129967058,46434.34923836831,45619.93469047359,45248.96463040555,45438.4333292586,50981.74842799994,49880.7644671002,49006.458018496705,49009.269653484145,49361.163940564584,47485.77840899052,49461.21999897141,68341.15587631284,46179.09626003417],\"yaxis\":\"y\",\"type\":\"scatter\"}],                        {\"template\":{\"data\":{\"barpolar\":[{\"marker\":{\"line\":{\"color\":\"rgb(234,234,242)\",\"width\":0.5},\"pattern\":{\"fillmode\":\"overlay\",\"size\":10,\"solidity\":0.2}},\"type\":\"barpolar\"}],\"bar\":[{\"error_x\":{\"color\":\"rgb(36,36,36)\"},\"error_y\":{\"color\":\"rgb(36,36,36)\"},\"marker\":{\"line\":{\"color\":\"rgb(234,234,242)\",\"width\":0.5},\"pattern\":{\"fillmode\":\"overlay\",\"size\":10,\"solidity\":0.2}},\"type\":\"bar\"}],\"carpet\":[{\"aaxis\":{\"endlinecolor\":\"rgb(36,36,36)\",\"gridcolor\":\"white\",\"linecolor\":\"white\",\"minorgridcolor\":\"white\",\"startlinecolor\":\"rgb(36,36,36)\"},\"baxis\":{\"endlinecolor\":\"rgb(36,36,36)\",\"gridcolor\":\"white\",\"linecolor\":\"white\",\"minorgridcolor\":\"white\",\"startlinecolor\":\"rgb(36,36,36)\"},\"type\":\"carpet\"}],\"choropleth\":[{\"colorbar\":{\"outlinewidth\":0,\"tickcolor\":\"rgb(36,36,36)\",\"ticklen\":8,\"ticks\":\"outside\",\"tickwidth\":2},\"type\":\"choropleth\"}],\"contourcarpet\":[{\"colorbar\":{\"outlinewidth\":0,\"tickcolor\":\"rgb(36,36,36)\",\"ticklen\":8,\"ticks\":\"outside\",\"tickwidth\":2},\"type\":\"contourcarpet\"}],\"contour\":[{\"colorbar\":{\"outlinewidth\":0,\"tickcolor\":\"rgb(36,36,36)\",\"ticklen\":8,\"ticks\":\"outside\",\"tickwidth\":2},\"colorscale\":[[0.0,\"rgb(2,4,25)\"],[0.06274509803921569,\"rgb(24,15,41)\"],[0.12549019607843137,\"rgb(47,23,57)\"],[0.18823529411764706,\"rgb(71,28,72)\"],[0.25098039215686274,\"rgb(97,30,82)\"],[0.3137254901960784,\"rgb(123,30,89)\"],[0.3764705882352941,\"rgb(150,27,91)\"],[0.4392156862745098,\"rgb(177,22,88)\"],[0.5019607843137255,\"rgb(203,26,79)\"],[0.5647058823529412,\"rgb(223,47,67)\"],[0.6274509803921569,\"rgb(236,76,61)\"],[0.6901960784313725,\"rgb(242,107,73)\"],[0.7529411764705882,\"rgb(244,135,95)\"],[0.8156862745098039,\"rgb(245,162,122)\"],[0.8784313725490196,\"rgb(246,188,153)\"],[0.9411764705882353,\"rgb(247,212,187)\"],[1.0,\"rgb(250,234,220)\"]],\"type\":\"contour\"}],\"heatmapgl\":[{\"colorbar\":{\"outlinewidth\":0,\"tickcolor\":\"rgb(36,36,36)\",\"ticklen\":8,\"ticks\":\"outside\",\"tickwidth\":2},\"colorscale\":[[0.0,\"rgb(2,4,25)\"],[0.06274509803921569,\"rgb(24,15,41)\"],[0.12549019607843137,\"rgb(47,23,57)\"],[0.18823529411764706,\"rgb(71,28,72)\"],[0.25098039215686274,\"rgb(97,30,82)\"],[0.3137254901960784,\"rgb(123,30,89)\"],[0.3764705882352941,\"rgb(150,27,91)\"],[0.4392156862745098,\"rgb(177,22,88)\"],[0.5019607843137255,\"rgb(203,26,79)\"],[0.5647058823529412,\"rgb(223,47,67)\"],[0.6274509803921569,\"rgb(236,76,61)\"],[0.6901960784313725,\"rgb(242,107,73)\"],[0.7529411764705882,\"rgb(244,135,95)\"],[0.8156862745098039,\"rgb(245,162,122)\"],[0.8784313725490196,\"rgb(246,188,153)\"],[0.9411764705882353,\"rgb(247,212,187)\"],[1.0,\"rgb(250,234,220)\"]],\"type\":\"heatmapgl\"}],\"heatmap\":[{\"colorbar\":{\"outlinewidth\":0,\"tickcolor\":\"rgb(36,36,36)\",\"ticklen\":8,\"ticks\":\"outside\",\"tickwidth\":2},\"colorscale\":[[0.0,\"rgb(2,4,25)\"],[0.06274509803921569,\"rgb(24,15,41)\"],[0.12549019607843137,\"rgb(47,23,57)\"],[0.18823529411764706,\"rgb(71,28,72)\"],[0.25098039215686274,\"rgb(97,30,82)\"],[0.3137254901960784,\"rgb(123,30,89)\"],[0.3764705882352941,\"rgb(150,27,91)\"],[0.4392156862745098,\"rgb(177,22,88)\"],[0.5019607843137255,\"rgb(203,26,79)\"],[0.5647058823529412,\"rgb(223,47,67)\"],[0.6274509803921569,\"rgb(236,76,61)\"],[0.6901960784313725,\"rgb(242,107,73)\"],[0.7529411764705882,\"rgb(244,135,95)\"],[0.8156862745098039,\"rgb(245,162,122)\"],[0.8784313725490196,\"rgb(246,188,153)\"],[0.9411764705882353,\"rgb(247,212,187)\"],[1.0,\"rgb(250,234,220)\"]],\"type\":\"heatmap\"}],\"histogram2dcontour\":[{\"colorbar\":{\"outlinewidth\":0,\"tickcolor\":\"rgb(36,36,36)\",\"ticklen\":8,\"ticks\":\"outside\",\"tickwidth\":2},\"colorscale\":[[0.0,\"rgb(2,4,25)\"],[0.06274509803921569,\"rgb(24,15,41)\"],[0.12549019607843137,\"rgb(47,23,57)\"],[0.18823529411764706,\"rgb(71,28,72)\"],[0.25098039215686274,\"rgb(97,30,82)\"],[0.3137254901960784,\"rgb(123,30,89)\"],[0.3764705882352941,\"rgb(150,27,91)\"],[0.4392156862745098,\"rgb(177,22,88)\"],[0.5019607843137255,\"rgb(203,26,79)\"],[0.5647058823529412,\"rgb(223,47,67)\"],[0.6274509803921569,\"rgb(236,76,61)\"],[0.6901960784313725,\"rgb(242,107,73)\"],[0.7529411764705882,\"rgb(244,135,95)\"],[0.8156862745098039,\"rgb(245,162,122)\"],[0.8784313725490196,\"rgb(246,188,153)\"],[0.9411764705882353,\"rgb(247,212,187)\"],[1.0,\"rgb(250,234,220)\"]],\"type\":\"histogram2dcontour\"}],\"histogram2d\":[{\"colorbar\":{\"outlinewidth\":0,\"tickcolor\":\"rgb(36,36,36)\",\"ticklen\":8,\"ticks\":\"outside\",\"tickwidth\":2},\"colorscale\":[[0.0,\"rgb(2,4,25)\"],[0.06274509803921569,\"rgb(24,15,41)\"],[0.12549019607843137,\"rgb(47,23,57)\"],[0.18823529411764706,\"rgb(71,28,72)\"],[0.25098039215686274,\"rgb(97,30,82)\"],[0.3137254901960784,\"rgb(123,30,89)\"],[0.3764705882352941,\"rgb(150,27,91)\"],[0.4392156862745098,\"rgb(177,22,88)\"],[0.5019607843137255,\"rgb(203,26,79)\"],[0.5647058823529412,\"rgb(223,47,67)\"],[0.6274509803921569,\"rgb(236,76,61)\"],[0.6901960784313725,\"rgb(242,107,73)\"],[0.7529411764705882,\"rgb(244,135,95)\"],[0.8156862745098039,\"rgb(245,162,122)\"],[0.8784313725490196,\"rgb(246,188,153)\"],[0.9411764705882353,\"rgb(247,212,187)\"],[1.0,\"rgb(250,234,220)\"]],\"type\":\"histogram2d\"}],\"histogram\":[{\"marker\":{\"pattern\":{\"fillmode\":\"overlay\",\"size\":10,\"solidity\":0.2}},\"type\":\"histogram\"}],\"mesh3d\":[{\"colorbar\":{\"outlinewidth\":0,\"tickcolor\":\"rgb(36,36,36)\",\"ticklen\":8,\"ticks\":\"outside\",\"tickwidth\":2},\"type\":\"mesh3d\"}],\"parcoords\":[{\"line\":{\"colorbar\":{\"outlinewidth\":0,\"tickcolor\":\"rgb(36,36,36)\",\"ticklen\":8,\"ticks\":\"outside\",\"tickwidth\":2}},\"type\":\"parcoords\"}],\"pie\":[{\"automargin\":true,\"type\":\"pie\"}],\"scatter3d\":[{\"line\":{\"colorbar\":{\"outlinewidth\":0,\"tickcolor\":\"rgb(36,36,36)\",\"ticklen\":8,\"ticks\":\"outside\",\"tickwidth\":2}},\"marker\":{\"colorbar\":{\"outlinewidth\":0,\"tickcolor\":\"rgb(36,36,36)\",\"ticklen\":8,\"ticks\":\"outside\",\"tickwidth\":2}},\"type\":\"scatter3d\"}],\"scattercarpet\":[{\"marker\":{\"colorbar\":{\"outlinewidth\":0,\"tickcolor\":\"rgb(36,36,36)\",\"ticklen\":8,\"ticks\":\"outside\",\"tickwidth\":2}},\"type\":\"scattercarpet\"}],\"scattergeo\":[{\"marker\":{\"colorbar\":{\"outlinewidth\":0,\"tickcolor\":\"rgb(36,36,36)\",\"ticklen\":8,\"ticks\":\"outside\",\"tickwidth\":2}},\"type\":\"scattergeo\"}],\"scattergl\":[{\"marker\":{\"colorbar\":{\"outlinewidth\":0,\"tickcolor\":\"rgb(36,36,36)\",\"ticklen\":8,\"ticks\":\"outside\",\"tickwidth\":2}},\"type\":\"scattergl\"}],\"scattermapbox\":[{\"marker\":{\"colorbar\":{\"outlinewidth\":0,\"tickcolor\":\"rgb(36,36,36)\",\"ticklen\":8,\"ticks\":\"outside\",\"tickwidth\":2}},\"type\":\"scattermapbox\"}],\"scatterpolargl\":[{\"marker\":{\"colorbar\":{\"outlinewidth\":0,\"tickcolor\":\"rgb(36,36,36)\",\"ticklen\":8,\"ticks\":\"outside\",\"tickwidth\":2}},\"type\":\"scatterpolargl\"}],\"scatterpolar\":[{\"marker\":{\"colorbar\":{\"outlinewidth\":0,\"tickcolor\":\"rgb(36,36,36)\",\"ticklen\":8,\"ticks\":\"outside\",\"tickwidth\":2}},\"type\":\"scatterpolar\"}],\"scatter\":[{\"fillpattern\":{\"fillmode\":\"overlay\",\"size\":10,\"solidity\":0.2},\"type\":\"scatter\"}],\"scatterternary\":[{\"marker\":{\"colorbar\":{\"outlinewidth\":0,\"tickcolor\":\"rgb(36,36,36)\",\"ticklen\":8,\"ticks\":\"outside\",\"tickwidth\":2}},\"type\":\"scatterternary\"}],\"surface\":[{\"colorbar\":{\"outlinewidth\":0,\"tickcolor\":\"rgb(36,36,36)\",\"ticklen\":8,\"ticks\":\"outside\",\"tickwidth\":2},\"colorscale\":[[0.0,\"rgb(2,4,25)\"],[0.06274509803921569,\"rgb(24,15,41)\"],[0.12549019607843137,\"rgb(47,23,57)\"],[0.18823529411764706,\"rgb(71,28,72)\"],[0.25098039215686274,\"rgb(97,30,82)\"],[0.3137254901960784,\"rgb(123,30,89)\"],[0.3764705882352941,\"rgb(150,27,91)\"],[0.4392156862745098,\"rgb(177,22,88)\"],[0.5019607843137255,\"rgb(203,26,79)\"],[0.5647058823529412,\"rgb(223,47,67)\"],[0.6274509803921569,\"rgb(236,76,61)\"],[0.6901960784313725,\"rgb(242,107,73)\"],[0.7529411764705882,\"rgb(244,135,95)\"],[0.8156862745098039,\"rgb(245,162,122)\"],[0.8784313725490196,\"rgb(246,188,153)\"],[0.9411764705882353,\"rgb(247,212,187)\"],[1.0,\"rgb(250,234,220)\"]],\"type\":\"surface\"}],\"table\":[{\"cells\":{\"fill\":{\"color\":\"rgb(231,231,240)\"},\"line\":{\"color\":\"white\"}},\"header\":{\"fill\":{\"color\":\"rgb(183,183,191)\"},\"line\":{\"color\":\"white\"}},\"type\":\"table\"}]},\"layout\":{\"annotationdefaults\":{\"arrowcolor\":\"rgb(67,103,167)\"},\"autotypenumbers\":\"strict\",\"coloraxis\":{\"colorbar\":{\"outlinewidth\":0,\"tickcolor\":\"rgb(36,36,36)\",\"ticklen\":8,\"ticks\":\"outside\",\"tickwidth\":2}},\"colorscale\":{\"sequential\":[[0.0,\"rgb(2,4,25)\"],[0.06274509803921569,\"rgb(24,15,41)\"],[0.12549019607843137,\"rgb(47,23,57)\"],[0.18823529411764706,\"rgb(71,28,72)\"],[0.25098039215686274,\"rgb(97,30,82)\"],[0.3137254901960784,\"rgb(123,30,89)\"],[0.3764705882352941,\"rgb(150,27,91)\"],[0.4392156862745098,\"rgb(177,22,88)\"],[0.5019607843137255,\"rgb(203,26,79)\"],[0.5647058823529412,\"rgb(223,47,67)\"],[0.6274509803921569,\"rgb(236,76,61)\"],[0.6901960784313725,\"rgb(242,107,73)\"],[0.7529411764705882,\"rgb(244,135,95)\"],[0.8156862745098039,\"rgb(245,162,122)\"],[0.8784313725490196,\"rgb(246,188,153)\"],[0.9411764705882353,\"rgb(247,212,187)\"],[1.0,\"rgb(250,234,220)\"]],\"sequentialminus\":[[0.0,\"rgb(2,4,25)\"],[0.06274509803921569,\"rgb(24,15,41)\"],[0.12549019607843137,\"rgb(47,23,57)\"],[0.18823529411764706,\"rgb(71,28,72)\"],[0.25098039215686274,\"rgb(97,30,82)\"],[0.3137254901960784,\"rgb(123,30,89)\"],[0.3764705882352941,\"rgb(150,27,91)\"],[0.4392156862745098,\"rgb(177,22,88)\"],[0.5019607843137255,\"rgb(203,26,79)\"],[0.5647058823529412,\"rgb(223,47,67)\"],[0.6274509803921569,\"rgb(236,76,61)\"],[0.6901960784313725,\"rgb(242,107,73)\"],[0.7529411764705882,\"rgb(244,135,95)\"],[0.8156862745098039,\"rgb(245,162,122)\"],[0.8784313725490196,\"rgb(246,188,153)\"],[0.9411764705882353,\"rgb(247,212,187)\"],[1.0,\"rgb(250,234,220)\"]]},\"colorway\":[\"rgb(76,114,176)\",\"rgb(221,132,82)\",\"rgb(85,168,104)\",\"rgb(196,78,82)\",\"rgb(129,114,179)\",\"rgb(147,120,96)\",\"rgb(218,139,195)\",\"rgb(140,140,140)\",\"rgb(204,185,116)\",\"rgb(100,181,205)\"],\"font\":{\"color\":\"rgb(36,36,36)\"},\"geo\":{\"bgcolor\":\"white\",\"lakecolor\":\"white\",\"landcolor\":\"rgb(234,234,242)\",\"showlakes\":true,\"showland\":true,\"subunitcolor\":\"white\"},\"hoverlabel\":{\"align\":\"left\"},\"hovermode\":\"closest\",\"paper_bgcolor\":\"white\",\"plot_bgcolor\":\"rgb(234,234,242)\",\"polar\":{\"angularaxis\":{\"gridcolor\":\"white\",\"linecolor\":\"white\",\"showgrid\":true,\"ticks\":\"\"},\"bgcolor\":\"rgb(234,234,242)\",\"radialaxis\":{\"gridcolor\":\"white\",\"linecolor\":\"white\",\"showgrid\":true,\"ticks\":\"\"}},\"scene\":{\"xaxis\":{\"backgroundcolor\":\"rgb(234,234,242)\",\"gridcolor\":\"white\",\"gridwidth\":2,\"linecolor\":\"white\",\"showbackground\":true,\"showgrid\":true,\"ticks\":\"\",\"zerolinecolor\":\"white\"},\"yaxis\":{\"backgroundcolor\":\"rgb(234,234,242)\",\"gridcolor\":\"white\",\"gridwidth\":2,\"linecolor\":\"white\",\"showbackground\":true,\"showgrid\":true,\"ticks\":\"\",\"zerolinecolor\":\"white\"},\"zaxis\":{\"backgroundcolor\":\"rgb(234,234,242)\",\"gridcolor\":\"white\",\"gridwidth\":2,\"linecolor\":\"white\",\"showbackground\":true,\"showgrid\":true,\"ticks\":\"\",\"zerolinecolor\":\"white\"}},\"shapedefaults\":{\"fillcolor\":\"rgb(67,103,167)\",\"line\":{\"width\":0},\"opacity\":0.5},\"ternary\":{\"aaxis\":{\"gridcolor\":\"white\",\"linecolor\":\"white\",\"showgrid\":true,\"ticks\":\"\"},\"baxis\":{\"gridcolor\":\"white\",\"linecolor\":\"white\",\"showgrid\":true,\"ticks\":\"\"},\"bgcolor\":\"rgb(234,234,242)\",\"caxis\":{\"gridcolor\":\"white\",\"linecolor\":\"white\",\"showgrid\":true,\"ticks\":\"\"}},\"xaxis\":{\"automargin\":true,\"gridcolor\":\"white\",\"linecolor\":\"white\",\"showgrid\":true,\"ticks\":\"\",\"title\":{\"standoff\":15},\"zerolinecolor\":\"white\"},\"yaxis\":{\"automargin\":true,\"gridcolor\":\"white\",\"linecolor\":\"white\",\"showgrid\":true,\"ticks\":\"\",\"title\":{\"standoff\":15},\"zerolinecolor\":\"white\"}}},\"xaxis\":{\"anchor\":\"y\",\"domain\":[0.0,1.0],\"title\":{\"text\":\"Time\"}},\"yaxis\":{\"anchor\":\"x\",\"domain\":[0.0,1.0],\"title\":{\"text\":\"Price [USD]\"}},\"legend\":{\"title\":{\"text\":\"variable\"},\"tracegroupgap\":0},\"title\":{\"text\":\"Historical floor price for degods\"}},                        {\"responsive\": true}                    ).then(function(){\n",
       "                            \n",
       "var gd = document.getElementById('7b4871c6-a68b-4463-8527-a950e67526d8');\n",
       "var x = new MutationObserver(function (mutations, observer) {{\n",
       "        var display = window.getComputedStyle(gd).display;\n",
       "        if (!display || display === 'none') {{\n",
       "            console.log([gd, 'removed!']);\n",
       "            Plotly.purge(gd);\n",
       "            observer.disconnect();\n",
       "        }}\n",
       "}});\n",
       "\n",
       "// Listen for the removal of the full notebook cells\n",
       "var notebookContainer = gd.closest('#notebook-container');\n",
       "if (notebookContainer) {{\n",
       "    x.observe(notebookContainer, {childList: true});\n",
       "}}\n",
       "\n",
       "// Listen for the clearing of the current output cell\n",
       "var outputEl = gd.closest('.output');\n",
       "if (outputEl) {{\n",
       "    x.observe(outputEl, {childList: true});\n",
       "}}\n",
       "\n",
       "                        })                };                });            </script>        </div>"
      ]
     },
     "metadata": {},
     "output_type": "display_data"
    }
   ],
   "source": [
    "fig1.show()"
   ]
  },
  {
   "cell_type": "code",
   "execution_count": 32,
   "id": "483896f8-8408-4fed-80f7-f475c3bda614",
   "metadata": {
    "tags": []
   },
   "outputs": [],
   "source": [
    "def plot_nft_hist(nft_id, num_days):\n",
    "    df_hist = get_nft_hist(nft_id, num_days)\n",
    "    fig = df_hist.plot(title = f\"Historical floor price for {nft_id}\",\n",
    "                       template = \"seaborn\",\n",
    "                       labels = dict(index = \"Time\", value = \"Price [USD]\"))\n",
    "    fig = go.Figure(fig)\n",
    "    return fig   \n",
    "    "
   ]
  },
  {
   "cell_type": "markdown",
   "id": "32b87708-23a6-487c-bdb6-4a2a47f7a654",
   "metadata": {},
   "source": [
    "## Dash app"
   ]
  },
  {
   "cell_type": "code",
   "execution_count": 34,
   "id": "c72b7459-4640-430c-9a97-fc447cc61a39",
   "metadata": {
    "tags": []
   },
   "outputs": [],
   "source": [
    "import dash\n",
    "from dash import html\n",
    "from dash import dcc\n",
    "import plotly.graph_objects as go\n",
    "import plotly.express as px\n",
    "from dash.dependencies import Input, Output  "
   ]
  },
  {
   "cell_type": "markdown",
   "id": "07386df1-8868-423f-8321-90b0dd58b611",
   "metadata": {},
   "source": [
    "#### Layout with dropdown"
   ]
  },
  {
   "cell_type": "code",
   "execution_count": 35,
   "id": "ea356168-f0bb-4c02-8f4c-d486fe44c33e",
   "metadata": {
    "tags": []
   },
   "outputs": [],
   "source": [
    "app = dash.Dash()\n",
    "\n",
    "app.layout = html.Div(id = 'parent', children = [\n",
    "    html.H1(id = 'H1', children = 'NFT Floor Price Tracker', \n",
    "                       style = {'textAlign':'center', 'marginTop':40, 'marginBottom':40}),\n",
    "    \n",
    "    dcc.Dropdown( id = 'NFT ID',\n",
    "    options = [\n",
    "    {'label': 'bitcoin-frogs', 'value':'bitcoin-frogs' },\n",
    "    {'label': 'mutant-ape-yacht-club', 'value':'mutant-ape-yacht-club'},\n",
    "    {'label': 'mad-lads', 'value':'mad-lads'},\n",
    "    ],\n",
    "    value = 'pudgy-penguins'),\n",
    "    \n",
    "    dcc.Graph(id = 'line_plot')\n",
    "   ])"
   ]
  },
  {
   "cell_type": "code",
   "execution_count": null,
   "id": "a7a4a4bc-34f2-4460-b6e6-a2253aac5c5e",
   "metadata": {
    "tags": []
   },
   "outputs": [],
   "source": []
  },
  {
   "cell_type": "markdown",
   "id": "1424397f-626b-4ea3-850d-bce815bb268f",
   "metadata": {
    "tags": []
   },
   "source": [
    "#### Callback"
   ]
  },
  {
   "cell_type": "code",
   "execution_count": 36,
   "id": "561595d4-7165-448b-a9b0-5b1b2cd1141b",
   "metadata": {
    "tags": []
   },
   "outputs": [],
   "source": [
    "@app.callback(Output(component_id = 'line_plot', component_property = 'figure'),\n",
    "              [Input(component_id = 'NFT ID', component_property= 'value')])\n",
    "def graph_update(dropdown_value):\n",
    "    return plot_nft_hist(dropdown_value, 180)"
   ]
  },
  {
   "cell_type": "code",
   "execution_count": 37,
   "id": "938b50b3-9315-48ea-bc3a-a9e915877a5a",
   "metadata": {
    "tags": []
   },
   "outputs": [
    {
     "data": {
      "text/html": [
       "\n",
       "        <iframe\n",
       "            width=\"100%\"\n",
       "            height=\"650\"\n",
       "            src=\"http://127.0.0.1:8050/\"\n",
       "            frameborder=\"0\"\n",
       "            allowfullscreen\n",
       "            \n",
       "        ></iframe>\n",
       "        "
      ],
      "text/plain": [
       "<IPython.lib.display.IFrame at 0x7f35dc8b66b0>"
      ]
     },
     "metadata": {},
     "output_type": "display_data"
    }
   ],
   "source": [
    "if __name__ == '__main__': \n",
    "    app.run_server()"
   ]
  },
  {
   "cell_type": "code",
   "execution_count": 68,
   "id": "432ac24f-a074-44d5-b9cb-57dcebdca06c",
   "metadata": {},
   "outputs": [],
   "source": [
    "colors = ['red'] * 5"
   ]
  },
  {
   "cell_type": "code",
   "execution_count": 69,
   "id": "31c98ddf-d686-4ce7-acf9-02d93967c530",
   "metadata": {
    "tags": []
   },
   "outputs": [
    {
     "data": {
      "text/plain": [
       "['red', 'red', 'red', 'red', 'red']"
      ]
     },
     "execution_count": 69,
     "metadata": {},
     "output_type": "execute_result"
    }
   ],
   "source": [
    "colors"
   ]
  },
  {
   "cell_type": "code",
   "execution_count": 70,
   "id": "cbd43bff-63ee-4c73-85be-42bc319e3a30",
   "metadata": {
    "tags": []
   },
   "outputs": [
    {
     "data": {
      "text/plain": [
       "'red'"
      ]
     },
     "execution_count": 70,
     "metadata": {},
     "output_type": "execute_result"
    }
   ],
   "source": [
    "colors[1]"
   ]
  },
  {
   "cell_type": "code",
   "execution_count": null,
   "id": "52472a47-ba63-4c93-b9a1-3ac052fcd0ae",
   "metadata": {},
   "outputs": [],
   "source": []
  }
 ],
 "metadata": {
  "kernelspec": {
   "display_name": "Python 3 (ipykernel)",
   "language": "python",
   "name": "python3"
  },
  "language_info": {
   "codemirror_mode": {
    "name": "ipython",
    "version": 3
   },
   "file_extension": ".py",
   "mimetype": "text/x-python",
   "name": "python",
   "nbconvert_exporter": "python",
   "pygments_lexer": "ipython3",
   "version": "3.10.12"
  }
 },
 "nbformat": 4,
 "nbformat_minor": 5
}
